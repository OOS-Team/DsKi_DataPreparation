{
 "cells": [
  {
   "attachments": {},
   "cell_type": "markdown",
   "metadata": {},
   "source": [
    "# Aufgaben 4, 7, 8"
   ]
  },
  {
   "attachments": {},
   "cell_type": "markdown",
   "metadata": {},
   "source": [
    "Bibs"
   ]
  },
  {
   "cell_type": "code",
   "execution_count": 2,
   "metadata": {},
   "outputs": [
    {
     "name": "stdout",
     "output_type": "stream",
     "text": [
      "Exception reporting mode: Minimal\n"
     ]
    }
   ],
   "source": [
    "import pandas as pd\n",
    "import os\n",
    "%xmode minimal\n",
    "pd.set_option(\"mode.copy_on_write\", True)"
   ]
  },
  {
   "attachments": {},
   "cell_type": "markdown",
   "metadata": {},
   "source": [
    "Daten laden"
   ]
  },
  {
   "cell_type": "code",
   "execution_count": 3,
   "metadata": {},
   "outputs": [
    {
     "data": {
      "text/html": [
       "<div>\n",
       "<style scoped>\n",
       "    .dataframe tbody tr th:only-of-type {\n",
       "        vertical-align: middle;\n",
       "    }\n",
       "\n",
       "    .dataframe tbody tr th {\n",
       "        vertical-align: top;\n",
       "    }\n",
       "\n",
       "    .dataframe thead th {\n",
       "        text-align: right;\n",
       "    }\n",
       "</style>\n",
       "<table border=\"1\" class=\"dataframe\">\n",
       "  <thead>\n",
       "    <tr style=\"text-align: right;\">\n",
       "      <th></th>\n",
       "      <th>PassengerId</th>\n",
       "      <th>Survived</th>\n",
       "      <th>Pclass</th>\n",
       "      <th>Name</th>\n",
       "      <th>Sex</th>\n",
       "      <th>Age</th>\n",
       "      <th>SibSp</th>\n",
       "      <th>Parch</th>\n",
       "      <th>Ticket</th>\n",
       "      <th>Fare</th>\n",
       "      <th>Cabin</th>\n",
       "      <th>Embarked</th>\n",
       "    </tr>\n",
       "  </thead>\n",
       "  <tbody>\n",
       "    <tr>\n",
       "      <th>380</th>\n",
       "      <td>381</td>\n",
       "      <td>1</td>\n",
       "      <td>1</td>\n",
       "      <td>Bidois, Miss. Rosalie</td>\n",
       "      <td>female</td>\n",
       "      <td>42.00</td>\n",
       "      <td>0</td>\n",
       "      <td>0</td>\n",
       "      <td>PC 17757</td>\n",
       "      <td>227.5250</td>\n",
       "      <td>NaN</td>\n",
       "      <td>C</td>\n",
       "    </tr>\n",
       "    <tr>\n",
       "      <th>711</th>\n",
       "      <td>712</td>\n",
       "      <td>0</td>\n",
       "      <td>1</td>\n",
       "      <td>Klaber, Mr. Herman</td>\n",
       "      <td>male</td>\n",
       "      <td>NaN</td>\n",
       "      <td>0</td>\n",
       "      <td>0</td>\n",
       "      <td>113028</td>\n",
       "      <td>26.5500</td>\n",
       "      <td>C124</td>\n",
       "      <td>S</td>\n",
       "    </tr>\n",
       "    <tr>\n",
       "      <th>449</th>\n",
       "      <td>450</td>\n",
       "      <td>1</td>\n",
       "      <td>1</td>\n",
       "      <td>Peuchen, Major. Arthur Godfrey</td>\n",
       "      <td>male</td>\n",
       "      <td>52.00</td>\n",
       "      <td>0</td>\n",
       "      <td>0</td>\n",
       "      <td>113786</td>\n",
       "      <td>30.5000</td>\n",
       "      <td>C104</td>\n",
       "      <td>S</td>\n",
       "    </tr>\n",
       "    <tr>\n",
       "      <th>78</th>\n",
       "      <td>79</td>\n",
       "      <td>1</td>\n",
       "      <td>2</td>\n",
       "      <td>Caldwell, Master. Alden Gates</td>\n",
       "      <td>male</td>\n",
       "      <td>0.83</td>\n",
       "      <td>0</td>\n",
       "      <td>2</td>\n",
       "      <td>248738</td>\n",
       "      <td>29.0000</td>\n",
       "      <td>NaN</td>\n",
       "      <td>S</td>\n",
       "    </tr>\n",
       "    <tr>\n",
       "      <th>103</th>\n",
       "      <td>104</td>\n",
       "      <td>0</td>\n",
       "      <td>3</td>\n",
       "      <td>Johansson, Mr. Gustaf Joel</td>\n",
       "      <td>male</td>\n",
       "      <td>33.00</td>\n",
       "      <td>0</td>\n",
       "      <td>0</td>\n",
       "      <td>7540</td>\n",
       "      <td>8.6542</td>\n",
       "      <td>NaN</td>\n",
       "      <td>S</td>\n",
       "    </tr>\n",
       "    <tr>\n",
       "      <th>236</th>\n",
       "      <td>237</td>\n",
       "      <td>0</td>\n",
       "      <td>2</td>\n",
       "      <td>Hold, Mr. Stephen</td>\n",
       "      <td>male</td>\n",
       "      <td>44.00</td>\n",
       "      <td>1</td>\n",
       "      <td>0</td>\n",
       "      <td>26707</td>\n",
       "      <td>26.0000</td>\n",
       "      <td>NaN</td>\n",
       "      <td>S</td>\n",
       "    </tr>\n",
       "    <tr>\n",
       "      <th>85</th>\n",
       "      <td>86</td>\n",
       "      <td>1</td>\n",
       "      <td>3</td>\n",
       "      <td>Backstrom, Mrs. Karl Alfred (Maria Mathilda Gu...</td>\n",
       "      <td>female</td>\n",
       "      <td>33.00</td>\n",
       "      <td>3</td>\n",
       "      <td>0</td>\n",
       "      <td>3101278</td>\n",
       "      <td>15.8500</td>\n",
       "      <td>NaN</td>\n",
       "      <td>S</td>\n",
       "    </tr>\n",
       "    <tr>\n",
       "      <th>689</th>\n",
       "      <td>690</td>\n",
       "      <td>1</td>\n",
       "      <td>1</td>\n",
       "      <td>Madill, Miss. Georgette Alexandra</td>\n",
       "      <td>female</td>\n",
       "      <td>15.00</td>\n",
       "      <td>0</td>\n",
       "      <td>1</td>\n",
       "      <td>24160</td>\n",
       "      <td>211.3375</td>\n",
       "      <td>B5</td>\n",
       "      <td>S</td>\n",
       "    </tr>\n",
       "    <tr>\n",
       "      <th>170</th>\n",
       "      <td>171</td>\n",
       "      <td>0</td>\n",
       "      <td>1</td>\n",
       "      <td>Van der hoef, Mr. Wyckoff</td>\n",
       "      <td>male</td>\n",
       "      <td>61.00</td>\n",
       "      <td>0</td>\n",
       "      <td>0</td>\n",
       "      <td>111240</td>\n",
       "      <td>33.5000</td>\n",
       "      <td>B19</td>\n",
       "      <td>S</td>\n",
       "    </tr>\n",
       "    <tr>\n",
       "      <th>745</th>\n",
       "      <td>746</td>\n",
       "      <td>0</td>\n",
       "      <td>1</td>\n",
       "      <td>Crosby, Capt. Edward Gifford</td>\n",
       "      <td>male</td>\n",
       "      <td>70.00</td>\n",
       "      <td>1</td>\n",
       "      <td>1</td>\n",
       "      <td>WE/P 5735</td>\n",
       "      <td>71.0000</td>\n",
       "      <td>B22</td>\n",
       "      <td>S</td>\n",
       "    </tr>\n",
       "  </tbody>\n",
       "</table>\n",
       "</div>"
      ],
      "text/plain": [
       "     PassengerId  Survived  Pclass  \\\n",
       "380          381         1       1   \n",
       "711          712         0       1   \n",
       "449          450         1       1   \n",
       "78            79         1       2   \n",
       "103          104         0       3   \n",
       "236          237         0       2   \n",
       "85            86         1       3   \n",
       "689          690         1       1   \n",
       "170          171         0       1   \n",
       "745          746         0       1   \n",
       "\n",
       "                                                  Name     Sex    Age  SibSp  \\\n",
       "380                              Bidois, Miss. Rosalie  female  42.00      0   \n",
       "711                                 Klaber, Mr. Herman    male    NaN      0   \n",
       "449                     Peuchen, Major. Arthur Godfrey    male  52.00      0   \n",
       "78                       Caldwell, Master. Alden Gates    male   0.83      0   \n",
       "103                         Johansson, Mr. Gustaf Joel    male  33.00      0   \n",
       "236                                  Hold, Mr. Stephen    male  44.00      1   \n",
       "85   Backstrom, Mrs. Karl Alfred (Maria Mathilda Gu...  female  33.00      3   \n",
       "689                  Madill, Miss. Georgette Alexandra  female  15.00      0   \n",
       "170                          Van der hoef, Mr. Wyckoff    male  61.00      0   \n",
       "745                       Crosby, Capt. Edward Gifford    male  70.00      1   \n",
       "\n",
       "     Parch     Ticket      Fare Cabin Embarked  \n",
       "380      0   PC 17757  227.5250   NaN        C  \n",
       "711      0     113028   26.5500  C124        S  \n",
       "449      0     113786   30.5000  C104        S  \n",
       "78       2     248738   29.0000   NaN        S  \n",
       "103      0       7540    8.6542   NaN        S  \n",
       "236      0      26707   26.0000   NaN        S  \n",
       "85       0    3101278   15.8500   NaN        S  \n",
       "689      1      24160  211.3375    B5        S  \n",
       "170      0     111240   33.5000   B19        S  \n",
       "745      1  WE/P 5735   71.0000   B22        S  "
      ]
     },
     "execution_count": 3,
     "metadata": {},
     "output_type": "execute_result"
    }
   ],
   "source": [
    "url = 'https://raw.githubusercontent.com/pandas-dev/pandas/master/doc/data/titanic.csv'\n",
    "file = 'data/titanic_2_original.pickle' # Damit es local gespeichert wird\n",
    "\n",
    "if os.path.exists(file):\n",
    "    t = pd.read_pickle(file)\n",
    "else:\n",
    "    t = pd.read_csv(url)\n",
    "    t.to_pickle(file)\n",
    "t.sample(10)"
   ]
  },
  {
   "attachments": {},
   "cell_type": "markdown",
   "metadata": {},
   "source": [
    "### Aufgabe 4 BINS\n",
    "4.1. Lösen Sie das Beispiel aus der Vorlesung ohne die Methode pd.cut() zu\n",
    "verwenden.\n"
   ]
  },
  {
   "cell_type": "code",
   "execution_count": 4,
   "metadata": {},
   "outputs": [
    {
     "name": "stdout",
     "output_type": "stream",
     "text": [
      "   Age Age class map Age class apply\n",
      "0    5         child           child\n",
      "1   15      teenager        teenager\n",
      "2   30          <NA>            <NA>\n",
      "3   70          <NA>            <NA>\n",
      "4  120          <NA>            <NA>\n",
      "5   -5         child           child\n"
     ]
    }
   ],
   "source": [
    "import pandas as pd\n",
    "\n",
    "def age_to_class(age):\n",
    "    \"\"\"\n",
    "    Konvertiert ein Alter in eine Altersklasse.\n",
    "\n",
    "    Parameter:\n",
    "    age (int oder float): Das Alter, das konvertiert werden soll.\n",
    "\n",
    "    Rückgabe:\n",
    "    str: Die entsprechende Altersklasse.\n",
    "    \"\"\"\n",
    "    if age <= 12: return 'child'\n",
    "    if age <= 18: return 'teenager'\n",
    "    if age <= 18: return 'worker'\n",
    "    if age <= 18: return 'elder'\n",
    "    return pd.NA\n",
    "\n",
    "# Angenommen, wir haben einen DataFrame 'df' mit einer Spalte 'Age'\n",
    "df = pd.DataFrame({'Age': [5, 15, 30, 70, 120, -5]})\n",
    "\n",
    "# Anwenden der Funktion mit map()\n",
    "df['Age class map'] = df['Age'].map(age_to_class)\n",
    "\n",
    "# Anwenden der Funktion mit apply()\n",
    "df['Age class apply'] = df['Age'].apply(age_to_class)\n",
    "\n",
    "print(df)\n"
   ]
  },
  {
   "attachments": {},
   "cell_type": "markdown",
   "metadata": {},
   "source": [
    "4.2. Wir modifizieren die Anforderung leicht, so dass nun zwei Spalten als Input für <br>\n",
    "die Funktion verwendet werden. Anstelle ‚adult‘ wollen wir ‚male‘ / ‚female‘ <br>\n",
    "entsprechend des „Sex“ stehen haben."
   ]
  },
  {
   "cell_type": "code",
   "execution_count": 5,
   "metadata": {},
   "outputs": [
    {
     "name": "stdout",
     "output_type": "stream",
     "text": [
      "0        adult,male\n",
      "1      adult,female\n",
      "2      adult,female\n",
      "3      adult,female\n",
      "4        adult,male\n",
      "           ...     \n",
      "886      adult,male\n",
      "887    adult,female\n",
      "888            <NA>\n",
      "889      adult,male\n",
      "890      adult,male\n",
      "Name: Age class, Length: 891, dtype: object\n"
     ]
    }
   ],
   "source": [
    "import pandas as pd\n",
    "\n",
    "def age_and_sex_to_class(row):\n",
    "    \"\"\"\n",
    "    Konvertiert Alter und Geschlecht in eine Altersklasse.\n",
    "\n",
    "    Parameter:\n",
    "    row (Series): Eine Zeile des DataFrame, die 'Age' und 'Sex' enthält.\n",
    "\n",
    "    Rückgabe:\n",
    "    str: Die entsprechende Altersklasse.\n",
    "    \"\"\"\n",
    "    age, sex = row['Age'], row['Sex']\n",
    "    if age >= 0 and age <= 12: return 'child'\n",
    "    if age > 12 and age <= 18: return 'teenager'\n",
    "    if age > 18 and age <= 65 and sex == 'male': return 'adult,'+ 'male'\n",
    "    if age > 18 and age <= 65 and sex == 'female': return 'adult,'+ 'female'\n",
    "    if age > 65 and age <= 100: return 'elder'\n",
    "    else:\n",
    "        return pd.NA\n",
    "\n",
    "\n",
    "# Anwenden der Funktion mit apply()\n",
    "t['Age class'] = t.apply(age_and_sex_to_class, axis=1)\n",
    "\n",
    "print(t['Age class'])\n"
   ]
  },
  {
   "attachments": {},
   "cell_type": "markdown",
   "metadata": {},
   "source": [
    "### 4.3. Bins anhand von Quartilen (qcut())"
   ]
  },
  {
   "attachments": {},
   "cell_type": "markdown",
   "metadata": {},
   "source": [
    "a) Teilen Sie die „Fare“ in die vier Quartile ein. Benennen Sie die Quartile sinnvoll („billig“,\n",
    "„normal“,..). <br> Das Ergebnis sollte eine Spalte im titanic-Datensatz sein, welches das\n",
    "entsprechende Quartil enthält."
   ]
  },
  {
   "cell_type": "code",
   "execution_count": 6,
   "metadata": {},
   "outputs": [
    {
     "data": {
      "text/html": [
       "<div>\n",
       "<style scoped>\n",
       "    .dataframe tbody tr th:only-of-type {\n",
       "        vertical-align: middle;\n",
       "    }\n",
       "\n",
       "    .dataframe tbody tr th {\n",
       "        vertical-align: top;\n",
       "    }\n",
       "\n",
       "    .dataframe thead th {\n",
       "        text-align: right;\n",
       "    }\n",
       "</style>\n",
       "<table border=\"1\" class=\"dataframe\">\n",
       "  <thead>\n",
       "    <tr style=\"text-align: right;\">\n",
       "      <th></th>\n",
       "      <th>PassengerId</th>\n",
       "      <th>Survived</th>\n",
       "      <th>Pclass</th>\n",
       "      <th>Name</th>\n",
       "      <th>Sex</th>\n",
       "      <th>Age</th>\n",
       "      <th>SibSp</th>\n",
       "      <th>Parch</th>\n",
       "      <th>Ticket</th>\n",
       "      <th>Fare</th>\n",
       "      <th>Cabin</th>\n",
       "      <th>Embarked</th>\n",
       "      <th>Age class</th>\n",
       "      <th>Fare_Bins</th>\n",
       "    </tr>\n",
       "  </thead>\n",
       "  <tbody>\n",
       "    <tr>\n",
       "      <th>0</th>\n",
       "      <td>1</td>\n",
       "      <td>0</td>\n",
       "      <td>3</td>\n",
       "      <td>Braund, Mr. Owen Harris</td>\n",
       "      <td>male</td>\n",
       "      <td>22.0</td>\n",
       "      <td>1</td>\n",
       "      <td>0</td>\n",
       "      <td>A/5 21171</td>\n",
       "      <td>7.2500</td>\n",
       "      <td>NaN</td>\n",
       "      <td>S</td>\n",
       "      <td>adult,male</td>\n",
       "      <td>billig</td>\n",
       "    </tr>\n",
       "    <tr>\n",
       "      <th>1</th>\n",
       "      <td>2</td>\n",
       "      <td>1</td>\n",
       "      <td>1</td>\n",
       "      <td>Cumings, Mrs. John Bradley (Florence Briggs Th...</td>\n",
       "      <td>female</td>\n",
       "      <td>38.0</td>\n",
       "      <td>1</td>\n",
       "      <td>0</td>\n",
       "      <td>PC 17599</td>\n",
       "      <td>71.2833</td>\n",
       "      <td>C85</td>\n",
       "      <td>C</td>\n",
       "      <td>adult,female</td>\n",
       "      <td>sehr teuer</td>\n",
       "    </tr>\n",
       "    <tr>\n",
       "      <th>2</th>\n",
       "      <td>3</td>\n",
       "      <td>1</td>\n",
       "      <td>3</td>\n",
       "      <td>Heikkinen, Miss. Laina</td>\n",
       "      <td>female</td>\n",
       "      <td>26.0</td>\n",
       "      <td>0</td>\n",
       "      <td>0</td>\n",
       "      <td>STON/O2. 3101282</td>\n",
       "      <td>7.9250</td>\n",
       "      <td>NaN</td>\n",
       "      <td>S</td>\n",
       "      <td>adult,female</td>\n",
       "      <td>normal</td>\n",
       "    </tr>\n",
       "    <tr>\n",
       "      <th>3</th>\n",
       "      <td>4</td>\n",
       "      <td>1</td>\n",
       "      <td>1</td>\n",
       "      <td>Futrelle, Mrs. Jacques Heath (Lily May Peel)</td>\n",
       "      <td>female</td>\n",
       "      <td>35.0</td>\n",
       "      <td>1</td>\n",
       "      <td>0</td>\n",
       "      <td>113803</td>\n",
       "      <td>53.1000</td>\n",
       "      <td>C123</td>\n",
       "      <td>S</td>\n",
       "      <td>adult,female</td>\n",
       "      <td>sehr teuer</td>\n",
       "    </tr>\n",
       "    <tr>\n",
       "      <th>4</th>\n",
       "      <td>5</td>\n",
       "      <td>0</td>\n",
       "      <td>3</td>\n",
       "      <td>Allen, Mr. William Henry</td>\n",
       "      <td>male</td>\n",
       "      <td>35.0</td>\n",
       "      <td>0</td>\n",
       "      <td>0</td>\n",
       "      <td>373450</td>\n",
       "      <td>8.0500</td>\n",
       "      <td>NaN</td>\n",
       "      <td>S</td>\n",
       "      <td>adult,male</td>\n",
       "      <td>normal</td>\n",
       "    </tr>\n",
       "  </tbody>\n",
       "</table>\n",
       "</div>"
      ],
      "text/plain": [
       "   PassengerId  Survived  Pclass  \\\n",
       "0            1         0       3   \n",
       "1            2         1       1   \n",
       "2            3         1       3   \n",
       "3            4         1       1   \n",
       "4            5         0       3   \n",
       "\n",
       "                                                Name     Sex   Age  SibSp  \\\n",
       "0                            Braund, Mr. Owen Harris    male  22.0      1   \n",
       "1  Cumings, Mrs. John Bradley (Florence Briggs Th...  female  38.0      1   \n",
       "2                             Heikkinen, Miss. Laina  female  26.0      0   \n",
       "3       Futrelle, Mrs. Jacques Heath (Lily May Peel)  female  35.0      1   \n",
       "4                           Allen, Mr. William Henry    male  35.0      0   \n",
       "\n",
       "   Parch            Ticket     Fare Cabin Embarked     Age class   Fare_Bins  \n",
       "0      0         A/5 21171   7.2500   NaN        S    adult,male      billig  \n",
       "1      0          PC 17599  71.2833   C85        C  adult,female  sehr teuer  \n",
       "2      0  STON/O2. 3101282   7.9250   NaN        S  adult,female      normal  \n",
       "3      0            113803  53.1000  C123        S  adult,female  sehr teuer  \n",
       "4      0            373450   8.0500   NaN        S    adult,male      normal  "
      ]
     },
     "execution_count": 6,
     "metadata": {},
     "output_type": "execute_result"
    }
   ],
   "source": [
    "# Namen für Bins\n",
    "bins = ['billig', 'normal', 'teuer', 'sehr teuer']\n",
    "(t[\"Fare_Bins\"],bins) = pd.qcut(t[\"Fare\"], 4, labels=bins, retbins=True)\n",
    "\n",
    "t.head()"
   ]
  },
  {
   "attachments": {},
   "cell_type": "markdown",
   "metadata": {},
   "source": [
    "b) Wie sind die Quartile definiert (was sind die oberen und unteren Grenzen der „Fare“\n",
    "jedes Quartils?"
   ]
  },
  {
   "attachments": {},
   "cell_type": "markdown",
   "metadata": {},
   "source": [
    "Das erste Quartil (billig) umfasst Werte von der niedrigsten 'Fare' bis zum 25. Perzentil. <br>\n",
    "Das zweite Quartil (normal) reicht vom 25. Perzentil bis zum Median (50. Perzentil). <br>\n",
    "Das dritte Quartil (teuer) erstreckt sich vom Median bis zum 75. Perzentil. <br>\n",
    "Das vierte Quartil (sehr teuer) umfasst Werte vom 75. Perzentil bis zur höchsten 'Fare'."
   ]
  },
  {
   "cell_type": "markdown",
   "metadata": {},
   "source": [
    "Andere Antwort"
   ]
  },
  {
   "cell_type": "code",
   "execution_count": 7,
   "metadata": {},
   "outputs": [
    {
     "name": "stdout",
     "output_type": "stream",
     "text": [
      "[  0.       7.9104  14.4542  31.     512.3292]\n"
     ]
    }
   ],
   "source": [
    "print(bins)"
   ]
  },
  {
   "attachments": {},
   "cell_type": "markdown",
   "metadata": {},
   "source": [
    "c) Was ist der Median von „Fare“?"
   ]
  },
  {
   "cell_type": "code",
   "execution_count": 8,
   "metadata": {},
   "outputs": [
    {
     "data": {
      "text/plain": [
       "14.4542"
      ]
     },
     "execution_count": 8,
     "metadata": {},
     "output_type": "execute_result"
    }
   ],
   "source": [
    "t['Fare'].median()"
   ]
  },
  {
   "attachments": {},
   "cell_type": "markdown",
   "metadata": {},
   "source": [
    "d) Wiederholen Sie die Aufgabe, aber nun getrennt nach „Pclass“."
   ]
  },
  {
   "cell_type": "code",
   "execution_count": 9,
   "metadata": {},
   "outputs": [
    {
     "data": {
      "text/html": [
       "<div>\n",
       "<style scoped>\n",
       "    .dataframe tbody tr th:only-of-type {\n",
       "        vertical-align: middle;\n",
       "    }\n",
       "\n",
       "    .dataframe tbody tr th {\n",
       "        vertical-align: top;\n",
       "    }\n",
       "\n",
       "    .dataframe thead th {\n",
       "        text-align: right;\n",
       "    }\n",
       "</style>\n",
       "<table border=\"1\" class=\"dataframe\">\n",
       "  <thead>\n",
       "    <tr style=\"text-align: right;\">\n",
       "      <th></th>\n",
       "      <th>PassengerId</th>\n",
       "      <th>Survived</th>\n",
       "      <th>Pclass</th>\n",
       "      <th>Name</th>\n",
       "      <th>Sex</th>\n",
       "      <th>Age</th>\n",
       "      <th>SibSp</th>\n",
       "      <th>Parch</th>\n",
       "      <th>Ticket</th>\n",
       "      <th>Fare</th>\n",
       "      <th>Cabin</th>\n",
       "      <th>Embarked</th>\n",
       "      <th>Age class</th>\n",
       "      <th>Fare_Bins</th>\n",
       "    </tr>\n",
       "  </thead>\n",
       "  <tbody>\n",
       "    <tr>\n",
       "      <th>0</th>\n",
       "      <td>1</td>\n",
       "      <td>0</td>\n",
       "      <td>3</td>\n",
       "      <td>Braund, Mr. Owen Harris</td>\n",
       "      <td>male</td>\n",
       "      <td>22.0</td>\n",
       "      <td>1</td>\n",
       "      <td>0</td>\n",
       "      <td>A/5 21171</td>\n",
       "      <td>7.2500</td>\n",
       "      <td>NaN</td>\n",
       "      <td>S</td>\n",
       "      <td>adult,male</td>\n",
       "      <td>billig</td>\n",
       "    </tr>\n",
       "    <tr>\n",
       "      <th>1</th>\n",
       "      <td>2</td>\n",
       "      <td>1</td>\n",
       "      <td>1</td>\n",
       "      <td>Cumings, Mrs. John Bradley (Florence Briggs Th...</td>\n",
       "      <td>female</td>\n",
       "      <td>38.0</td>\n",
       "      <td>1</td>\n",
       "      <td>0</td>\n",
       "      <td>PC 17599</td>\n",
       "      <td>71.2833</td>\n",
       "      <td>C85</td>\n",
       "      <td>C</td>\n",
       "      <td>adult,female</td>\n",
       "      <td>sehr teuer</td>\n",
       "    </tr>\n",
       "    <tr>\n",
       "      <th>2</th>\n",
       "      <td>3</td>\n",
       "      <td>1</td>\n",
       "      <td>3</td>\n",
       "      <td>Heikkinen, Miss. Laina</td>\n",
       "      <td>female</td>\n",
       "      <td>26.0</td>\n",
       "      <td>0</td>\n",
       "      <td>0</td>\n",
       "      <td>STON/O2. 3101282</td>\n",
       "      <td>7.9250</td>\n",
       "      <td>NaN</td>\n",
       "      <td>S</td>\n",
       "      <td>adult,female</td>\n",
       "      <td>normal</td>\n",
       "    </tr>\n",
       "    <tr>\n",
       "      <th>3</th>\n",
       "      <td>4</td>\n",
       "      <td>1</td>\n",
       "      <td>1</td>\n",
       "      <td>Futrelle, Mrs. Jacques Heath (Lily May Peel)</td>\n",
       "      <td>female</td>\n",
       "      <td>35.0</td>\n",
       "      <td>1</td>\n",
       "      <td>0</td>\n",
       "      <td>113803</td>\n",
       "      <td>53.1000</td>\n",
       "      <td>C123</td>\n",
       "      <td>S</td>\n",
       "      <td>adult,female</td>\n",
       "      <td>sehr teuer</td>\n",
       "    </tr>\n",
       "    <tr>\n",
       "      <th>4</th>\n",
       "      <td>5</td>\n",
       "      <td>0</td>\n",
       "      <td>3</td>\n",
       "      <td>Allen, Mr. William Henry</td>\n",
       "      <td>male</td>\n",
       "      <td>35.0</td>\n",
       "      <td>0</td>\n",
       "      <td>0</td>\n",
       "      <td>373450</td>\n",
       "      <td>8.0500</td>\n",
       "      <td>NaN</td>\n",
       "      <td>S</td>\n",
       "      <td>adult,male</td>\n",
       "      <td>normal</td>\n",
       "    </tr>\n",
       "  </tbody>\n",
       "</table>\n",
       "</div>"
      ],
      "text/plain": [
       "   PassengerId  Survived  Pclass  \\\n",
       "0            1         0       3   \n",
       "1            2         1       1   \n",
       "2            3         1       3   \n",
       "3            4         1       1   \n",
       "4            5         0       3   \n",
       "\n",
       "                                                Name     Sex   Age  SibSp  \\\n",
       "0                            Braund, Mr. Owen Harris    male  22.0      1   \n",
       "1  Cumings, Mrs. John Bradley (Florence Briggs Th...  female  38.0      1   \n",
       "2                             Heikkinen, Miss. Laina  female  26.0      0   \n",
       "3       Futrelle, Mrs. Jacques Heath (Lily May Peel)  female  35.0      1   \n",
       "4                           Allen, Mr. William Henry    male  35.0      0   \n",
       "\n",
       "   Parch            Ticket     Fare Cabin Embarked     Age class   Fare_Bins  \n",
       "0      0         A/5 21171   7.2500   NaN        S    adult,male      billig  \n",
       "1      0          PC 17599  71.2833   C85        C  adult,female  sehr teuer  \n",
       "2      0  STON/O2. 3101282   7.9250   NaN        S  adult,female      normal  \n",
       "3      0            113803  53.1000  C123        S  adult,female  sehr teuer  \n",
       "4      0            373450   8.0500   NaN        S    adult,male      normal  "
      ]
     },
     "execution_count": 9,
     "metadata": {},
     "output_type": "execute_result"
    }
   ],
   "source": [
    "t.head()"
   ]
  },
  {
   "cell_type": "code",
   "execution_count": 10,
   "metadata": {},
   "outputs": [],
   "source": [
    "t_group = t.groupby(by=['Pclass'])"
   ]
  },
  {
   "cell_type": "code",
   "execution_count": 11,
   "metadata": {},
   "outputs": [
    {
     "data": {
      "text/plain": [
       "dict_keys([1, 2, 3])"
      ]
     },
     "execution_count": 11,
     "metadata": {},
     "output_type": "execute_result"
    }
   ],
   "source": [
    "t_group.groups.keys()"
   ]
  },
  {
   "cell_type": "code",
   "execution_count": 12,
   "metadata": {},
   "outputs": [],
   "source": [
    "first_class =t_group.get_group(1)\n",
    "seccond_class = t_group.get_group(2)\n",
    "third_class = t_group.get_group(3)"
   ]
  },
  {
   "attachments": {},
   "cell_type": "markdown",
   "metadata": {},
   "source": [
    "a) wdh"
   ]
  },
  {
   "cell_type": "code",
   "execution_count": 13,
   "metadata": {},
   "outputs": [
    {
     "name": "stderr",
     "output_type": "stream",
     "text": [
      "/var/folders/vr/klm94mws7lsd0vj7h5gd2bqw0000gn/T/ipykernel_15364/3287942039.py:1: FutureWarning: Not prepending group keys to the result index of transform-like apply. In the future, the group keys will be included in the index, regardless of whether the applied function returns a like-indexed object.\n",
      "To preserve the previous behavior, use\n",
      "\n",
      "\t>>> .groupby(..., group_keys=False)\n",
      "\n",
      "To adopt the future behavior and silence this warning, use \n",
      "\n",
      "\t>>> .groupby(..., group_keys=True)\n",
      "  t.groupby(by=\"Pclass\")[\"Fare\"].apply(lambda s: pd.qcut(s, 4))\n"
     ]
    },
    {
     "data": {
      "text/plain": [
       "0        (-0.001, 7.75]\n",
       "1        (60.287, 93.5]\n",
       "2          (7.75, 8.05]\n",
       "3      (30.924, 60.287]\n",
       "4          (7.75, 8.05]\n",
       "             ...       \n",
       "886      (-0.001, 13.0]\n",
       "887    (-0.001, 30.924]\n",
       "888       (15.5, 69.55]\n",
       "889    (-0.001, 30.924]\n",
       "890      (-0.001, 7.75]\n",
       "Name: Fare, Length: 891, dtype: interval"
      ]
     },
     "execution_count": 13,
     "metadata": {},
     "output_type": "execute_result"
    }
   ],
   "source": [
    "t.groupby(by=\"Pclass\")[\"Fare\"].apply(lambda s: pd.qcut(s, 4))"
   ]
  },
  {
   "cell_type": "code",
   "execution_count": 14,
   "metadata": {},
   "outputs": [],
   "source": [
    "#def qcut_bins(g):\n",
    "#    class, bins = pd.qcut(g,4,retbins=True)\n",
    "#    return bins\n",
    "\n"
   ]
  },
  {
   "cell_type": "code",
   "execution_count": 15,
   "metadata": {},
   "outputs": [],
   "source": [
    "# Namen für Bins\n",
    "bins = ['billig', 'normal', 'teuer', 'sehr teuer']\n",
    "(first_class[\"Fare_Bins\"], bins_fclass) = pd.qcut(t[\"Fare\"], 4, labels=bins, retbins=True)\n",
    "(seccond_class[\"Fare_Bins\"], bins_sclass) = pd.qcut(t[\"Fare\"], 4, labels=bins, retbins=True)\n",
    "(third_class[\"Fare_Bins\"], bins_tclass) = pd.qcut(t[\"Fare\"], 4, labels=bins, retbins=True)"
   ]
  },
  {
   "cell_type": "markdown",
   "metadata": {},
   "source": [
    "b)"
   ]
  },
  {
   "cell_type": "code",
   "execution_count": 16,
   "metadata": {},
   "outputs": [
    {
     "name": "stdout",
     "output_type": "stream",
     "text": [
      "First class: [  0.       7.9104  14.4542  31.     512.3292]\n",
      "First class: [  0.       7.9104  14.4542  31.     512.3292]\n",
      "First class: [  0.       7.9104  14.4542  31.     512.3292]\n"
     ]
    }
   ],
   "source": [
    "print(f'First class: {bins_fclass}')\n",
    "print(f'First class: {bins_sclass}')\n",
    "print(f'First class: {bins_tclass}')"
   ]
  },
  {
   "attachments": {},
   "cell_type": "markdown",
   "metadata": {},
   "source": [
    "c) wdh"
   ]
  },
  {
   "cell_type": "code",
   "execution_count": 17,
   "metadata": {},
   "outputs": [
    {
     "data": {
      "text/plain": [
       "60.287499999999994"
      ]
     },
     "execution_count": 17,
     "metadata": {},
     "output_type": "execute_result"
    }
   ],
   "source": [
    "first_class[\"Fare\"].median()"
   ]
  },
  {
   "cell_type": "code",
   "execution_count": 18,
   "metadata": {},
   "outputs": [
    {
     "data": {
      "text/plain": [
       "14.25"
      ]
     },
     "execution_count": 18,
     "metadata": {},
     "output_type": "execute_result"
    }
   ],
   "source": [
    "seccond_class[\"Fare\"].median()"
   ]
  },
  {
   "cell_type": "code",
   "execution_count": 19,
   "metadata": {},
   "outputs": [
    {
     "data": {
      "text/plain": [
       "8.05"
      ]
     },
     "execution_count": 19,
     "metadata": {},
     "output_type": "execute_result"
    }
   ],
   "source": [
    "third_class[\"Fare\"].median()"
   ]
  },
  {
   "cell_type": "markdown",
   "metadata": {},
   "source": [
    "### 4.4. Alleine oder mit Familie?"
   ]
  },
  {
   "attachments": {},
   "cell_type": "markdown",
   "metadata": {},
   "source": [
    "a) Berechnen Sie eine Spalte „Alone“, die anzeigt, ob ein Passagier allein gereist ist oder\n",
    "mit Familie. <br> Familie würde bedeuten, dass entweder Bruder / Schwester / Ehefrau /\n",
    "Ehemann oder Eltern / Kinder mit an Bord waren."
   ]
  },
  {
   "cell_type": "code",
   "execution_count": 20,
   "metadata": {},
   "outputs": [],
   "source": [
    "# Berechne die 'Alone'-Spalte\n",
    "# Ein Passagier ist allein, wenn sowohl 'SibSp' als auch 'Parch' gleich 0 sind\n",
    "t['Alone'] = ((t['SibSp'] == 0) & (t['Parch'] == 0)).astype(int)\n"
   ]
  },
  {
   "cell_type": "code",
   "execution_count": 21,
   "metadata": {},
   "outputs": [
    {
     "data": {
      "text/html": [
       "<div>\n",
       "<style scoped>\n",
       "    .dataframe tbody tr th:only-of-type {\n",
       "        vertical-align: middle;\n",
       "    }\n",
       "\n",
       "    .dataframe tbody tr th {\n",
       "        vertical-align: top;\n",
       "    }\n",
       "\n",
       "    .dataframe thead th {\n",
       "        text-align: right;\n",
       "    }\n",
       "</style>\n",
       "<table border=\"1\" class=\"dataframe\">\n",
       "  <thead>\n",
       "    <tr style=\"text-align: right;\">\n",
       "      <th></th>\n",
       "      <th>PassengerId</th>\n",
       "      <th>Survived</th>\n",
       "      <th>Pclass</th>\n",
       "      <th>Name</th>\n",
       "      <th>Sex</th>\n",
       "      <th>Age</th>\n",
       "      <th>SibSp</th>\n",
       "      <th>Parch</th>\n",
       "      <th>Ticket</th>\n",
       "      <th>Fare</th>\n",
       "      <th>Cabin</th>\n",
       "      <th>Embarked</th>\n",
       "      <th>Age class</th>\n",
       "      <th>Fare_Bins</th>\n",
       "      <th>Alone</th>\n",
       "    </tr>\n",
       "  </thead>\n",
       "  <tbody>\n",
       "    <tr>\n",
       "      <th>0</th>\n",
       "      <td>1</td>\n",
       "      <td>0</td>\n",
       "      <td>3</td>\n",
       "      <td>Braund, Mr. Owen Harris</td>\n",
       "      <td>male</td>\n",
       "      <td>22.0</td>\n",
       "      <td>1</td>\n",
       "      <td>0</td>\n",
       "      <td>A/5 21171</td>\n",
       "      <td>7.2500</td>\n",
       "      <td>NaN</td>\n",
       "      <td>S</td>\n",
       "      <td>adult,male</td>\n",
       "      <td>billig</td>\n",
       "      <td>0</td>\n",
       "    </tr>\n",
       "    <tr>\n",
       "      <th>1</th>\n",
       "      <td>2</td>\n",
       "      <td>1</td>\n",
       "      <td>1</td>\n",
       "      <td>Cumings, Mrs. John Bradley (Florence Briggs Th...</td>\n",
       "      <td>female</td>\n",
       "      <td>38.0</td>\n",
       "      <td>1</td>\n",
       "      <td>0</td>\n",
       "      <td>PC 17599</td>\n",
       "      <td>71.2833</td>\n",
       "      <td>C85</td>\n",
       "      <td>C</td>\n",
       "      <td>adult,female</td>\n",
       "      <td>sehr teuer</td>\n",
       "      <td>0</td>\n",
       "    </tr>\n",
       "    <tr>\n",
       "      <th>2</th>\n",
       "      <td>3</td>\n",
       "      <td>1</td>\n",
       "      <td>3</td>\n",
       "      <td>Heikkinen, Miss. Laina</td>\n",
       "      <td>female</td>\n",
       "      <td>26.0</td>\n",
       "      <td>0</td>\n",
       "      <td>0</td>\n",
       "      <td>STON/O2. 3101282</td>\n",
       "      <td>7.9250</td>\n",
       "      <td>NaN</td>\n",
       "      <td>S</td>\n",
       "      <td>adult,female</td>\n",
       "      <td>normal</td>\n",
       "      <td>1</td>\n",
       "    </tr>\n",
       "    <tr>\n",
       "      <th>3</th>\n",
       "      <td>4</td>\n",
       "      <td>1</td>\n",
       "      <td>1</td>\n",
       "      <td>Futrelle, Mrs. Jacques Heath (Lily May Peel)</td>\n",
       "      <td>female</td>\n",
       "      <td>35.0</td>\n",
       "      <td>1</td>\n",
       "      <td>0</td>\n",
       "      <td>113803</td>\n",
       "      <td>53.1000</td>\n",
       "      <td>C123</td>\n",
       "      <td>S</td>\n",
       "      <td>adult,female</td>\n",
       "      <td>sehr teuer</td>\n",
       "      <td>0</td>\n",
       "    </tr>\n",
       "    <tr>\n",
       "      <th>4</th>\n",
       "      <td>5</td>\n",
       "      <td>0</td>\n",
       "      <td>3</td>\n",
       "      <td>Allen, Mr. William Henry</td>\n",
       "      <td>male</td>\n",
       "      <td>35.0</td>\n",
       "      <td>0</td>\n",
       "      <td>0</td>\n",
       "      <td>373450</td>\n",
       "      <td>8.0500</td>\n",
       "      <td>NaN</td>\n",
       "      <td>S</td>\n",
       "      <td>adult,male</td>\n",
       "      <td>normal</td>\n",
       "      <td>1</td>\n",
       "    </tr>\n",
       "  </tbody>\n",
       "</table>\n",
       "</div>"
      ],
      "text/plain": [
       "   PassengerId  Survived  Pclass  \\\n",
       "0            1         0       3   \n",
       "1            2         1       1   \n",
       "2            3         1       3   \n",
       "3            4         1       1   \n",
       "4            5         0       3   \n",
       "\n",
       "                                                Name     Sex   Age  SibSp  \\\n",
       "0                            Braund, Mr. Owen Harris    male  22.0      1   \n",
       "1  Cumings, Mrs. John Bradley (Florence Briggs Th...  female  38.0      1   \n",
       "2                             Heikkinen, Miss. Laina  female  26.0      0   \n",
       "3       Futrelle, Mrs. Jacques Heath (Lily May Peel)  female  35.0      1   \n",
       "4                           Allen, Mr. William Henry    male  35.0      0   \n",
       "\n",
       "   Parch            Ticket     Fare Cabin Embarked     Age class   Fare_Bins  \\\n",
       "0      0         A/5 21171   7.2500   NaN        S    adult,male      billig   \n",
       "1      0          PC 17599  71.2833   C85        C  adult,female  sehr teuer   \n",
       "2      0  STON/O2. 3101282   7.9250   NaN        S  adult,female      normal   \n",
       "3      0            113803  53.1000  C123        S  adult,female  sehr teuer   \n",
       "4      0            373450   8.0500   NaN        S    adult,male      normal   \n",
       "\n",
       "   Alone  \n",
       "0      0  \n",
       "1      0  \n",
       "2      1  \n",
       "3      0  \n",
       "4      1  "
      ]
     },
     "execution_count": 21,
     "metadata": {},
     "output_type": "execute_result"
    }
   ],
   "source": [
    "t.head()"
   ]
  },
  {
   "attachments": {},
   "cell_type": "markdown",
   "metadata": {},
   "source": [
    "b) Wie könnte man die Korrektheit dieser Information in den Daten überprüfen?"
   ]
  },
  {
   "attachments": {},
   "cell_type": "markdown",
   "metadata": {},
   "source": [
    "Man könnte den Nachnamen von Personen mit Familienmitgliedern auf Duplikate prüfen. Bsp. Ehemann/Frau haben i.d.R. gleichen Nachnamen"
   ]
  },
  {
   "attachments": {},
   "cell_type": "markdown",
   "metadata": {},
   "source": [
    "### Aufgabe 7 NULL\n",
    "7.1. Detect <br>\n",
    "a) Geben sie alle Passagiere aus, für die die Altersangabe fehlt."
   ]
  },
  {
   "cell_type": "code",
   "execution_count": 22,
   "metadata": {},
   "outputs": [
    {
     "name": "stdout",
     "output_type": "stream",
     "text": [
      "     PassengerId  Survived  Pclass                                      Name  \\\n",
      "5              6         0       3                          Moran, Mr. James   \n",
      "17            18         1       2              Williams, Mr. Charles Eugene   \n",
      "19            20         1       3                   Masselmani, Mrs. Fatima   \n",
      "26            27         0       3                   Emir, Mr. Farred Chehab   \n",
      "28            29         1       3             O'Dwyer, Miss. Ellen \"Nellie\"   \n",
      "..           ...       ...     ...                                       ...   \n",
      "859          860         0       3                          Razi, Mr. Raihed   \n",
      "863          864         0       3         Sage, Miss. Dorothy Edith \"Dolly\"   \n",
      "868          869         0       3               van Melkebeke, Mr. Philemon   \n",
      "878          879         0       3                        Laleff, Mr. Kristo   \n",
      "888          889         0       3  Johnston, Miss. Catherine Helen \"Carrie\"   \n",
      "\n",
      "        Sex  Age  SibSp  Parch      Ticket     Fare Cabin Embarked Age class  \\\n",
      "5      male  NaN      0      0      330877   8.4583   NaN        Q      <NA>   \n",
      "17     male  NaN      0      0      244373  13.0000   NaN        S      <NA>   \n",
      "19   female  NaN      0      0        2649   7.2250   NaN        C      <NA>   \n",
      "26     male  NaN      0      0        2631   7.2250   NaN        C      <NA>   \n",
      "28   female  NaN      0      0      330959   7.8792   NaN        Q      <NA>   \n",
      "..      ...  ...    ...    ...         ...      ...   ...      ...       ...   \n",
      "859    male  NaN      0      0        2629   7.2292   NaN        C      <NA>   \n",
      "863  female  NaN      8      2    CA. 2343  69.5500   NaN        S      <NA>   \n",
      "868    male  NaN      0      0      345777   9.5000   NaN        S      <NA>   \n",
      "878    male  NaN      0      0      349217   7.8958   NaN        S      <NA>   \n",
      "888  female  NaN      1      2  W./C. 6607  23.4500   NaN        S      <NA>   \n",
      "\n",
      "      Fare_Bins  Alone  \n",
      "5        normal      1  \n",
      "17       normal      1  \n",
      "19       billig      1  \n",
      "26       billig      1  \n",
      "28       billig      1  \n",
      "..          ...    ...  \n",
      "859      billig      1  \n",
      "863  sehr teuer      0  \n",
      "868      normal      1  \n",
      "878      billig      1  \n",
      "888       teuer      0  \n",
      "\n",
      "[177 rows x 15 columns]\n"
     ]
    }
   ],
   "source": [
    "no_age = t[t[\"Age\"].isna()]\n",
    "print(no_age)"
   ]
  },
  {
   "attachments": {},
   "cell_type": "markdown",
   "metadata": {},
   "source": [
    "b)Wie viele"
   ]
  },
  {
   "cell_type": "code",
   "execution_count": 23,
   "metadata": {},
   "outputs": [
    {
     "data": {
      "text/plain": [
       "177"
      ]
     },
     "execution_count": 23,
     "metadata": {},
     "output_type": "execute_result"
    }
   ],
   "source": [
    "t[\"Age\"].isna().sum()"
   ]
  },
  {
   "attachments": {},
   "cell_type": "markdown",
   "metadata": {},
   "source": [
    "c) Wie viele Werte sind jeweils für jede andere Spalte Null?"
   ]
  },
  {
   "cell_type": "code",
   "execution_count": 24,
   "metadata": {},
   "outputs": [
    {
     "data": {
      "text/plain": [
       "PassengerId      0\n",
       "Survived         0\n",
       "Pclass           0\n",
       "Name             0\n",
       "Sex              0\n",
       "Age            177\n",
       "SibSp            0\n",
       "Parch            0\n",
       "Ticket           0\n",
       "Fare             0\n",
       "Cabin          687\n",
       "Embarked         2\n",
       "Age class      177\n",
       "Fare_Bins        0\n",
       "Alone            0\n",
       "dtype: int64"
      ]
     },
     "execution_count": 24,
     "metadata": {},
     "output_type": "execute_result"
    }
   ],
   "source": [
    "t.isna().sum()"
   ]
  },
  {
   "cell_type": "markdown",
   "metadata": {},
   "source": [
    "d) Wie viele Zeilen haben in irgendeiner Spalte eine Null?"
   ]
  },
  {
   "cell_type": "code",
   "execution_count": 25,
   "metadata": {},
   "outputs": [
    {
     "data": {
      "text/plain": [
       "708"
      ]
     },
     "execution_count": 25,
     "metadata": {},
     "output_type": "execute_result"
    }
   ],
   "source": [
    "t.isna().any(axis=1).sum()"
   ]
  },
  {
   "attachments": {},
   "cell_type": "markdown",
   "metadata": {},
   "source": [
    "7.2. Deal with <br>\n",
    "a) Ersetzen Sie die fehlenden Alterswerte durch den Median aller Passagiere."
   ]
  },
  {
   "cell_type": "code",
   "execution_count": 26,
   "metadata": {},
   "outputs": [],
   "source": [
    "# Berechne den Median des Alters\n",
    "age_median = t['Age'].median()"
   ]
  },
  {
   "cell_type": "code",
   "execution_count": 27,
   "metadata": {},
   "outputs": [],
   "source": [
    "# Ersetze fehlende Alterswerte durch den Median\n",
    "t['Age'].fillna(age_median, inplace=True)"
   ]
  },
  {
   "cell_type": "code",
   "execution_count": 28,
   "metadata": {},
   "outputs": [
    {
     "name": "stdout",
     "output_type": "stream",
     "text": [
      "177\n",
      "28.0\n"
     ]
    }
   ],
   "source": [
    "\n",
    "# Überprüfe, ob es noch fehlende Werte in der 'Age'-Spalte gibt\n",
    "print(t['Age'].isna().sum())\n",
    "print(age_median)"
   ]
  },
  {
   "attachments": {},
   "cell_type": "markdown",
   "metadata": {},
   "source": [
    "b) Ersetzen Sie die fehlenden Alterswerte durch den Mittelwert in der jeweiligen P-Klasse."
   ]
  },
  {
   "cell_type": "code",
   "execution_count": 29,
   "metadata": {},
   "outputs": [
    {
     "name": "stdout",
     "output_type": "stream",
     "text": [
      "177\n"
     ]
    }
   ],
   "source": [
    "# Berechne den Mittelwert des Alters für jede Passagierklasse\n",
    "mean_age_by_pclass = t.groupby('Pclass')['Age'].transform('median')\n",
    "\n",
    "# Ersetze fehlende Alterswerte durch den Mittelwert in der jeweiligen Pclass\n",
    "t['Age'].fillna(mean_age_by_pclass, inplace=True)\n",
    "\n",
    "# Überprüfe, ob es noch fehlende Werte in der 'Age'-Spalte gibt\n",
    "print(t['Age'].isnull().sum())\n"
   ]
  },
  {
   "cell_type": "code",
   "execution_count": 30,
   "metadata": {},
   "outputs": [],
   "source": [
    "# Andere Lösung\n",
    "#def fill_mean(g):\n",
    "#    return g[\"Age\"].fillna(g[\"Age\"].mean())\n",
    "\n",
    "# fill_mean = lambda g,col: g[col].fillna(g[col].mean())\n",
    "\n",
    "# t.groupby(by='Pclass').apply(fill_mean)"
   ]
  },
  {
   "attachments": {},
   "cell_type": "markdown",
   "metadata": {},
   "source": [
    "c) Löschen Sie alle Passagiere mit unbekanntem „Embarked“. <br>\n",
    "d) Wie viele Zeilen wurden gelöscht?"
   ]
  },
  {
   "cell_type": "code",
   "execution_count": 31,
   "metadata": {},
   "outputs": [
    {
     "name": "stdout",
     "output_type": "stream",
     "text": [
      "Anzahl der gelöschten Zeilen: 2\n"
     ]
    }
   ],
   "source": [
    "# Anzahl der Zeilen vor dem Löschen\n",
    "embarked_len = len(t)\n",
    "\n",
    "# Lösche alle Zeilen, in denen 'Embarked' NaN ist\n",
    "t.dropna(subset=['Embarked'], inplace=True)\n",
    "\n",
    "# Anzahl der Zeilen nach dem Löschen\n",
    "no_embarked_len = len(t)\n",
    "\n",
    "rows_lost = embarked_len-no_embarked_len\n",
    "\n",
    "print(f\"Anzahl der gelöschten Zeilen: {rows_lost}\")"
   ]
  },
  {
   "attachments": {},
   "cell_type": "markdown",
   "metadata": {},
   "source": [
    "### Aufgabe 8 <br>\n",
    "a) Extrahieren Sie die Nachnamen"
   ]
  },
  {
   "cell_type": "code",
   "execution_count": 32,
   "metadata": {},
   "outputs": [
    {
     "name": "stdout",
     "output_type": "stream",
     "text": [
      "                                                Name   LastName\n",
      "0                            Braund, Mr. Owen Harris     Braund\n",
      "1  Cumings, Mrs. John Bradley (Florence Briggs Th...    Cumings\n",
      "2                             Heikkinen, Miss. Laina  Heikkinen\n",
      "3       Futrelle, Mrs. Jacques Heath (Lily May Peel)   Futrelle\n",
      "4                           Allen, Mr. William Henry      Allen\n"
     ]
    }
   ],
   "source": [
    "# Extrahiere Nachnamen\n",
    "t['LastName'] = t['Name'].apply(lambda name: name.split(',')[0])\n",
    "\n",
    "# Anzeigen der ersten paar Zeilen zur Überprüfung\n",
    "print(t[['Name', 'LastName']].head())"
   ]
  },
  {
   "cell_type": "code",
   "execution_count": 33,
   "metadata": {},
   "outputs": [
    {
     "data": {
      "text/html": [
       "<div>\n",
       "<style scoped>\n",
       "    .dataframe tbody tr th:only-of-type {\n",
       "        vertical-align: middle;\n",
       "    }\n",
       "\n",
       "    .dataframe tbody tr th {\n",
       "        vertical-align: top;\n",
       "    }\n",
       "\n",
       "    .dataframe thead th {\n",
       "        text-align: right;\n",
       "    }\n",
       "</style>\n",
       "<table border=\"1\" class=\"dataframe\">\n",
       "  <thead>\n",
       "    <tr style=\"text-align: right;\">\n",
       "      <th></th>\n",
       "      <th>Name</th>\n",
       "      <th>last_name</th>\n",
       "    </tr>\n",
       "  </thead>\n",
       "  <tbody>\n",
       "    <tr>\n",
       "      <th>137</th>\n",
       "      <td>Futrelle, Mr. Jacques Heath</td>\n",
       "      <td>Futrelle</td>\n",
       "    </tr>\n",
       "    <tr>\n",
       "      <th>503</th>\n",
       "      <td>Laitinen, Miss. Kristina Sofia</td>\n",
       "      <td>Laitinen</td>\n",
       "    </tr>\n",
       "    <tr>\n",
       "      <th>53</th>\n",
       "      <td>Faunthorpe, Mrs. Lizzie (Elizabeth Anne Wilkin...</td>\n",
       "      <td>Faunthorpe</td>\n",
       "    </tr>\n",
       "  </tbody>\n",
       "</table>\n",
       "</div>"
      ],
      "text/plain": [
       "                                                  Name   last_name\n",
       "137                        Futrelle, Mr. Jacques Heath    Futrelle\n",
       "503                     Laitinen, Miss. Kristina Sofia    Laitinen\n",
       "53   Faunthorpe, Mrs. Lizzie (Elizabeth Anne Wilkin...  Faunthorpe"
      ]
     },
     "execution_count": 33,
     "metadata": {},
     "output_type": "execute_result"
    }
   ],
   "source": [
    "t[\"last_name\"] = t[\"Name\"].str.extract(r'^(.+),')\n",
    "t.sample(3)[[\"Name\", \"last_name\"]]\n"
   ]
  },
  {
   "attachments": {},
   "cell_type": "markdown",
   "metadata": {},
   "source": [
    "c) Berechnen Sie für die Nachnamen die Soundex-Werte"
   ]
  },
  {
   "cell_type": "code",
   "execution_count": 34,
   "metadata": {},
   "outputs": [],
   "source": [
    "import soundex"
   ]
  },
  {
   "cell_type": "code",
   "execution_count": 35,
   "metadata": {},
   "outputs": [
    {
     "name": "stdout",
     "output_type": "stream",
     "text": [
      "    LastName Soundex\n",
      "0     Braund    B653\n",
      "1    Cumings     C52\n",
      "2  Heikkinen     H25\n",
      "3   Futrelle    F364\n",
      "4      Allen     A45\n"
     ]
    }
   ],
   "source": [
    "# Extrahiere Nachnamen\n",
    "t['LastName'] = t['Name'].apply(lambda name: name.split(',')[0])\n",
    "\n",
    "# Initialisiere Soundex-Instanz\n",
    "soundex_instance = soundex.Soundex()\n",
    "\n",
    "# Berechne Soundex-Werte\n",
    "t['Soundex'] = t['LastName'].apply(lambda x: soundex_instance.soundex(x))\n",
    "\n",
    "# Anzeigen der ersten paar Zeilen zur Überprüfung\n",
    "print(t[['LastName', 'Soundex']].head())"
   ]
  },
  {
   "cell_type": "code",
   "execution_count": 36,
   "metadata": {},
   "outputs": [],
   "source": [
    "#t[\"soundex\"] = t[\"last_name\"].map(soundex)\n",
    "#t.sample(3)[[\"Name\", \"soundex\"]]"
   ]
  },
  {
   "attachments": {},
   "cell_type": "markdown",
   "metadata": {},
   "source": [
    " Untersuchen Sie Passagiere mit identischem Soundex, um Duplikate zu finden (das kann\n",
    "man mit einem Join machen). Die Ergebnismenge muss weiter eingeschränkt werden,\n",
    "z.B. indem man das Geschlecht oder die Ticket Nummer berücksichtigt.\n",
    "Finden Sie ein echtes Duplikat?"
   ]
  },
  {
   "cell_type": "code",
   "execution_count": 37,
   "metadata": {},
   "outputs": [
    {
     "name": "stdout",
     "output_type": "stream",
     "text": [
      "           Name_left      Name_right Soundex Sex_left Ticket_left\n",
      "1604   Ling, Mr. Lee  Lang, Mr. Fang     L52     male        1601\n",
      "1607  Lang, Mr. Fang   Ling, Mr. Lee     L52     male        1601\n"
     ]
    }
   ],
   "source": [
    "# Initialisiere Soundex-Instanz und extrahiere Nachnamen\n",
    "soundex_instance = soundex.Soundex()\n",
    "t['Soundex'] = t['LastName'].apply(lambda x: soundex_instance.soundex(x))\n",
    "\n",
    "# Führe einen Self-Join auf dem DataFrame basierend auf dem Soundex-Code durch\n",
    "# und schließe zusätzliche Kriterien wie Geschlecht und Ticketnummer ein\n",
    "duplikate = pd.merge(t, t, on=['Soundex'], suffixes=('_left', '_right'))\n",
    "duplikate = duplikate[(duplikate['Sex_left'] == duplikate['Sex_right']) & \n",
    "                      (duplikate['Ticket_left'] == duplikate['Ticket_right']) &\n",
    "                      (duplikate['LastName_left'] != duplikate['LastName_right'])]\n",
    "\n",
    "# Überprüfe die Ergebnisse\n",
    "print(duplikate[['Name_left', 'Name_right', 'Soundex', 'Sex_left', 'Ticket_left']])\n"
   ]
  },
  {
   "cell_type": "code",
   "execution_count": 38,
   "metadata": {},
   "outputs": [
    {
     "data": {
      "text/html": [
       "<div>\n",
       "<style scoped>\n",
       "    .dataframe tbody tr th:only-of-type {\n",
       "        vertical-align: middle;\n",
       "    }\n",
       "\n",
       "    .dataframe tbody tr th {\n",
       "        vertical-align: top;\n",
       "    }\n",
       "\n",
       "    .dataframe thead th {\n",
       "        text-align: right;\n",
       "    }\n",
       "</style>\n",
       "<table border=\"1\" class=\"dataframe\">\n",
       "  <thead>\n",
       "    <tr style=\"text-align: right;\">\n",
       "      <th></th>\n",
       "      <th>PassengerId</th>\n",
       "      <th>Survived</th>\n",
       "      <th>Pclass</th>\n",
       "      <th>Name</th>\n",
       "      <th>Sex</th>\n",
       "      <th>Age</th>\n",
       "      <th>SibSp</th>\n",
       "      <th>Parch</th>\n",
       "      <th>Ticket</th>\n",
       "      <th>Fare</th>\n",
       "      <th>Cabin</th>\n",
       "      <th>Embarked</th>\n",
       "      <th>Age class</th>\n",
       "      <th>Fare_Bins</th>\n",
       "      <th>Alone</th>\n",
       "      <th>LastName</th>\n",
       "      <th>last_name</th>\n",
       "      <th>Soundex</th>\n",
       "    </tr>\n",
       "  </thead>\n",
       "  <tbody>\n",
       "    <tr>\n",
       "      <th>25</th>\n",
       "      <td>26</td>\n",
       "      <td>1</td>\n",
       "      <td>3</td>\n",
       "      <td>Asplund, Mrs. Carl Oscar (Selma Augusta Emilia...</td>\n",
       "      <td>female</td>\n",
       "      <td>38.0</td>\n",
       "      <td>1</td>\n",
       "      <td>5</td>\n",
       "      <td>347077</td>\n",
       "      <td>31.3875</td>\n",
       "      <td>NaN</td>\n",
       "      <td>S</td>\n",
       "      <td>adult,female</td>\n",
       "      <td>sehr teuer</td>\n",
       "      <td>0</td>\n",
       "      <td>Asplund</td>\n",
       "      <td>Asplund</td>\n",
       "      <td>A21453</td>\n",
       "    </tr>\n",
       "    <tr>\n",
       "      <th>233</th>\n",
       "      <td>234</td>\n",
       "      <td>1</td>\n",
       "      <td>3</td>\n",
       "      <td>Asplund, Miss. Lillian Gertrud</td>\n",
       "      <td>female</td>\n",
       "      <td>5.0</td>\n",
       "      <td>4</td>\n",
       "      <td>2</td>\n",
       "      <td>347077</td>\n",
       "      <td>31.3875</td>\n",
       "      <td>NaN</td>\n",
       "      <td>S</td>\n",
       "      <td>child</td>\n",
       "      <td>sehr teuer</td>\n",
       "      <td>0</td>\n",
       "      <td>Asplund</td>\n",
       "      <td>Asplund</td>\n",
       "      <td>A21453</td>\n",
       "    </tr>\n",
       "    <tr>\n",
       "      <th>182</th>\n",
       "      <td>183</td>\n",
       "      <td>0</td>\n",
       "      <td>3</td>\n",
       "      <td>Asplund, Master. Clarence Gustaf Hugo</td>\n",
       "      <td>male</td>\n",
       "      <td>9.0</td>\n",
       "      <td>4</td>\n",
       "      <td>2</td>\n",
       "      <td>347077</td>\n",
       "      <td>31.3875</td>\n",
       "      <td>NaN</td>\n",
       "      <td>S</td>\n",
       "      <td>child</td>\n",
       "      <td>sehr teuer</td>\n",
       "      <td>0</td>\n",
       "      <td>Asplund</td>\n",
       "      <td>Asplund</td>\n",
       "      <td>A21453</td>\n",
       "    </tr>\n",
       "    <tr>\n",
       "      <th>261</th>\n",
       "      <td>262</td>\n",
       "      <td>1</td>\n",
       "      <td>3</td>\n",
       "      <td>Asplund, Master. Edvin Rojj Felix</td>\n",
       "      <td>male</td>\n",
       "      <td>3.0</td>\n",
       "      <td>4</td>\n",
       "      <td>2</td>\n",
       "      <td>347077</td>\n",
       "      <td>31.3875</td>\n",
       "      <td>NaN</td>\n",
       "      <td>S</td>\n",
       "      <td>child</td>\n",
       "      <td>sehr teuer</td>\n",
       "      <td>0</td>\n",
       "      <td>Asplund</td>\n",
       "      <td>Asplund</td>\n",
       "      <td>A21453</td>\n",
       "    </tr>\n",
       "    <tr>\n",
       "      <th>244</th>\n",
       "      <td>245</td>\n",
       "      <td>0</td>\n",
       "      <td>3</td>\n",
       "      <td>Attalah, Mr. Sleiman</td>\n",
       "      <td>male</td>\n",
       "      <td>30.0</td>\n",
       "      <td>0</td>\n",
       "      <td>0</td>\n",
       "      <td>2694</td>\n",
       "      <td>7.2250</td>\n",
       "      <td>NaN</td>\n",
       "      <td>C</td>\n",
       "      <td>adult,male</td>\n",
       "      <td>billig</td>\n",
       "      <td>1</td>\n",
       "      <td>Attalah</td>\n",
       "      <td>Attalah</td>\n",
       "      <td>A34</td>\n",
       "    </tr>\n",
       "    <tr>\n",
       "      <th>...</th>\n",
       "      <td>...</td>\n",
       "      <td>...</td>\n",
       "      <td>...</td>\n",
       "      <td>...</td>\n",
       "      <td>...</td>\n",
       "      <td>...</td>\n",
       "      <td>...</td>\n",
       "      <td>...</td>\n",
       "      <td>...</td>\n",
       "      <td>...</td>\n",
       "      <td>...</td>\n",
       "      <td>...</td>\n",
       "      <td>...</td>\n",
       "      <td>...</td>\n",
       "      <td>...</td>\n",
       "      <td>...</td>\n",
       "      <td>...</td>\n",
       "      <td>...</td>\n",
       "    </tr>\n",
       "    <tr>\n",
       "      <th>203</th>\n",
       "      <td>204</td>\n",
       "      <td>0</td>\n",
       "      <td>3</td>\n",
       "      <td>Youseff, Mr. Gerious</td>\n",
       "      <td>male</td>\n",
       "      <td>45.5</td>\n",
       "      <td>0</td>\n",
       "      <td>0</td>\n",
       "      <td>2628</td>\n",
       "      <td>7.2250</td>\n",
       "      <td>NaN</td>\n",
       "      <td>C</td>\n",
       "      <td>adult,male</td>\n",
       "      <td>billig</td>\n",
       "      <td>1</td>\n",
       "      <td>Youseff</td>\n",
       "      <td>Youseff</td>\n",
       "      <td>Y21</td>\n",
       "    </tr>\n",
       "    <tr>\n",
       "      <th>354</th>\n",
       "      <td>355</td>\n",
       "      <td>0</td>\n",
       "      <td>3</td>\n",
       "      <td>Yousif, Mr. Wazli</td>\n",
       "      <td>male</td>\n",
       "      <td>NaN</td>\n",
       "      <td>0</td>\n",
       "      <td>0</td>\n",
       "      <td>2647</td>\n",
       "      <td>7.2250</td>\n",
       "      <td>NaN</td>\n",
       "      <td>C</td>\n",
       "      <td>&lt;NA&gt;</td>\n",
       "      <td>billig</td>\n",
       "      <td>1</td>\n",
       "      <td>Yousif</td>\n",
       "      <td>Yousif</td>\n",
       "      <td>Y21</td>\n",
       "    </tr>\n",
       "    <tr>\n",
       "      <th>495</th>\n",
       "      <td>496</td>\n",
       "      <td>0</td>\n",
       "      <td>3</td>\n",
       "      <td>Yousseff, Mr. Gerious</td>\n",
       "      <td>male</td>\n",
       "      <td>NaN</td>\n",
       "      <td>0</td>\n",
       "      <td>0</td>\n",
       "      <td>2627</td>\n",
       "      <td>14.4583</td>\n",
       "      <td>NaN</td>\n",
       "      <td>C</td>\n",
       "      <td>&lt;NA&gt;</td>\n",
       "      <td>teuer</td>\n",
       "      <td>1</td>\n",
       "      <td>Yousseff</td>\n",
       "      <td>Yousseff</td>\n",
       "      <td>Y21</td>\n",
       "    </tr>\n",
       "    <tr>\n",
       "      <th>111</th>\n",
       "      <td>112</td>\n",
       "      <td>0</td>\n",
       "      <td>3</td>\n",
       "      <td>Zabour, Miss. Hileni</td>\n",
       "      <td>female</td>\n",
       "      <td>14.5</td>\n",
       "      <td>1</td>\n",
       "      <td>0</td>\n",
       "      <td>2665</td>\n",
       "      <td>14.4542</td>\n",
       "      <td>NaN</td>\n",
       "      <td>C</td>\n",
       "      <td>teenager</td>\n",
       "      <td>normal</td>\n",
       "      <td>0</td>\n",
       "      <td>Zabour</td>\n",
       "      <td>Zabour</td>\n",
       "      <td>Z16</td>\n",
       "    </tr>\n",
       "    <tr>\n",
       "      <th>240</th>\n",
       "      <td>241</td>\n",
       "      <td>0</td>\n",
       "      <td>3</td>\n",
       "      <td>Zabour, Miss. Thamine</td>\n",
       "      <td>female</td>\n",
       "      <td>NaN</td>\n",
       "      <td>1</td>\n",
       "      <td>0</td>\n",
       "      <td>2665</td>\n",
       "      <td>14.4542</td>\n",
       "      <td>NaN</td>\n",
       "      <td>C</td>\n",
       "      <td>&lt;NA&gt;</td>\n",
       "      <td>normal</td>\n",
       "      <td>0</td>\n",
       "      <td>Zabour</td>\n",
       "      <td>Zabour</td>\n",
       "      <td>Z16</td>\n",
       "    </tr>\n",
       "  </tbody>\n",
       "</table>\n",
       "<p>389 rows × 18 columns</p>\n",
       "</div>"
      ],
      "text/plain": [
       "     PassengerId  Survived  Pclass  \\\n",
       "25            26         1       3   \n",
       "233          234         1       3   \n",
       "182          183         0       3   \n",
       "261          262         1       3   \n",
       "244          245         0       3   \n",
       "..           ...       ...     ...   \n",
       "203          204         0       3   \n",
       "354          355         0       3   \n",
       "495          496         0       3   \n",
       "111          112         0       3   \n",
       "240          241         0       3   \n",
       "\n",
       "                                                  Name     Sex   Age  SibSp  \\\n",
       "25   Asplund, Mrs. Carl Oscar (Selma Augusta Emilia...  female  38.0      1   \n",
       "233                     Asplund, Miss. Lillian Gertrud  female   5.0      4   \n",
       "182              Asplund, Master. Clarence Gustaf Hugo    male   9.0      4   \n",
       "261                  Asplund, Master. Edvin Rojj Felix    male   3.0      4   \n",
       "244                               Attalah, Mr. Sleiman    male  30.0      0   \n",
       "..                                                 ...     ...   ...    ...   \n",
       "203                               Youseff, Mr. Gerious    male  45.5      0   \n",
       "354                                  Yousif, Mr. Wazli    male   NaN      0   \n",
       "495                              Yousseff, Mr. Gerious    male   NaN      0   \n",
       "111                               Zabour, Miss. Hileni  female  14.5      1   \n",
       "240                              Zabour, Miss. Thamine  female   NaN      1   \n",
       "\n",
       "     Parch  Ticket     Fare Cabin Embarked     Age class   Fare_Bins  Alone  \\\n",
       "25       5  347077  31.3875   NaN        S  adult,female  sehr teuer      0   \n",
       "233      2  347077  31.3875   NaN        S         child  sehr teuer      0   \n",
       "182      2  347077  31.3875   NaN        S         child  sehr teuer      0   \n",
       "261      2  347077  31.3875   NaN        S         child  sehr teuer      0   \n",
       "244      0    2694   7.2250   NaN        C    adult,male      billig      1   \n",
       "..     ...     ...      ...   ...      ...           ...         ...    ...   \n",
       "203      0    2628   7.2250   NaN        C    adult,male      billig      1   \n",
       "354      0    2647   7.2250   NaN        C          <NA>      billig      1   \n",
       "495      0    2627  14.4583   NaN        C          <NA>       teuer      1   \n",
       "111      0    2665  14.4542   NaN        C      teenager      normal      0   \n",
       "240      0    2665  14.4542   NaN        C          <NA>      normal      0   \n",
       "\n",
       "     LastName last_name Soundex  \n",
       "25    Asplund   Asplund  A21453  \n",
       "233   Asplund   Asplund  A21453  \n",
       "182   Asplund   Asplund  A21453  \n",
       "261   Asplund   Asplund  A21453  \n",
       "244   Attalah   Attalah     A34  \n",
       "..        ...       ...     ...  \n",
       "203   Youseff   Youseff     Y21  \n",
       "354    Yousif    Yousif     Y21  \n",
       "495  Yousseff  Yousseff     Y21  \n",
       "111    Zabour    Zabour     Z16  \n",
       "240    Zabour    Zabour     Z16  \n",
       "\n",
       "[389 rows x 18 columns]"
      ]
     },
     "execution_count": 38,
     "metadata": {},
     "output_type": "execute_result"
    }
   ],
   "source": [
    "dup = t[[\"Soundex\", \"Sex\"]].duplicated(keep=False)\n",
    "t.loc[dup].sort_values(by=[\"Soundex\", \"Sex\"])"
   ]
  },
  {
   "cell_type": "code",
   "execution_count": 39,
   "metadata": {},
   "outputs": [
    {
     "data": {
      "text/html": [
       "<div>\n",
       "<style scoped>\n",
       "    .dataframe tbody tr th:only-of-type {\n",
       "        vertical-align: middle;\n",
       "    }\n",
       "\n",
       "    .dataframe tbody tr th {\n",
       "        vertical-align: top;\n",
       "    }\n",
       "\n",
       "    .dataframe thead th {\n",
       "        text-align: right;\n",
       "    }\n",
       "</style>\n",
       "<table border=\"1\" class=\"dataframe\">\n",
       "  <thead>\n",
       "    <tr style=\"text-align: right;\">\n",
       "      <th></th>\n",
       "      <th>PassengerId</th>\n",
       "      <th>Name</th>\n",
       "      <th>Soundex</th>\n",
       "      <th>Ticket</th>\n",
       "      <th>Cabin</th>\n",
       "    </tr>\n",
       "  </thead>\n",
       "  <tbody>\n",
       "  </tbody>\n",
       "</table>\n",
       "</div>"
      ],
      "text/plain": [
       "Empty DataFrame\n",
       "Columns: [PassengerId, Name, Soundex, Ticket, Cabin]\n",
       "Index: []"
      ]
     },
     "execution_count": 39,
     "metadata": {},
     "output_type": "execute_result"
    }
   ],
   "source": [
    "(\n",
    "    t.groupby(by=[\"Soundex\", \"Sex\"])\n",
    "    .filter(lambda g: g.shape[0] > 1)\n",
    "    .sort_values(by=[\"Soundex\", \"Sex\", \"Ticket\"])\n",
    "    [[\"PassengerId\",\"Name\", \"Soundex\", \"Ticket\", \"Cabin\"]]\n",
    "    .loc[lambda s: s[\"Soundex\"]=='Y210']\n",
    ")"
   ]
  },
  {
   "cell_type": "code",
   "execution_count": null,
   "metadata": {},
   "outputs": [],
   "source": []
  }
 ],
 "metadata": {
  "kernelspec": {
   "display_name": "base",
   "language": "python",
   "name": "python3"
  },
  "language_info": {
   "codemirror_mode": {
    "name": "ipython",
    "version": 3
   },
   "file_extension": ".py",
   "mimetype": "text/x-python",
   "name": "python",
   "nbconvert_exporter": "python",
   "pygments_lexer": "ipython3",
   "version": "3.10.9"
  },
  "orig_nbformat": 4
 },
 "nbformat": 4,
 "nbformat_minor": 2
}
