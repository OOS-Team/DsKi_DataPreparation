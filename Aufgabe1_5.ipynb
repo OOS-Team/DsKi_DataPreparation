{
 "cells": [
  {
   "cell_type": "markdown",
   "metadata": {},
   "source": [
    "# Aufgabe 5\n",
    "### Komplett"
   ]
  },
  {
   "cell_type": "code",
   "execution_count": 1,
   "metadata": {},
   "outputs": [],
   "source": [
    "import pandas as pd\n",
    "import numpy as np"
   ]
  },
  {
   "cell_type": "code",
   "execution_count": 2,
   "metadata": {},
   "outputs": [
    {
     "name": "stderr",
     "output_type": "stream",
     "text": [
      "/var/folders/vr/klm94mws7lsd0vj7h5gd2bqw0000gn/T/ipykernel_40871/2510679518.py:10: FutureWarning: In a future version, passing float-dtype values containing NaN and an integer dtype will raise IntCastingNaNError (subclass of ValueError) instead of silently ignoring the passed dtype. To retain the old behavior, call Series(arr) or DataFrame(arr) without passing a dtype.\n",
      "  series = pd.Series([value], dtype=dtype)\n"
     ]
    },
    {
     "data": {
      "text/plain": [
       "{'float': {'None': 'nan',\n",
       "  'nan': 'nan',\n",
       "  '<NA>': \"Error: float() argument must be a string or a real number, not 'NAType'\"},\n",
       " 'int': {'None': \"Error: int() argument must be a string, a bytes-like object or a real number, not 'NoneType'\",\n",
       "  'nan': 'nan',\n",
       "  '<NA>': \"Error: int() argument must be a string, a bytes-like object or a real number, not 'NAType'\"},\n",
       " 'object': {'None': 'None', 'nan': 'nan', '<NA>': '<NA>'},\n",
       " 'boolean': {'None': '<NA>', 'nan': '<NA>', '<NA>': '<NA>'},\n",
       " 'string': {'None': '<NA>', 'nan': '<NA>', '<NA>': '<NA>'},\n",
       " 'datetime64[ns]': {'None': 'NaT', 'nan': 'NaT', '<NA>': 'NaT'},\n",
       " 'Int64': {'None': '<NA>', 'nan': '<NA>', '<NA>': '<NA>'}}"
      ]
     },
     "execution_count": 2,
     "metadata": {},
     "output_type": "execute_result"
    }
   ],
   "source": [
    "data_types = [\"float\", \"int\", \"object\", \"boolean\", \"string\", \"datetime64[ns]\", \"Int64\"]\n",
    "values_to_test = [None, np.nan, pd.NA]\n",
    "\n",
    "results = {}\n",
    "\n",
    "for dtype in data_types:\n",
    "    series_results = {}\n",
    "    for value in values_to_test:\n",
    "        try:\n",
    "            series = pd.Series([value], dtype=dtype)\n",
    "            series_results[str(value)] = str(series[0])\n",
    "        except Exception as e:\n",
    "            series_results[str(value)] = f\"Error: {str(e)}\"\n",
    "    results[dtype] = series_results\n",
    "\n",
    "results\n"
   ]
  },
  {
   "cell_type": "code",
   "execution_count": null,
   "metadata": {},
   "outputs": [],
   "source": []
  }
 ],
 "metadata": {
  "kernelspec": {
   "display_name": "base",
   "language": "python",
   "name": "python3"
  },
  "language_info": {
   "codemirror_mode": {
    "name": "ipython",
    "version": 3
   },
   "file_extension": ".py",
   "mimetype": "text/x-python",
   "name": "python",
   "nbconvert_exporter": "python",
   "pygments_lexer": "ipython3",
   "version": "3.10.9"
  },
  "orig_nbformat": 4
 },
 "nbformat": 4,
 "nbformat_minor": 2
}
