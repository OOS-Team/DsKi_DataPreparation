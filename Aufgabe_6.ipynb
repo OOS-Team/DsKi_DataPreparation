{
 "cells": [
  {
   "cell_type": "markdown",
   "metadata": {},
   "source": [
    "# Aufgabe 6 "
   ]
  },
  {
   "cell_type": "markdown",
   "metadata": {},
   "source": [
    "Alle Aufgaben"
   ]
  },
  {
   "cell_type": "code",
   "execution_count": 212,
   "metadata": {},
   "outputs": [
    {
     "name": "stdout",
     "output_type": "stream",
     "text": [
      "Exception reporting mode: Minimal\n"
     ]
    }
   ],
   "source": [
    "import pandas as pd\n",
    "%xmode minimal\n",
    "pd.set_option(\"mode.copy_on_write\", True)"
   ]
  },
  {
   "cell_type": "code",
   "execution_count": 213,
   "metadata": {},
   "outputs": [],
   "source": [
    "t = pd.read_csv('https://raw.githubusercontent.com/pandas-dev/pandas/master/doc/data/titanic.csv')"
   ]
  },
  {
   "cell_type": "code",
   "execution_count": 242,
   "metadata": {},
   "outputs": [
    {
     "data": {
      "text/plain": [
       "(891, 13)"
      ]
     },
     "execution_count": 242,
     "metadata": {},
     "output_type": "execute_result"
    }
   ],
   "source": [
    "t.shape"
   ]
  },
  {
   "cell_type": "code",
   "execution_count": 214,
   "metadata": {},
   "outputs": [
    {
     "data": {
      "text/html": [
       "<div>\n",
       "<style scoped>\n",
       "    .dataframe tbody tr th:only-of-type {\n",
       "        vertical-align: middle;\n",
       "    }\n",
       "\n",
       "    .dataframe tbody tr th {\n",
       "        vertical-align: top;\n",
       "    }\n",
       "\n",
       "    .dataframe thead th {\n",
       "        text-align: right;\n",
       "    }\n",
       "</style>\n",
       "<table border=\"1\" class=\"dataframe\">\n",
       "  <thead>\n",
       "    <tr style=\"text-align: right;\">\n",
       "      <th></th>\n",
       "      <th>PassengerId</th>\n",
       "      <th>Survived</th>\n",
       "      <th>Pclass</th>\n",
       "      <th>Name</th>\n",
       "      <th>Sex</th>\n",
       "      <th>Age</th>\n",
       "      <th>SibSp</th>\n",
       "      <th>Parch</th>\n",
       "      <th>Ticket</th>\n",
       "      <th>Fare</th>\n",
       "      <th>Cabin</th>\n",
       "      <th>Embarked</th>\n",
       "    </tr>\n",
       "  </thead>\n",
       "  <tbody>\n",
       "    <tr>\n",
       "      <th>0</th>\n",
       "      <td>1</td>\n",
       "      <td>0</td>\n",
       "      <td>3</td>\n",
       "      <td>Braund, Mr. Owen Harris</td>\n",
       "      <td>male</td>\n",
       "      <td>22.0</td>\n",
       "      <td>1</td>\n",
       "      <td>0</td>\n",
       "      <td>A/5 21171</td>\n",
       "      <td>7.2500</td>\n",
       "      <td>NaN</td>\n",
       "      <td>S</td>\n",
       "    </tr>\n",
       "    <tr>\n",
       "      <th>1</th>\n",
       "      <td>2</td>\n",
       "      <td>1</td>\n",
       "      <td>1</td>\n",
       "      <td>Cumings, Mrs. John Bradley (Florence Briggs Th...</td>\n",
       "      <td>female</td>\n",
       "      <td>38.0</td>\n",
       "      <td>1</td>\n",
       "      <td>0</td>\n",
       "      <td>PC 17599</td>\n",
       "      <td>71.2833</td>\n",
       "      <td>C85</td>\n",
       "      <td>C</td>\n",
       "    </tr>\n",
       "    <tr>\n",
       "      <th>2</th>\n",
       "      <td>3</td>\n",
       "      <td>1</td>\n",
       "      <td>3</td>\n",
       "      <td>Heikkinen, Miss. Laina</td>\n",
       "      <td>female</td>\n",
       "      <td>26.0</td>\n",
       "      <td>0</td>\n",
       "      <td>0</td>\n",
       "      <td>STON/O2. 3101282</td>\n",
       "      <td>7.9250</td>\n",
       "      <td>NaN</td>\n",
       "      <td>S</td>\n",
       "    </tr>\n",
       "  </tbody>\n",
       "</table>\n",
       "</div>"
      ],
      "text/plain": [
       "   PassengerId  Survived  Pclass  \\\n",
       "0            1         0       3   \n",
       "1            2         1       1   \n",
       "2            3         1       3   \n",
       "\n",
       "                                                Name     Sex   Age  SibSp  \\\n",
       "0                            Braund, Mr. Owen Harris    male  22.0      1   \n",
       "1  Cumings, Mrs. John Bradley (Florence Briggs Th...  female  38.0      1   \n",
       "2                             Heikkinen, Miss. Laina  female  26.0      0   \n",
       "\n",
       "   Parch            Ticket     Fare Cabin Embarked  \n",
       "0      0         A/5 21171   7.2500   NaN        S  \n",
       "1      0          PC 17599  71.2833   C85        C  \n",
       "2      0  STON/O2. 3101282   7.9250   NaN        S  "
      ]
     },
     "execution_count": 214,
     "metadata": {},
     "output_type": "execute_result"
    }
   ],
   "source": [
    "t.head(3)"
   ]
  },
  {
   "attachments": {},
   "cell_type": "markdown",
   "metadata": {},
   "source": [
    "## 6.1 Einfache Gruppierung"
   ]
  },
  {
   "attachments": {},
   "cell_type": "markdown",
   "metadata": {},
   "source": [
    "a)Wie viele Passagiere haben keine Information zu ihrer Kabine?"
   ]
  },
  {
   "cell_type": "code",
   "execution_count": 215,
   "metadata": {},
   "outputs": [
    {
     "data": {
      "text/plain": [
       "687"
      ]
     },
     "execution_count": 215,
     "metadata": {},
     "output_type": "execute_result"
    }
   ],
   "source": [
    "missing_cabine_count = t[\"Cabin\"].isna().sum()\n",
    "missing_cabine_count"
   ]
  },
  {
   "attachments": {},
   "cell_type": "markdown",
   "metadata": {},
   "source": [
    "b) Haben nur Passagiere der dritten Klasse keine Kabine oder haben wir eher ein\n",
    "Datenqualitätsproblem?"
   ]
  },
  {
   "cell_type": "code",
   "execution_count": 216,
   "metadata": {},
   "outputs": [
    {
     "data": {
      "text/plain": [
       "(491,)"
      ]
     },
     "execution_count": 216,
     "metadata": {},
     "output_type": "execute_result"
    }
   ],
   "source": [
    "class_3 = t.loc[t[\"Pclass\"]==3, \"Cabin\"]\n",
    "class_3.shape"
   ]
  },
  {
   "cell_type": "code",
   "execution_count": 217,
   "metadata": {},
   "outputs": [
    {
     "data": {
      "text/plain": [
       "479"
      ]
     },
     "execution_count": 217,
     "metadata": {},
     "output_type": "execute_result"
    }
   ],
   "source": [
    "clas_3_nan = t.loc[t[\"Pclass\"]==3, \"Cabin\"].isna()\n",
    "clas_3_nan.sum()"
   ]
  },
  {
   "cell_type": "markdown",
   "metadata": {},
   "source": [
    "c) Welche unterschiedlichen Kabinen gab es? Erstellen Sie eine sortierte Liste."
   ]
  },
  {
   "cell_type": "code",
   "execution_count": 218,
   "metadata": {},
   "outputs": [
    {
     "data": {
      "text/plain": [
       "['A10',\n",
       " 'A14',\n",
       " 'A16',\n",
       " 'A19',\n",
       " 'A20',\n",
       " 'A23',\n",
       " 'A24',\n",
       " 'A26',\n",
       " 'A31',\n",
       " 'A32',\n",
       " 'A34',\n",
       " 'A36',\n",
       " 'A5',\n",
       " 'A6',\n",
       " 'A7',\n",
       " 'B101',\n",
       " 'B102',\n",
       " 'B18',\n",
       " 'B19',\n",
       " 'B20',\n",
       " 'B22',\n",
       " 'B28',\n",
       " 'B3',\n",
       " 'B30',\n",
       " 'B35',\n",
       " 'B37',\n",
       " 'B38',\n",
       " 'B39',\n",
       " 'B4',\n",
       " 'B41',\n",
       " 'B42',\n",
       " 'B49',\n",
       " 'B5',\n",
       " 'B50',\n",
       " 'B51 B53 B55',\n",
       " 'B57 B59 B63 B66',\n",
       " 'B58 B60',\n",
       " 'B69',\n",
       " 'B71',\n",
       " 'B73',\n",
       " 'B77',\n",
       " 'B78',\n",
       " 'B79',\n",
       " 'B80',\n",
       " 'B82 B84',\n",
       " 'B86',\n",
       " 'B94',\n",
       " 'B96 B98',\n",
       " 'C101',\n",
       " 'C103',\n",
       " 'C104',\n",
       " 'C106',\n",
       " 'C110',\n",
       " 'C111',\n",
       " 'C118',\n",
       " 'C123',\n",
       " 'C124',\n",
       " 'C125',\n",
       " 'C126',\n",
       " 'C128',\n",
       " 'C148',\n",
       " 'C2',\n",
       " 'C22 C26',\n",
       " 'C23 C25 C27',\n",
       " 'C30',\n",
       " 'C32',\n",
       " 'C45',\n",
       " 'C46',\n",
       " 'C47',\n",
       " 'C49',\n",
       " 'C50',\n",
       " 'C52',\n",
       " 'C54',\n",
       " 'C62 C64',\n",
       " 'C65',\n",
       " 'C68',\n",
       " 'C7',\n",
       " 'C70',\n",
       " 'C78',\n",
       " 'C82',\n",
       " 'C83',\n",
       " 'C85',\n",
       " 'C86',\n",
       " 'C87',\n",
       " 'C90',\n",
       " 'C91',\n",
       " 'C92',\n",
       " 'C93',\n",
       " 'C95',\n",
       " 'C99',\n",
       " 'D',\n",
       " 'D10 D12',\n",
       " 'D11',\n",
       " 'D15',\n",
       " 'D17',\n",
       " 'D19',\n",
       " 'D20',\n",
       " 'D21',\n",
       " 'D26',\n",
       " 'D28',\n",
       " 'D30',\n",
       " 'D33',\n",
       " 'D35',\n",
       " 'D36',\n",
       " 'D37',\n",
       " 'D45',\n",
       " 'D46',\n",
       " 'D47',\n",
       " 'D48',\n",
       " 'D49',\n",
       " 'D50',\n",
       " 'D56',\n",
       " 'D6',\n",
       " 'D7',\n",
       " 'D9',\n",
       " 'E10',\n",
       " 'E101',\n",
       " 'E12',\n",
       " 'E121',\n",
       " 'E17',\n",
       " 'E24',\n",
       " 'E25',\n",
       " 'E31',\n",
       " 'E33',\n",
       " 'E34',\n",
       " 'E36',\n",
       " 'E38',\n",
       " 'E40',\n",
       " 'E44',\n",
       " 'E46',\n",
       " 'E49',\n",
       " 'E50',\n",
       " 'E58',\n",
       " 'E63',\n",
       " 'E67',\n",
       " 'E68',\n",
       " 'E77',\n",
       " 'E8',\n",
       " 'F E69',\n",
       " 'F G63',\n",
       " 'F G73',\n",
       " 'F2',\n",
       " 'F33',\n",
       " 'F38',\n",
       " 'F4',\n",
       " 'G6',\n",
       " 'T']"
      ]
     },
     "execution_count": 218,
     "metadata": {},
     "output_type": "execute_result"
    }
   ],
   "source": [
    "sorted_unique_cabins = t.groupby(\"Cabin\").first().index.sort_values().tolist()\n",
    "sorted_unique_cabins"
   ]
  },
  {
   "attachments": {},
   "cell_type": "markdown",
   "metadata": {},
   "source": [
    "d) Wie viele unterschiedliche Kabinen gab es?"
   ]
  },
  {
   "cell_type": "code",
   "execution_count": 219,
   "metadata": {},
   "outputs": [
    {
     "data": {
      "text/plain": [
       "147"
      ]
     },
     "execution_count": 219,
     "metadata": {},
     "output_type": "execute_result"
    }
   ],
   "source": [
    "len(sorted_unique_cabins)\n"
   ]
  },
  {
   "attachments": {},
   "cell_type": "markdown",
   "metadata": {},
   "source": [
    "e) Gibt es einen Zusammenhang zwischen der Klasse und der Kabinennummer?\n",
    "<br> <br>\n",
    "Keinen erkenntlichen Zusammenhang"
   ]
  },
  {
   "cell_type": "code",
   "execution_count": 220,
   "metadata": {},
   "outputs": [
    {
     "name": "stdout",
     "output_type": "stream",
     "text": [
      "<bound method Series.unique of 1              C85\n",
      "3             C123\n",
      "6              E46\n",
      "11            C103\n",
      "23              A6\n",
      "          ...     \n",
      "871            D35\n",
      "872    B51 B53 B55\n",
      "879            C50\n",
      "887            B42\n",
      "889           C148\n",
      "Name: Cabin, Length: 216, dtype: object>\n"
     ]
    }
   ],
   "source": [
    "class1_unique_cabins = t.loc[t[\"Pclass\"]==1, \"Cabin\"].unique\n",
    "print(class1_unique_cabins)"
   ]
  },
  {
   "cell_type": "code",
   "execution_count": 221,
   "metadata": {},
   "outputs": [
    {
     "name": "stdout",
     "output_type": "stream",
     "text": [
      "<bound method Series.unique of 21      D56\n",
      "66      F33\n",
      "123    E101\n",
      "148      F2\n",
      "183      F4\n",
      "193      F2\n",
      "292       D\n",
      "303    E101\n",
      "327       D\n",
      "340      F2\n",
      "345     F33\n",
      "473       D\n",
      "516     F33\n",
      "618      F4\n",
      "717    E101\n",
      "772     E77\n",
      "Name: Cabin, dtype: object>\n"
     ]
    }
   ],
   "source": [
    "class2_unique_cabins = t.loc[(t[\"Pclass\"]==2)&(t[\"Cabin\"].notna()), \"Cabin\"].unique\n",
    "print(class2_unique_cabins)"
   ]
  },
  {
   "cell_type": "code",
   "execution_count": 222,
   "metadata": {},
   "outputs": [
    {
     "name": "stdout",
     "output_type": "stream",
     "text": [
      "<bound method Series.unique of 10        G6\n",
      "75     F G73\n",
      "128    F E69\n",
      "205       G6\n",
      "251       G6\n",
      "394       G6\n",
      "429      E10\n",
      "699    F G63\n",
      "715    F G73\n",
      "751     E121\n",
      "776      F38\n",
      "823     E121\n",
      "Name: Cabin, dtype: object>\n"
     ]
    }
   ],
   "source": [
    "class3_unique_cabins = t.loc[(t[\"Pclass\"]==3)&(t[\"Cabin\"].notna()), \"Cabin\"].unique\n",
    "print(class3_unique_cabins)"
   ]
  },
  {
   "attachments": {},
   "cell_type": "markdown",
   "metadata": {},
   "source": [
    "f) Wie viele Passagiere waren im Schnitt und wie viele maximal in einer Kabine?"
   ]
  },
  {
   "attachments": {},
   "cell_type": "markdown",
   "metadata": {},
   "source": [
    "Gruppieren nach Klasse und Kabine"
   ]
  },
  {
   "cell_type": "code",
   "execution_count": 223,
   "metadata": {},
   "outputs": [],
   "source": [
    "grouped_cabine_class = t.groupby([\"Pclass\",\"Cabin\"])"
   ]
  },
  {
   "attachments": {},
   "cell_type": "markdown",
   "metadata": {},
   "source": [
    "Durchschnitt von ANzahl passagiere in Kabine"
   ]
  },
  {
   "cell_type": "code",
   "execution_count": 224,
   "metadata": {},
   "outputs": [
    {
     "data": {
      "text/plain": [
       "1.3877551020408163"
      ]
     },
     "execution_count": 224,
     "metadata": {},
     "output_type": "execute_result"
    }
   ],
   "source": [
    "grouped_cabine_passenger = grouped_cabine_class[\"PassengerId\"].count()\n",
    "grouped_cabine_passenger.mean()"
   ]
  },
  {
   "attachments": {},
   "cell_type": "markdown",
   "metadata": {},
   "source": [
    "Max Anzahl Passagiere in Kabine"
   ]
  },
  {
   "cell_type": "code",
   "execution_count": 225,
   "metadata": {},
   "outputs": [
    {
     "data": {
      "text/plain": [
       "4"
      ]
     },
     "execution_count": 225,
     "metadata": {},
     "output_type": "execute_result"
    }
   ],
   "source": [
    "grouped_cabine_passenger.max()"
   ]
  },
  {
   "cell_type": "markdown",
   "metadata": {},
   "source": [
    "g) In wie viele Kabinen waren Minderjährige gebucht?"
   ]
  },
  {
   "cell_type": "code",
   "execution_count": 226,
   "metadata": {},
   "outputs": [
    {
     "data": {
      "text/plain": [
       "14"
      ]
     },
     "execution_count": 226,
     "metadata": {},
     "output_type": "execute_result"
    }
   ],
   "source": [
    "# Filtern des DataFrames, um nur Minderjährige zu erhalten\n",
    "minors_df = t[t['Age'] < 18]\n",
    "\n",
    "# Zählen der einzigartigen Kabinen, in denen Minderjährige gebucht waren\n",
    "unique_cabins_with_minors = minors_df['Cabin'].nunique()\n",
    "unique_cabins_with_minors"
   ]
  },
  {
   "attachments": {},
   "cell_type": "markdown",
   "metadata": {},
   "source": [
    "Mit lambda "
   ]
  },
  {
   "cell_type": "code",
   "execution_count": 227,
   "metadata": {},
   "outputs": [],
   "source": [
    "grouped_cabin = t.groupby(\"Cabin\")"
   ]
  },
  {
   "cell_type": "code",
   "execution_count": 228,
   "metadata": {},
   "outputs": [
    {
     "data": {
      "text/plain": [
       "14"
      ]
     },
     "execution_count": 228,
     "metadata": {},
     "output_type": "execute_result"
    }
   ],
   "source": [
    "minderjährige_in_kabine = grouped_cabin[\"Age\"].apply(lambda x: (x < 18).any())\n",
    "minderjährige_in_kabine.sum()"
   ]
  },
  {
   "attachments": {},
   "cell_type": "markdown",
   "metadata": {},
   "source": [
    "## 6.2. Minimum"
   ]
  },
  {
   "attachments": {},
   "cell_type": "markdown",
   "metadata": {},
   "source": [
    "a) Finden Sie den kleinsten und größten Fahrpreis je Klasse."
   ]
  },
  {
   "cell_type": "code",
   "execution_count": 229,
   "metadata": {},
   "outputs": [],
   "source": [
    "grouped_classes = t.groupby(\"Pclass\")"
   ]
  },
  {
   "cell_type": "code",
   "execution_count": 230,
   "metadata": {},
   "outputs": [
    {
     "data": {
      "text/plain": [
       "Pclass\n",
       "1    512.3292\n",
       "2     73.5000\n",
       "3     69.5500\n",
       "Name: Fare, dtype: float64"
      ]
     },
     "execution_count": 230,
     "metadata": {},
     "output_type": "execute_result"
    }
   ],
   "source": [
    "grouped_classes[\"Fare\"].max()"
   ]
  },
  {
   "cell_type": "code",
   "execution_count": 231,
   "metadata": {},
   "outputs": [
    {
     "data": {
      "text/plain": [
       "Pclass\n",
       "1    0.0\n",
       "2    0.0\n",
       "3    0.0\n",
       "Name: Fare, dtype: float64"
      ]
     },
     "execution_count": 231,
     "metadata": {},
     "output_type": "execute_result"
    }
   ],
   "source": [
    "grouped_classes[\"Fare\"].min()"
   ]
  },
  {
   "cell_type": "code",
   "execution_count": 232,
   "metadata": {},
   "outputs": [
    {
     "data": {
      "text/html": [
       "<div>\n",
       "<style scoped>\n",
       "    .dataframe tbody tr th:only-of-type {\n",
       "        vertical-align: middle;\n",
       "    }\n",
       "\n",
       "    .dataframe tbody tr th {\n",
       "        vertical-align: top;\n",
       "    }\n",
       "\n",
       "    .dataframe thead tr th {\n",
       "        text-align: left;\n",
       "    }\n",
       "\n",
       "    .dataframe thead tr:last-of-type th {\n",
       "        text-align: right;\n",
       "    }\n",
       "</style>\n",
       "<table border=\"1\" class=\"dataframe\">\n",
       "  <thead>\n",
       "    <tr>\n",
       "      <th></th>\n",
       "      <th colspan=\"2\" halign=\"left\">Fare</th>\n",
       "    </tr>\n",
       "    <tr>\n",
       "      <th></th>\n",
       "      <th>min</th>\n",
       "      <th>max</th>\n",
       "    </tr>\n",
       "    <tr>\n",
       "      <th>Pclass</th>\n",
       "      <th></th>\n",
       "      <th></th>\n",
       "    </tr>\n",
       "  </thead>\n",
       "  <tbody>\n",
       "    <tr>\n",
       "      <th>1</th>\n",
       "      <td>0.0</td>\n",
       "      <td>512.3292</td>\n",
       "    </tr>\n",
       "    <tr>\n",
       "      <th>2</th>\n",
       "      <td>0.0</td>\n",
       "      <td>73.5000</td>\n",
       "    </tr>\n",
       "    <tr>\n",
       "      <th>3</th>\n",
       "      <td>0.0</td>\n",
       "      <td>69.5500</td>\n",
       "    </tr>\n",
       "  </tbody>\n",
       "</table>\n",
       "</div>"
      ],
      "text/plain": [
       "       Fare          \n",
       "        min       max\n",
       "Pclass               \n",
       "1       0.0  512.3292\n",
       "2       0.0   73.5000\n",
       "3       0.0   69.5500"
      ]
     },
     "execution_count": 232,
     "metadata": {},
     "output_type": "execute_result"
    }
   ],
   "source": [
    "grouped_classes.agg({\"Fare\":(\"min\",\"max\")})"
   ]
  },
  {
   "attachments": {},
   "cell_type": "markdown",
   "metadata": {},
   "source": [
    "b) Oft ist man nicht nur am Wert, sondern auch an den zugehörigen Daten interessiert, die\n",
    "zu diesem Wert gehören. Finden Sie mit idxmin() die Namen der Passagiere mit den\n",
    "extremen Fahrpreisen aus a) heraus."
   ]
  },
  {
   "cell_type": "code",
   "execution_count": 233,
   "metadata": {},
   "outputs": [
    {
     "name": "stdout",
     "output_type": "stream",
     "text": [
      "        min       max                     min_name                    max_name\n",
      "Pclass                                                                        \n",
      "1       0.0  512.3292        Harrison, Mr. William            Ward, Miss. Anna\n",
      "2       0.0   73.5000  Parkes, Mr. Francis \"Frank\"        Hood, Mr. Ambrose Jr\n",
      "3       0.0   69.5500          Leonard, Mr. Lionel  Sage, Master. Thomas Henry\n"
     ]
    }
   ],
   "source": [
    "grouped_classes = t.groupby('Pclass')\n",
    "\n",
    "min_names = []\n",
    "max_names = []\n",
    "\n",
    "for group, group_df in grouped_classes:\n",
    "    min_idx = group_df['Fare'].idxmin()\n",
    "    max_idx = group_df['Fare'].idxmax()\n",
    "    \n",
    "    min_names.append(t.loc[min_idx, 'Name'])\n",
    "    max_names.append(t.loc[max_idx, 'Name'])\n",
    "\n",
    "result = grouped_classes['Fare'].agg(['min', 'max'])\n",
    "result['min_name'] = min_names\n",
    "result['max_name'] = max_names\n",
    "\n",
    "print(result)\n"
   ]
  },
  {
   "attachments": {},
   "cell_type": "markdown",
   "metadata": {},
   "source": [
    "c) Falls das Minimum / Maximum nicht eindeutig ist, welchen Wert liefert dann\n",
    "idxmin()?"
   ]
  },
  {
   "cell_type": "markdown",
   "metadata": {},
   "source": [
    "Die Methoden idxmin() und idxmax() in Pandas geben den Index des ersten Minimums bzw. Maximums zurück, wenn es mehrere Einträge mit dem gleichen minimalen oder maximalen Wert gibt.\n",
    "\n",
    "Wenn es also in einer Serie oder einem DataFrame mehrere Zeilen mit dem gleichen minimalen (oder maximalen) Wert gibt, wird idxmin() (oder idxmax()) den Index der ersten dieser Zeilen zurückgeben."
   ]
  },
  {
   "attachments": {},
   "cell_type": "markdown",
   "metadata": {},
   "source": [
    "d) Wir würden gerne alle Passagiere mit extremen Fahrpreisen gemäß a) kennen."
   ]
  },
  {
   "cell_type": "code",
   "execution_count": 234,
   "metadata": {},
   "outputs": [
    {
     "name": "stdout",
     "output_type": "stream",
     "text": [
      "   Pclass                         Name      Fare\n",
      "0       1        Harrison, Mr. William    0.0000\n",
      "1       1             Ward, Miss. Anna  512.3292\n",
      "2       2  Parkes, Mr. Francis \"Frank\"    0.0000\n",
      "3       2         Hood, Mr. Ambrose Jr   73.5000\n",
      "4       3          Leonard, Mr. Lionel    0.0000\n",
      "5       3   Sage, Master. Thomas Henry   69.5500\n"
     ]
    }
   ],
   "source": [
    "# Rangieren der Fahrpreise in aufsteigender und absteigender Reihenfolge innerhalb jeder Klasse\n",
    "t['min_rank'] = t.groupby('Pclass')['Fare'].rank(method='min')\n",
    "t['max_rank'] = t.groupby('Pclass')['Fare'].rank(method='min', ascending=False)\n",
    "\n",
    "# Filtern des DataFrames, um den ersten Eintrag für das Minimum und Maximum jeder Klasse zu behalten\n",
    "min_fares = t[t['min_rank'] == 1].groupby('Pclass').first().reset_index()[['Pclass', 'Name', 'Fare']]\n",
    "max_fares = t[t['max_rank'] == 1].groupby('Pclass').first().reset_index()[['Pclass', 'Name', 'Fare']]\n",
    "\n",
    "# Kombinieren der beiden DataFrames\n",
    "extreme_fares = pd.concat([min_fares, max_fares], axis=0).sort_values(by='Pclass').reset_index(drop=True)\n",
    "\n",
    "print(extreme_fares)\n"
   ]
  },
  {
   "attachments": {},
   "cell_type": "markdown",
   "metadata": {},
   "source": [
    "## 6.3. Quantile"
   ]
  },
  {
   "attachments": {},
   "cell_type": "markdown",
   "metadata": {},
   "source": [
    "Berücksichtigt quantile() Null-Werte? Testen Sie."
   ]
  },
  {
   "attachments": {},
   "cell_type": "markdown",
   "metadata": {},
   "source": [
    "Die quantile() Methode gibt den Wert des angegebenen Quantils für eine gegebene Datenmenge zurück."
   ]
  },
  {
   "attachments": {},
   "cell_type": "markdown",
   "metadata": {},
   "source": [
    "Die Methode quantile() in Pandas berücksichtigt keine NaN (Null)-Werte bei der Berechnung. Das bedeutet, dass NaN-Werte standardmäßig ausgeschlossen werden."
   ]
  },
  {
   "cell_type": "code",
   "execution_count": 235,
   "metadata": {},
   "outputs": [
    {
     "data": {
      "text/plain": [
       "(30.0, 30.0)"
      ]
     },
     "execution_count": 235,
     "metadata": {},
     "output_type": "execute_result"
    }
   ],
   "source": [
    "import pandas as pd\n",
    "\n",
    "# Erstellen eines Beispieldatenframes mit einigen Null-Werten\n",
    "data = {'values': [10, 20, 30, 40, 50, None, None]}\n",
    "df = pd.DataFrame(data)\n",
    "\n",
    "# Berechnen des Quantils ohne die Behandlung von Null-Werten\n",
    "quantile_without_handling_na = df['values'].quantile(0.5)\n",
    "\n",
    "# Berechnen des Quantils mit explizitem Ausschluxss von Null-Werten\n",
    "quantile_with_dropna = df['values'].dropna().quantile(0.5)\n",
    "\n",
    "quantile_without_handling_na, quantile_with_dropna\n"
   ]
  },
  {
   "attachments": {},
   "cell_type": "markdown",
   "metadata": {},
   "source": [
    "Test: <br>\n",
    "- Das Medianquantil (0,5) des Beispieldatenframes ohne explizites Handling von Null-Werten ergab 30.0.\n",
    "- Das Medianquantil (0,5) des Beispieldatenframes, bei dem NaN-Werte explizit mit dropna() ausgeschlossen wurden, ergab ebenfalls 30.0."
   ]
  },
  {
   "cell_type": "markdown",
   "metadata": {},
   "source": [
    "Aggregation und Sortierung\n",
    "Für welche der vorgestellten Aggregations-Funktionen beeinflusst die Sortierung der\n",
    "Daten im DataFrame das Ergebnis?"
   ]
  },
  {
   "attachments": {},
   "cell_type": "markdown",
   "metadata": {},
   "source": [
    "Soweit ich weiß keine von\n",
    "- sum(): Summe der Werte\n",
    "- mean(): Mittelwert der Werte\n",
    "- median(): Median der Werte\n",
    "- min(): Minimum der Werte\n",
    "- max(): Maximum der Werte\n",
    "- std(): Standardabweichung\n",
    "- var(): Varianz\n",
    "- count(): Anzahl der nicht-NA-Zellen\n",
    "- nunique(): Anzahl der einzigartigen Werte\n",
    "- quantile(): Wert am gegebenen Quantil"
   ]
  },
  {
   "attachments": {},
   "cell_type": "markdown",
   "metadata": {},
   "source": [
    "## 6.5. Duplikate"
   ]
  },
  {
   "attachments": {},
   "cell_type": "markdown",
   "metadata": {},
   "source": [
    "a) Mit dem Attribut .is_unique kann man herausfinden, ob eine Series nur eindeutige\n",
    "Werte enthält.\n",
    "Überprüfen Sie, ob („Name“) ein Schlüssel ist."
   ]
  },
  {
   "cell_type": "code",
   "execution_count": 236,
   "metadata": {},
   "outputs": [
    {
     "data": {
      "text/plain": [
       "True"
      ]
     },
     "execution_count": 236,
     "metadata": {},
     "output_type": "execute_result"
    }
   ],
   "source": [
    "t_names = t[\"Name\"]\n",
    "t_names.is_unique"
   ]
  },
  {
   "attachments": {},
   "cell_type": "markdown",
   "metadata": {},
   "source": [
    "b) Definieren Sie „Name“ als Index und stellen Sie per assert sicher, dass er eindeutig ist."
   ]
  },
  {
   "cell_type": "code",
   "execution_count": 237,
   "metadata": {},
   "outputs": [],
   "source": [
    "# Setzen des Index\n",
    "t_index_name = t.set_index('Name', inplace=True)\n",
    "\n",
    "# Hinweis wenn der Index nicht einzigartig ist \n",
    "assert t.index.is_unique, \"Der Index 'Name' ist nicht eindeutig!\"\n"
   ]
  },
  {
   "attachments": {},
   "cell_type": "markdown",
   "metadata": {},
   "source": [
    "c) Überprüfen Sie, ob („Ticket“, „Cabin“) ein Schlüssel ist."
   ]
  },
  {
   "cell_type": "code",
   "execution_count": 238,
   "metadata": {},
   "outputs": [
    {
     "data": {
      "text/plain": [
       "(False, False, False)"
      ]
     },
     "execution_count": 238,
     "metadata": {},
     "output_type": "execute_result"
    }
   ],
   "source": [
    "# Überprüfen, ob \"Ticket\" eindeutig ist\n",
    "is_ticket_unique = t['Ticket'].is_unique\n",
    "\n",
    "# Überprüfen, ob \"Cabin\" eindeutig ist\n",
    "is_cabin_unique = t['Cabin'].is_unique\n",
    "\n",
    "# Überprüfen, ob die Kombination aus \"Ticket\" und \"Cabin\" eindeutig ist\n",
    "t['Ticket_Cabin'] = t['Ticket'].astype(str) + '_' + t['Cabin'].astype(str)\n",
    "is_ticket_cabin_unique = t['Ticket_Cabin'].is_unique\n",
    "\n",
    "# Löschen der zusammengesetzten Spalte\n",
    "del t['Ticket_Cabin']\n",
    "\n",
    "is_ticket_unique, is_cabin_unique, is_ticket_cabin_unique\n",
    "# True, wenn \"Ticket\" eindeutig ist, sonst False.\n",
    "# True, wenn \"Cabin\" eindeutig ist, sonst False.\n",
    "# True, wenn die Kombination aus \"Ticket\" und \"Cabin\" eindeutig ist, sonst False."
   ]
  },
  {
   "attachments": {},
   "cell_type": "markdown",
   "metadata": {},
   "source": [
    "d) Ermitteln Sie die Passagiere, für die es mindestens 4 (damit das Ergebnis kleiner wird)\n",
    "Duplikate für („Ticket“, „Cabin“) erzeugen."
   ]
  },
  {
   "cell_type": "code",
   "execution_count": 240,
   "metadata": {},
   "outputs": [
    {
     "data": {
      "text/html": [
       "<div>\n",
       "<style scoped>\n",
       "    .dataframe tbody tr th:only-of-type {\n",
       "        vertical-align: middle;\n",
       "    }\n",
       "\n",
       "    .dataframe tbody tr th {\n",
       "        vertical-align: top;\n",
       "    }\n",
       "\n",
       "    .dataframe thead th {\n",
       "        text-align: right;\n",
       "    }\n",
       "</style>\n",
       "<table border=\"1\" class=\"dataframe\">\n",
       "  <thead>\n",
       "    <tr style=\"text-align: right;\">\n",
       "      <th></th>\n",
       "      <th>Ticket</th>\n",
       "      <th>Cabin</th>\n",
       "    </tr>\n",
       "    <tr>\n",
       "      <th>Name</th>\n",
       "      <th></th>\n",
       "      <th></th>\n",
       "    </tr>\n",
       "  </thead>\n",
       "  <tbody>\n",
       "    <tr>\n",
       "      <th>Fortune, Mr. Charles Alexander</th>\n",
       "      <td>19950</td>\n",
       "      <td>C23 C25 C27</td>\n",
       "    </tr>\n",
       "    <tr>\n",
       "      <th>Fortune, Miss. Mabel Helen</th>\n",
       "      <td>19950</td>\n",
       "      <td>C23 C25 C27</td>\n",
       "    </tr>\n",
       "    <tr>\n",
       "      <th>Fortune, Miss. Alice Elizabeth</th>\n",
       "      <td>19950</td>\n",
       "      <td>C23 C25 C27</td>\n",
       "    </tr>\n",
       "    <tr>\n",
       "      <th>Carter, Mr. William Ernest</th>\n",
       "      <td>113760</td>\n",
       "      <td>B96 B98</td>\n",
       "    </tr>\n",
       "    <tr>\n",
       "      <th>Carter, Miss. Lucile Polk</th>\n",
       "      <td>113760</td>\n",
       "      <td>B96 B98</td>\n",
       "    </tr>\n",
       "    <tr>\n",
       "      <th>Fortune, Mr. Mark</th>\n",
       "      <td>19950</td>\n",
       "      <td>C23 C25 C27</td>\n",
       "    </tr>\n",
       "    <tr>\n",
       "      <th>Carter, Mrs. William Ernest (Lucile Polk)</th>\n",
       "      <td>113760</td>\n",
       "      <td>B96 B98</td>\n",
       "    </tr>\n",
       "    <tr>\n",
       "      <th>Carter, Master. William Thornton II</th>\n",
       "      <td>113760</td>\n",
       "      <td>B96 B98</td>\n",
       "    </tr>\n",
       "  </tbody>\n",
       "</table>\n",
       "</div>"
      ],
      "text/plain": [
       "                                           Ticket        Cabin\n",
       "Name                                                          \n",
       "Fortune, Mr. Charles Alexander              19950  C23 C25 C27\n",
       "Fortune, Miss. Mabel Helen                  19950  C23 C25 C27\n",
       "Fortune, Miss. Alice Elizabeth              19950  C23 C25 C27\n",
       "Carter, Mr. William Ernest                 113760      B96 B98\n",
       "Carter, Miss. Lucile Polk                  113760      B96 B98\n",
       "Fortune, Mr. Mark                           19950  C23 C25 C27\n",
       "Carter, Mrs. William Ernest (Lucile Polk)  113760      B96 B98\n",
       "Carter, Master. William Thornton II        113760      B96 B98"
      ]
     },
     "execution_count": 240,
     "metadata": {},
     "output_type": "execute_result"
    }
   ],
   "source": [
    "\n",
    "# Gruppieren nach \"Ticket\" und \"Cabin\" und zählen der Passagiere in jeder Gruppe\n",
    "grouped_counts = t.groupby(['Ticket', 'Cabin']).size()\n",
    "\n",
    "# Filtern der Gruppen, die mindestens 4 Duplikate haben\n",
    "tickets_cabins_with_duplicates = grouped_counts[grouped_counts >= 4].index.tolist()\n",
    "\n",
    "# Filtern des DataFrames, um Passagiere mit den identifizierten \"Ticket\" und \"Cabin\"-Kombinationen zu erhalten\n",
    "passengers_with_duplicates = t[t.set_index(['Ticket', 'Cabin']).index.isin(tickets_cabins_with_duplicates)]\n",
    "\n",
    "passengers_with_duplicates[['Ticket', 'Cabin']]"
   ]
  },
  {
   "attachments": {},
   "cell_type": "markdown",
   "metadata": {},
   "source": [
    "e) Ermitteln Sie die Duplikate von d) über value_counts()."
   ]
  },
  {
   "cell_type": "code",
   "execution_count": 241,
   "metadata": {},
   "outputs": [
    {
     "data": {
      "text/html": [
       "<div>\n",
       "<style scoped>\n",
       "    .dataframe tbody tr th:only-of-type {\n",
       "        vertical-align: middle;\n",
       "    }\n",
       "\n",
       "    .dataframe tbody tr th {\n",
       "        vertical-align: top;\n",
       "    }\n",
       "\n",
       "    .dataframe thead th {\n",
       "        text-align: right;\n",
       "    }\n",
       "</style>\n",
       "<table border=\"1\" class=\"dataframe\">\n",
       "  <thead>\n",
       "    <tr style=\"text-align: right;\">\n",
       "      <th></th>\n",
       "      <th>Ticket</th>\n",
       "      <th>Cabin</th>\n",
       "    </tr>\n",
       "    <tr>\n",
       "      <th>Name</th>\n",
       "      <th></th>\n",
       "      <th></th>\n",
       "    </tr>\n",
       "  </thead>\n",
       "  <tbody>\n",
       "    <tr>\n",
       "      <th>Palsson, Master. Gosta Leonard</th>\n",
       "      <td>349909</td>\n",
       "      <td>NaN</td>\n",
       "    </tr>\n",
       "    <tr>\n",
       "      <th>Andersson, Mr. Anders Johan</th>\n",
       "      <td>347082</td>\n",
       "      <td>NaN</td>\n",
       "    </tr>\n",
       "    <tr>\n",
       "      <th>Rice, Master. Eugene</th>\n",
       "      <td>382652</td>\n",
       "      <td>NaN</td>\n",
       "    </tr>\n",
       "    <tr>\n",
       "      <th>Palsson, Miss. Torborg Danira</th>\n",
       "      <td>349909</td>\n",
       "      <td>NaN</td>\n",
       "    </tr>\n",
       "    <tr>\n",
       "      <th>Asplund, Mrs. Carl Oscar (Selma Augusta Emilia Johansson)</th>\n",
       "      <td>347077</td>\n",
       "      <td>NaN</td>\n",
       "    </tr>\n",
       "    <tr>\n",
       "      <th>...</th>\n",
       "      <td>...</td>\n",
       "      <td>...</td>\n",
       "    </tr>\n",
       "    <tr>\n",
       "      <th>Sage, Mr. Douglas Bullen</th>\n",
       "      <td>CA. 2343</td>\n",
       "      <td>NaN</td>\n",
       "    </tr>\n",
       "    <tr>\n",
       "      <th>Andersson, Master. Sigvard Harald Elias</th>\n",
       "      <td>347082</td>\n",
       "      <td>NaN</td>\n",
       "    </tr>\n",
       "    <tr>\n",
       "      <th>Baclini, Mrs. Solomon (Latifa Qurban)</th>\n",
       "      <td>2666</td>\n",
       "      <td>NaN</td>\n",
       "    </tr>\n",
       "    <tr>\n",
       "      <th>Sage, Miss. Dorothy Edith \"Dolly\"</th>\n",
       "      <td>CA. 2343</td>\n",
       "      <td>NaN</td>\n",
       "    </tr>\n",
       "    <tr>\n",
       "      <th>Rice, Mrs. William (Margaret Norton)</th>\n",
       "      <td>382652</td>\n",
       "      <td>NaN</td>\n",
       "    </tr>\n",
       "  </tbody>\n",
       "</table>\n",
       "<p>81 rows × 2 columns</p>\n",
       "</div>"
      ],
      "text/plain": [
       "                                                      Ticket Cabin\n",
       "Name                                                              \n",
       "Palsson, Master. Gosta Leonard                        349909   NaN\n",
       "Andersson, Mr. Anders Johan                           347082   NaN\n",
       "Rice, Master. Eugene                                  382652   NaN\n",
       "Palsson, Miss. Torborg Danira                         349909   NaN\n",
       "Asplund, Mrs. Carl Oscar (Selma Augusta Emilia ...    347077   NaN\n",
       "...                                                      ...   ...\n",
       "Sage, Mr. Douglas Bullen                            CA. 2343   NaN\n",
       "Andersson, Master. Sigvard Harald Elias               347082   NaN\n",
       "Baclini, Mrs. Solomon (Latifa Qurban)                   2666   NaN\n",
       "Sage, Miss. Dorothy Edith \"Dolly\"                   CA. 2343   NaN\n",
       "Rice, Mrs. William (Margaret Norton)                  382652   NaN\n",
       "\n",
       "[81 rows x 2 columns]"
      ]
     },
     "execution_count": 241,
     "metadata": {},
     "output_type": "execute_result"
    }
   ],
   "source": [
    "# Kombinieren von \"Ticket\" und \"Cabin\" in einer Spalte und Verwenden von value_counts() \n",
    "ticket_cabin_counts = t[['Ticket', 'Cabin']].astype(str).agg('_'.join, axis=1).value_counts()\n",
    "\n",
    "# Filtern der Kombinationen, die mindestens 4 Duplikate haben\n",
    "duplicates = ticket_cabin_counts[ticket_cabin_counts >= 4].index.tolist()\n",
    "\n",
    "# Filtern des DataFrames, um Passagiere mit den identifizierten \"Ticket\" und \"Cabin\"-Kombinationen zu erhalten\n",
    "passengers_with_duplicates_value_counts = t[t[['Ticket', 'Cabin']].astype(str).agg('_'.join, axis=1).isin(duplicates)]\n",
    "\n",
    "passengers_with_duplicates_value_counts[['Ticket', 'Cabin']]"
   ]
  },
  {
   "attachments": {},
   "cell_type": "markdown",
   "metadata": {},
   "source": [
    "## 6.6 Wie wird man ein SQL-HAVING in pandas abbilden?"
   ]
  },
  {
   "attachments": {},
   "cell_type": "markdown",
   "metadata": {},
   "source": [
    "In SQL wird das HAVING-Schlüsselwort verwendet, um Bedingungen nach einer Aggregation anzuwenden. In Pandas können Sie eine ähnliche Funktionalität erreichen, indem Sie die Methode groupby() verwenden, gefolgt von einer Aggregationsfunktion und dann die resultierenden Gruppen mit einer Bedingung filtern.\n",
    "\n",
    "Zusammenfassend lässt sich sagen, dass Sie in Pandas das HAVING-Schlüsselwort aus SQL durch die Kombination von groupby(), agg() und Bedingungen mit loc[] abbilden können."
   ]
  },
  {
   "cell_type": "markdown",
   "metadata": {},
   "source": []
  }
 ],
 "metadata": {
  "kernelspec": {
   "display_name": "base",
   "language": "python",
   "name": "python3"
  },
  "language_info": {
   "codemirror_mode": {
    "name": "ipython",
    "version": 3
   },
   "file_extension": ".py",
   "mimetype": "text/x-python",
   "name": "python",
   "nbconvert_exporter": "python",
   "pygments_lexer": "ipython3",
   "version": "3.10.9"
  },
  "orig_nbformat": 4
 },
 "nbformat": 4,
 "nbformat_minor": 2
}
