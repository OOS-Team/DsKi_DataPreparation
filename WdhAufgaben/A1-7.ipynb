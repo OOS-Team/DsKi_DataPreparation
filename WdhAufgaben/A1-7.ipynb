{
 "cells": [
  {
   "cell_type": "code",
   "execution_count": 1,
   "metadata": {},
   "outputs": [
    {
     "name": "stdout",
     "output_type": "stream",
     "text": [
      "Exception reporting mode: Minimal\n"
     ]
    }
   ],
   "source": [
    "import pandas as pd\n",
    "%xmode minimal"
   ]
  },
  {
   "attachments": {},
   "cell_type": "markdown",
   "metadata": {},
   "source": [
    "# Aufgabe 7 Joins\n",
    "## 7.1 H2020 Projekte"
   ]
  },
  {
   "attachments": {},
   "cell_type": "markdown",
   "metadata": {},
   "source": [
    "a)"
   ]
  },
  {
   "cell_type": "code",
   "execution_count": 7,
   "metadata": {},
   "outputs": [],
   "source": [
    "p = pd.read_csv('../data/cordis_eu_2020/project.csv', sep=';', decimal=',')\n",
    "o = pd.read_csv('../data/cordis_eu_2020/organization.csv', sep=';', decimal=',')"
   ]
  },
  {
   "cell_type": "code",
   "execution_count": 15,
   "metadata": {},
   "outputs": [
    {
     "data": {
      "text/html": [
       "<div>\n",
       "<style scoped>\n",
       "    .dataframe tbody tr th:only-of-type {\n",
       "        vertical-align: middle;\n",
       "    }\n",
       "\n",
       "    .dataframe tbody tr th {\n",
       "        vertical-align: top;\n",
       "    }\n",
       "\n",
       "    .dataframe thead th {\n",
       "        text-align: right;\n",
       "    }\n",
       "</style>\n",
       "<table border=\"1\" class=\"dataframe\">\n",
       "  <thead>\n",
       "    <tr style=\"text-align: right;\">\n",
       "      <th></th>\n",
       "      <th>projectID</th>\n",
       "      <th>acronym</th>\n",
       "      <th>status</th>\n",
       "      <th>title</th>\n",
       "      <th>startDate</th>\n",
       "      <th>endDate</th>\n",
       "      <th>totalCost</th>\n",
       "      <th>ecMaxContribution</th>\n",
       "      <th>legalBasis</th>\n",
       "      <th>topics</th>\n",
       "      <th>ecSignatureDate</th>\n",
       "      <th>frameworkProgramme</th>\n",
       "      <th>masterCall</th>\n",
       "      <th>subCall</th>\n",
       "      <th>fundingScheme</th>\n",
       "      <th>nature</th>\n",
       "      <th>objective</th>\n",
       "      <th>contentUpdateDate</th>\n",
       "      <th>rcn</th>\n",
       "      <th>grantDoi</th>\n",
       "    </tr>\n",
       "  </thead>\n",
       "  <tbody>\n",
       "    <tr>\n",
       "      <th>0</th>\n",
       "      <td>888561</td>\n",
       "      <td>Mag-Spin</td>\n",
       "      <td>CLOSED</td>\n",
       "      <td>A novel material for watch crystals and watch ...</td>\n",
       "      <td>2019-11-01</td>\n",
       "      <td>2020-04-30</td>\n",
       "      <td>71429.0</td>\n",
       "      <td>50000.0</td>\n",
       "      <td>H2020-EU.2.3.</td>\n",
       "      <td>EIC-SMEInst-2018-2020</td>\n",
       "      <td>2019-12-04</td>\n",
       "      <td>H2020</td>\n",
       "      <td>H2020-EIC-SMEInst-2018-2020</td>\n",
       "      <td>H2020-SMEInst-2018-2020-1</td>\n",
       "      <td>SME-1</td>\n",
       "      <td>NaN</td>\n",
       "      <td>Watch companies over the last century have con...</td>\n",
       "      <td>2022-08-17 14:28:09</td>\n",
       "      <td>226627</td>\n",
       "      <td>10.3030/888561</td>\n",
       "    </tr>\n",
       "    <tr>\n",
       "      <th>1</th>\n",
       "      <td>673504</td>\n",
       "      <td>EcoVel</td>\n",
       "      <td>CLOSED</td>\n",
       "      <td>Commercialization of the most sustainable laun...</td>\n",
       "      <td>2015-05-01</td>\n",
       "      <td>2016-01-31</td>\n",
       "      <td>71429.0</td>\n",
       "      <td>50000.0</td>\n",
       "      <td>H2020-EU.3.5.</td>\n",
       "      <td>SC5-20-2014-1</td>\n",
       "      <td>2015-04-10</td>\n",
       "      <td>H2020</td>\n",
       "      <td>H2020-SMEInst-2014-2015</td>\n",
       "      <td>H2020-SMEINST-1-2014</td>\n",
       "      <td>SME-1</td>\n",
       "      <td>NaN</td>\n",
       "      <td>With project EcoVel, COIN Consulting UG will r...</td>\n",
       "      <td>2022-08-11 10:58:18</td>\n",
       "      <td>196509</td>\n",
       "      <td>10.3030/673504</td>\n",
       "    </tr>\n",
       "  </tbody>\n",
       "</table>\n",
       "</div>"
      ],
      "text/plain": [
       "   projectID   acronym  status  \\\n",
       "0     888561  Mag-Spin  CLOSED   \n",
       "1     673504    EcoVel  CLOSED   \n",
       "\n",
       "                                               title   startDate     endDate  \\\n",
       "0  A novel material for watch crystals and watch ...  2019-11-01  2020-04-30   \n",
       "1  Commercialization of the most sustainable laun...  2015-05-01  2016-01-31   \n",
       "\n",
       "   totalCost  ecMaxContribution     legalBasis                 topics  \\\n",
       "0    71429.0            50000.0  H2020-EU.2.3.  EIC-SMEInst-2018-2020   \n",
       "1    71429.0            50000.0  H2020-EU.3.5.          SC5-20-2014-1   \n",
       "\n",
       "  ecSignatureDate frameworkProgramme                   masterCall  \\\n",
       "0      2019-12-04              H2020  H2020-EIC-SMEInst-2018-2020   \n",
       "1      2015-04-10              H2020      H2020-SMEInst-2014-2015   \n",
       "\n",
       "                     subCall fundingScheme nature  \\\n",
       "0  H2020-SMEInst-2018-2020-1         SME-1    NaN   \n",
       "1       H2020-SMEINST-1-2014         SME-1    NaN   \n",
       "\n",
       "                                           objective    contentUpdateDate  \\\n",
       "0  Watch companies over the last century have con...  2022-08-17 14:28:09   \n",
       "1  With project EcoVel, COIN Consulting UG will r...  2022-08-11 10:58:18   \n",
       "\n",
       "      rcn        grantDoi  \n",
       "0  226627  10.3030/888561  \n",
       "1  196509  10.3030/673504  "
      ]
     },
     "execution_count": 15,
     "metadata": {},
     "output_type": "execute_result"
    }
   ],
   "source": [
    "p = p.rename(columns={'id':'projectID'})\n",
    "p.head(2)"
   ]
  },
  {
   "cell_type": "code",
   "execution_count": 14,
   "metadata": {},
   "outputs": [
    {
     "data": {
      "text/html": [
       "<div>\n",
       "<style scoped>\n",
       "    .dataframe tbody tr th:only-of-type {\n",
       "        vertical-align: middle;\n",
       "    }\n",
       "\n",
       "    .dataframe tbody tr th {\n",
       "        vertical-align: top;\n",
       "    }\n",
       "\n",
       "    .dataframe thead th {\n",
       "        text-align: right;\n",
       "    }\n",
       "</style>\n",
       "<table border=\"1\" class=\"dataframe\">\n",
       "  <thead>\n",
       "    <tr style=\"text-align: right;\">\n",
       "      <th></th>\n",
       "      <th>projectID</th>\n",
       "      <th>projectAcronym</th>\n",
       "      <th>organisationID</th>\n",
       "      <th>vatNumber</th>\n",
       "      <th>name</th>\n",
       "      <th>shortName</th>\n",
       "      <th>SME</th>\n",
       "      <th>activityType</th>\n",
       "      <th>street</th>\n",
       "      <th>postCode</th>\n",
       "      <th>...</th>\n",
       "      <th>contactForm</th>\n",
       "      <th>contentUpdateDate</th>\n",
       "      <th>rcn</th>\n",
       "      <th>order</th>\n",
       "      <th>role</th>\n",
       "      <th>ecContribution</th>\n",
       "      <th>netEcContribution</th>\n",
       "      <th>totalCost</th>\n",
       "      <th>endOfParticipation</th>\n",
       "      <th>active</th>\n",
       "    </tr>\n",
       "  </thead>\n",
       "  <tbody>\n",
       "    <tr>\n",
       "      <th>0</th>\n",
       "      <td>888561</td>\n",
       "      <td>Mag-Spin</td>\n",
       "      <td>902814406</td>\n",
       "      <td>TR6100510390</td>\n",
       "      <td>MAGSPIN ILERI TEKNOLOJI MALZEMELERIARASTIRMA G...</td>\n",
       "      <td>MAGSPIN ADVANCED TECHNOLOGY MATERIALS RESEARCH</td>\n",
       "      <td>True</td>\n",
       "      <td>PRC</td>\n",
       "      <td>75 YIL OSB BILIM CAD 1/4 ODUNPAZARI</td>\n",
       "      <td>26110</td>\n",
       "      <td>...</td>\n",
       "      <td>https://ec.europa.eu/info/funding-tenders/oppo...</td>\n",
       "      <td>2022-08-17 14:28:09</td>\n",
       "      <td>1962417</td>\n",
       "      <td>1</td>\n",
       "      <td>coordinator</td>\n",
       "      <td>50000</td>\n",
       "      <td>50000</td>\n",
       "      <td>71429.0</td>\n",
       "      <td>False</td>\n",
       "      <td>NaN</td>\n",
       "    </tr>\n",
       "    <tr>\n",
       "      <th>1</th>\n",
       "      <td>673504</td>\n",
       "      <td>EcoVel</td>\n",
       "      <td>934522736</td>\n",
       "      <td>DE285486096</td>\n",
       "      <td>COIN CONSULTING GMBH</td>\n",
       "      <td>COIN CONSULTING UG</td>\n",
       "      <td>True</td>\n",
       "      <td>PRC</td>\n",
       "      <td>FRONDENBERGER STRASSE 75</td>\n",
       "      <td>58706</td>\n",
       "      <td>...</td>\n",
       "      <td>https://ec.europa.eu/info/funding-tenders/oppo...</td>\n",
       "      <td>2022-08-11 10:58:18</td>\n",
       "      <td>2542946</td>\n",
       "      <td>1</td>\n",
       "      <td>coordinator</td>\n",
       "      <td>50000</td>\n",
       "      <td>50000</td>\n",
       "      <td>71429.0</td>\n",
       "      <td>False</td>\n",
       "      <td>NaN</td>\n",
       "    </tr>\n",
       "  </tbody>\n",
       "</table>\n",
       "<p>2 rows × 25 columns</p>\n",
       "</div>"
      ],
      "text/plain": [
       "   projectID projectAcronym  organisationID     vatNumber  \\\n",
       "0     888561       Mag-Spin       902814406  TR6100510390   \n",
       "1     673504         EcoVel       934522736   DE285486096   \n",
       "\n",
       "                                                name  \\\n",
       "0  MAGSPIN ILERI TEKNOLOJI MALZEMELERIARASTIRMA G...   \n",
       "1                               COIN CONSULTING GMBH   \n",
       "\n",
       "                                        shortName   SME activityType  \\\n",
       "0  MAGSPIN ADVANCED TECHNOLOGY MATERIALS RESEARCH  True          PRC   \n",
       "1                              COIN CONSULTING UG  True          PRC   \n",
       "\n",
       "                                street postCode  ...  \\\n",
       "0  75 YIL OSB BILIM CAD 1/4 ODUNPAZARI    26110  ...   \n",
       "1             FRONDENBERGER STRASSE 75    58706  ...   \n",
       "\n",
       "                                         contactForm    contentUpdateDate  \\\n",
       "0  https://ec.europa.eu/info/funding-tenders/oppo...  2022-08-17 14:28:09   \n",
       "1  https://ec.europa.eu/info/funding-tenders/oppo...  2022-08-11 10:58:18   \n",
       "\n",
       "       rcn order         role ecContribution netEcContribution  totalCost  \\\n",
       "0  1962417     1  coordinator          50000             50000    71429.0   \n",
       "1  2542946     1  coordinator          50000             50000    71429.0   \n",
       "\n",
       "   endOfParticipation active  \n",
       "0               False    NaN  \n",
       "1               False    NaN  \n",
       "\n",
       "[2 rows x 25 columns]"
      ]
     },
     "execution_count": 14,
     "metadata": {},
     "output_type": "execute_result"
    }
   ],
   "source": [
    "o.head(2)"
   ]
  },
  {
   "cell_type": "markdown",
   "metadata": {},
   "source": [
    "b)"
   ]
  },
  {
   "cell_type": "code",
   "execution_count": 20,
   "metadata": {},
   "outputs": [
    {
     "data": {
      "text/plain": [
       "177871"
      ]
     },
     "execution_count": 20,
     "metadata": {},
     "output_type": "execute_result"
    }
   ],
   "source": [
    "o.shape[0]"
   ]
  },
  {
   "cell_type": "code",
   "execution_count": 19,
   "metadata": {},
   "outputs": [
    {
     "data": {
      "text/plain": [
       "35385"
      ]
     },
     "execution_count": 19,
     "metadata": {},
     "output_type": "execute_result"
    }
   ],
   "source": [
    "p.shape[0]"
   ]
  },
  {
   "attachments": {},
   "cell_type": "markdown",
   "metadata": {},
   "source": [
    "c)"
   ]
  },
  {
   "cell_type": "code",
   "execution_count": null,
   "metadata": {},
   "outputs": [],
   "source": []
  }
 ],
 "metadata": {
  "kernelspec": {
   "display_name": "base",
   "language": "python",
   "name": "python3"
  },
  "language_info": {
   "codemirror_mode": {
    "name": "ipython",
    "version": 3
   },
   "file_extension": ".py",
   "mimetype": "text/x-python",
   "name": "python",
   "nbconvert_exporter": "python",
   "pygments_lexer": "ipython3",
   "version": "3.10.9"
  },
  "orig_nbformat": 4
 },
 "nbformat": 4,
 "nbformat_minor": 2
}
