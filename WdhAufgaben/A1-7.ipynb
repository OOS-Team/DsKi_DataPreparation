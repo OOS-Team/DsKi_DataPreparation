{
 "cells": [
  {
   "cell_type": "code",
   "execution_count": 119,
   "metadata": {},
   "outputs": [
    {
     "name": "stdout",
     "output_type": "stream",
     "text": [
      "Exception reporting mode: Minimal\n"
     ]
    }
   ],
   "source": [
    "import pandas as pd\n",
    "%xmode minimal"
   ]
  },
  {
   "attachments": {},
   "cell_type": "markdown",
   "metadata": {},
   "source": [
    "# Aufgabe 7 Joins\n",
    "## 7.1 H2020 Projekte"
   ]
  },
  {
   "attachments": {},
   "cell_type": "markdown",
   "metadata": {},
   "source": [
    "a)"
   ]
  },
  {
   "cell_type": "code",
   "execution_count": 120,
   "metadata": {},
   "outputs": [],
   "source": [
    "p = pd.read_csv('../data/cordis_eu_2020/project.csv', sep=';', decimal=',')\n",
    "o = pd.read_csv('../data/cordis_eu_2020/organization.csv', sep=';', decimal=',')"
   ]
  },
  {
   "cell_type": "code",
   "execution_count": 121,
   "metadata": {},
   "outputs": [
    {
     "data": {
      "text/html": [
       "<div>\n",
       "<style scoped>\n",
       "    .dataframe tbody tr th:only-of-type {\n",
       "        vertical-align: middle;\n",
       "    }\n",
       "\n",
       "    .dataframe tbody tr th {\n",
       "        vertical-align: top;\n",
       "    }\n",
       "\n",
       "    .dataframe thead th {\n",
       "        text-align: right;\n",
       "    }\n",
       "</style>\n",
       "<table border=\"1\" class=\"dataframe\">\n",
       "  <thead>\n",
       "    <tr style=\"text-align: right;\">\n",
       "      <th></th>\n",
       "      <th>id</th>\n",
       "      <th>acronym</th>\n",
       "      <th>status</th>\n",
       "      <th>title</th>\n",
       "      <th>startDate</th>\n",
       "      <th>endDate</th>\n",
       "      <th>totalCost</th>\n",
       "      <th>ecMaxContribution</th>\n",
       "      <th>legalBasis</th>\n",
       "      <th>topics</th>\n",
       "      <th>ecSignatureDate</th>\n",
       "      <th>frameworkProgramme</th>\n",
       "      <th>masterCall</th>\n",
       "      <th>subCall</th>\n",
       "      <th>fundingScheme</th>\n",
       "      <th>nature</th>\n",
       "      <th>objective</th>\n",
       "      <th>contentUpdateDate</th>\n",
       "      <th>rcn</th>\n",
       "      <th>grantDoi</th>\n",
       "    </tr>\n",
       "  </thead>\n",
       "  <tbody>\n",
       "    <tr>\n",
       "      <th>0</th>\n",
       "      <td>888561</td>\n",
       "      <td>Mag-Spin</td>\n",
       "      <td>CLOSED</td>\n",
       "      <td>A novel material for watch crystals and watch ...</td>\n",
       "      <td>2019-11-01</td>\n",
       "      <td>2020-04-30</td>\n",
       "      <td>71429.0</td>\n",
       "      <td>50000.0</td>\n",
       "      <td>H2020-EU.2.3.</td>\n",
       "      <td>EIC-SMEInst-2018-2020</td>\n",
       "      <td>2019-12-04</td>\n",
       "      <td>H2020</td>\n",
       "      <td>H2020-EIC-SMEInst-2018-2020</td>\n",
       "      <td>H2020-SMEInst-2018-2020-1</td>\n",
       "      <td>SME-1</td>\n",
       "      <td>NaN</td>\n",
       "      <td>Watch companies over the last century have con...</td>\n",
       "      <td>2022-08-17 14:28:09</td>\n",
       "      <td>226627</td>\n",
       "      <td>10.3030/888561</td>\n",
       "    </tr>\n",
       "    <tr>\n",
       "      <th>1</th>\n",
       "      <td>673504</td>\n",
       "      <td>EcoVel</td>\n",
       "      <td>CLOSED</td>\n",
       "      <td>Commercialization of the most sustainable laun...</td>\n",
       "      <td>2015-05-01</td>\n",
       "      <td>2016-01-31</td>\n",
       "      <td>71429.0</td>\n",
       "      <td>50000.0</td>\n",
       "      <td>H2020-EU.3.5.</td>\n",
       "      <td>SC5-20-2014-1</td>\n",
       "      <td>2015-04-10</td>\n",
       "      <td>H2020</td>\n",
       "      <td>H2020-SMEInst-2014-2015</td>\n",
       "      <td>H2020-SMEINST-1-2014</td>\n",
       "      <td>SME-1</td>\n",
       "      <td>NaN</td>\n",
       "      <td>With project EcoVel, COIN Consulting UG will r...</td>\n",
       "      <td>2022-08-11 10:58:18</td>\n",
       "      <td>196509</td>\n",
       "      <td>10.3030/673504</td>\n",
       "    </tr>\n",
       "  </tbody>\n",
       "</table>\n",
       "</div>"
      ],
      "text/plain": [
       "       id   acronym  status  \\\n",
       "0  888561  Mag-Spin  CLOSED   \n",
       "1  673504    EcoVel  CLOSED   \n",
       "\n",
       "                                               title   startDate     endDate  \\\n",
       "0  A novel material for watch crystals and watch ...  2019-11-01  2020-04-30   \n",
       "1  Commercialization of the most sustainable laun...  2015-05-01  2016-01-31   \n",
       "\n",
       "   totalCost  ecMaxContribution     legalBasis                 topics  \\\n",
       "0    71429.0            50000.0  H2020-EU.2.3.  EIC-SMEInst-2018-2020   \n",
       "1    71429.0            50000.0  H2020-EU.3.5.          SC5-20-2014-1   \n",
       "\n",
       "  ecSignatureDate frameworkProgramme                   masterCall  \\\n",
       "0      2019-12-04              H2020  H2020-EIC-SMEInst-2018-2020   \n",
       "1      2015-04-10              H2020      H2020-SMEInst-2014-2015   \n",
       "\n",
       "                     subCall fundingScheme nature  \\\n",
       "0  H2020-SMEInst-2018-2020-1         SME-1    NaN   \n",
       "1       H2020-SMEINST-1-2014         SME-1    NaN   \n",
       "\n",
       "                                           objective    contentUpdateDate  \\\n",
       "0  Watch companies over the last century have con...  2022-08-17 14:28:09   \n",
       "1  With project EcoVel, COIN Consulting UG will r...  2022-08-11 10:58:18   \n",
       "\n",
       "      rcn        grantDoi  \n",
       "0  226627  10.3030/888561  \n",
       "1  196509  10.3030/673504  "
      ]
     },
     "execution_count": 121,
     "metadata": {},
     "output_type": "execute_result"
    }
   ],
   "source": [
    "# p = p.rename(columns={'id':'projectID'})\n",
    "p.head(2)"
   ]
  },
  {
   "cell_type": "code",
   "execution_count": 122,
   "metadata": {},
   "outputs": [
    {
     "data": {
      "text/html": [
       "<div>\n",
       "<style scoped>\n",
       "    .dataframe tbody tr th:only-of-type {\n",
       "        vertical-align: middle;\n",
       "    }\n",
       "\n",
       "    .dataframe tbody tr th {\n",
       "        vertical-align: top;\n",
       "    }\n",
       "\n",
       "    .dataframe thead th {\n",
       "        text-align: right;\n",
       "    }\n",
       "</style>\n",
       "<table border=\"1\" class=\"dataframe\">\n",
       "  <thead>\n",
       "    <tr style=\"text-align: right;\">\n",
       "      <th></th>\n",
       "      <th>projectID</th>\n",
       "      <th>projectAcronym</th>\n",
       "      <th>organisationID</th>\n",
       "      <th>vatNumber</th>\n",
       "      <th>name</th>\n",
       "      <th>shortName</th>\n",
       "      <th>SME</th>\n",
       "      <th>activityType</th>\n",
       "      <th>street</th>\n",
       "      <th>postCode</th>\n",
       "      <th>...</th>\n",
       "      <th>contactForm</th>\n",
       "      <th>contentUpdateDate</th>\n",
       "      <th>rcn</th>\n",
       "      <th>order</th>\n",
       "      <th>role</th>\n",
       "      <th>ecContribution</th>\n",
       "      <th>netEcContribution</th>\n",
       "      <th>totalCost</th>\n",
       "      <th>endOfParticipation</th>\n",
       "      <th>active</th>\n",
       "    </tr>\n",
       "  </thead>\n",
       "  <tbody>\n",
       "    <tr>\n",
       "      <th>0</th>\n",
       "      <td>888561</td>\n",
       "      <td>Mag-Spin</td>\n",
       "      <td>902814406</td>\n",
       "      <td>TR6100510390</td>\n",
       "      <td>MAGSPIN ILERI TEKNOLOJI MALZEMELERIARASTIRMA G...</td>\n",
       "      <td>MAGSPIN ADVANCED TECHNOLOGY MATERIALS RESEARCH</td>\n",
       "      <td>True</td>\n",
       "      <td>PRC</td>\n",
       "      <td>75 YIL OSB BILIM CAD 1/4 ODUNPAZARI</td>\n",
       "      <td>26110</td>\n",
       "      <td>...</td>\n",
       "      <td>https://ec.europa.eu/info/funding-tenders/oppo...</td>\n",
       "      <td>2022-08-17 14:28:09</td>\n",
       "      <td>1962417</td>\n",
       "      <td>1</td>\n",
       "      <td>coordinator</td>\n",
       "      <td>50000</td>\n",
       "      <td>50000</td>\n",
       "      <td>71429.0</td>\n",
       "      <td>False</td>\n",
       "      <td>NaN</td>\n",
       "    </tr>\n",
       "    <tr>\n",
       "      <th>1</th>\n",
       "      <td>673504</td>\n",
       "      <td>EcoVel</td>\n",
       "      <td>934522736</td>\n",
       "      <td>DE285486096</td>\n",
       "      <td>COIN CONSULTING GMBH</td>\n",
       "      <td>COIN CONSULTING UG</td>\n",
       "      <td>True</td>\n",
       "      <td>PRC</td>\n",
       "      <td>FRONDENBERGER STRASSE 75</td>\n",
       "      <td>58706</td>\n",
       "      <td>...</td>\n",
       "      <td>https://ec.europa.eu/info/funding-tenders/oppo...</td>\n",
       "      <td>2022-08-11 10:58:18</td>\n",
       "      <td>2542946</td>\n",
       "      <td>1</td>\n",
       "      <td>coordinator</td>\n",
       "      <td>50000</td>\n",
       "      <td>50000</td>\n",
       "      <td>71429.0</td>\n",
       "      <td>False</td>\n",
       "      <td>NaN</td>\n",
       "    </tr>\n",
       "  </tbody>\n",
       "</table>\n",
       "<p>2 rows × 25 columns</p>\n",
       "</div>"
      ],
      "text/plain": [
       "   projectID projectAcronym  organisationID     vatNumber  \\\n",
       "0     888561       Mag-Spin       902814406  TR6100510390   \n",
       "1     673504         EcoVel       934522736   DE285486096   \n",
       "\n",
       "                                                name  \\\n",
       "0  MAGSPIN ILERI TEKNOLOJI MALZEMELERIARASTIRMA G...   \n",
       "1                               COIN CONSULTING GMBH   \n",
       "\n",
       "                                        shortName   SME activityType  \\\n",
       "0  MAGSPIN ADVANCED TECHNOLOGY MATERIALS RESEARCH  True          PRC   \n",
       "1                              COIN CONSULTING UG  True          PRC   \n",
       "\n",
       "                                street postCode  ...  \\\n",
       "0  75 YIL OSB BILIM CAD 1/4 ODUNPAZARI    26110  ...   \n",
       "1             FRONDENBERGER STRASSE 75    58706  ...   \n",
       "\n",
       "                                         contactForm    contentUpdateDate  \\\n",
       "0  https://ec.europa.eu/info/funding-tenders/oppo...  2022-08-17 14:28:09   \n",
       "1  https://ec.europa.eu/info/funding-tenders/oppo...  2022-08-11 10:58:18   \n",
       "\n",
       "       rcn order         role ecContribution netEcContribution  totalCost  \\\n",
       "0  1962417     1  coordinator          50000             50000    71429.0   \n",
       "1  2542946     1  coordinator          50000             50000    71429.0   \n",
       "\n",
       "   endOfParticipation active  \n",
       "0               False    NaN  \n",
       "1               False    NaN  \n",
       "\n",
       "[2 rows x 25 columns]"
      ]
     },
     "execution_count": 122,
     "metadata": {},
     "output_type": "execute_result"
    }
   ],
   "source": [
    "o.head(2)"
   ]
  },
  {
   "cell_type": "code",
   "execution_count": null,
   "metadata": {},
   "outputs": [],
   "source": []
  },
  {
   "cell_type": "markdown",
   "metadata": {},
   "source": [
    "b)"
   ]
  },
  {
   "cell_type": "code",
   "execution_count": 123,
   "metadata": {},
   "outputs": [
    {
     "data": {
      "text/plain": [
       "177871"
      ]
     },
     "execution_count": 123,
     "metadata": {},
     "output_type": "execute_result"
    }
   ],
   "source": [
    "o.shape[0]"
   ]
  },
  {
   "cell_type": "code",
   "execution_count": 124,
   "metadata": {},
   "outputs": [
    {
     "data": {
      "text/plain": [
       "35385"
      ]
     },
     "execution_count": 124,
     "metadata": {},
     "output_type": "execute_result"
    }
   ],
   "source": [
    "p.shape[0]"
   ]
  },
  {
   "attachments": {},
   "cell_type": "markdown",
   "metadata": {},
   "source": [
    "c) <br>\n",
    "Funktion: <br>\n",
    "Joinen von zwei dfs: `df1.merge(df2, how=`Join Art zb 'inner'`, on=`gemeinsame Spalte zB 'id'`)`"
   ]
  },
  {
   "cell_type": "code",
   "execution_count": 125,
   "metadata": {},
   "outputs": [],
   "source": [
    "o = o.rename(columns={\"projectID\":\"id\"})\n",
    "p = p.rename(columns={\"projectID\":\"id\"})"
   ]
  },
  {
   "cell_type": "code",
   "execution_count": 126,
   "metadata": {},
   "outputs": [],
   "source": [
    "op = o.merge(p, how='inner', on='id')"
   ]
  },
  {
   "cell_type": "code",
   "execution_count": 127,
   "metadata": {},
   "outputs": [
    {
     "data": {
      "text/html": [
       "<div>\n",
       "<style scoped>\n",
       "    .dataframe tbody tr th:only-of-type {\n",
       "        vertical-align: middle;\n",
       "    }\n",
       "\n",
       "    .dataframe tbody tr th {\n",
       "        vertical-align: top;\n",
       "    }\n",
       "\n",
       "    .dataframe thead th {\n",
       "        text-align: right;\n",
       "    }\n",
       "</style>\n",
       "<table border=\"1\" class=\"dataframe\">\n",
       "  <thead>\n",
       "    <tr style=\"text-align: right;\">\n",
       "      <th></th>\n",
       "      <th>id</th>\n",
       "      <th>projectAcronym</th>\n",
       "      <th>organisationID</th>\n",
       "      <th>vatNumber</th>\n",
       "      <th>name</th>\n",
       "      <th>shortName</th>\n",
       "      <th>SME</th>\n",
       "      <th>activityType</th>\n",
       "      <th>street</th>\n",
       "      <th>postCode</th>\n",
       "      <th>...</th>\n",
       "      <th>ecSignatureDate</th>\n",
       "      <th>frameworkProgramme</th>\n",
       "      <th>masterCall</th>\n",
       "      <th>subCall</th>\n",
       "      <th>fundingScheme</th>\n",
       "      <th>nature</th>\n",
       "      <th>objective</th>\n",
       "      <th>contentUpdateDate_y</th>\n",
       "      <th>rcn_y</th>\n",
       "      <th>grantDoi</th>\n",
       "    </tr>\n",
       "  </thead>\n",
       "  <tbody>\n",
       "    <tr>\n",
       "      <th>0</th>\n",
       "      <td>888561</td>\n",
       "      <td>Mag-Spin</td>\n",
       "      <td>902814406</td>\n",
       "      <td>TR6100510390</td>\n",
       "      <td>MAGSPIN ILERI TEKNOLOJI MALZEMELERIARASTIRMA G...</td>\n",
       "      <td>MAGSPIN ADVANCED TECHNOLOGY MATERIALS RESEARCH</td>\n",
       "      <td>True</td>\n",
       "      <td>PRC</td>\n",
       "      <td>75 YIL OSB BILIM CAD 1/4 ODUNPAZARI</td>\n",
       "      <td>26110</td>\n",
       "      <td>...</td>\n",
       "      <td>2019-12-04</td>\n",
       "      <td>H2020</td>\n",
       "      <td>H2020-EIC-SMEInst-2018-2020</td>\n",
       "      <td>H2020-SMEInst-2018-2020-1</td>\n",
       "      <td>SME-1</td>\n",
       "      <td>NaN</td>\n",
       "      <td>Watch companies over the last century have con...</td>\n",
       "      <td>2022-08-17 14:28:09</td>\n",
       "      <td>226627</td>\n",
       "      <td>10.3030/888561</td>\n",
       "    </tr>\n",
       "    <tr>\n",
       "      <th>1</th>\n",
       "      <td>673504</td>\n",
       "      <td>EcoVel</td>\n",
       "      <td>934522736</td>\n",
       "      <td>DE285486096</td>\n",
       "      <td>COIN CONSULTING GMBH</td>\n",
       "      <td>COIN CONSULTING UG</td>\n",
       "      <td>True</td>\n",
       "      <td>PRC</td>\n",
       "      <td>FRONDENBERGER STRASSE 75</td>\n",
       "      <td>58706</td>\n",
       "      <td>...</td>\n",
       "      <td>2015-04-10</td>\n",
       "      <td>H2020</td>\n",
       "      <td>H2020-SMEInst-2014-2015</td>\n",
       "      <td>H2020-SMEINST-1-2014</td>\n",
       "      <td>SME-1</td>\n",
       "      <td>NaN</td>\n",
       "      <td>With project EcoVel, COIN Consulting UG will r...</td>\n",
       "      <td>2022-08-11 10:58:18</td>\n",
       "      <td>196509</td>\n",
       "      <td>10.3030/673504</td>\n",
       "    </tr>\n",
       "    <tr>\n",
       "      <th>2</th>\n",
       "      <td>832274</td>\n",
       "      <td>WAVESHIELD</td>\n",
       "      <td>965262424</td>\n",
       "      <td>FR18499425551</td>\n",
       "      <td>CORSO MAGENTA</td>\n",
       "      <td>CORSO MAGENTA</td>\n",
       "      <td>True</td>\n",
       "      <td>PRC</td>\n",
       "      <td>22/24 RUE LAVOISIER</td>\n",
       "      <td>92000</td>\n",
       "      <td>...</td>\n",
       "      <td>2018-11-28</td>\n",
       "      <td>H2020</td>\n",
       "      <td>H2020-EIC-SMEInst-2018-2020</td>\n",
       "      <td>H2020-SMEInst-2018-2020-1</td>\n",
       "      <td>SME-1</td>\n",
       "      <td>NaN</td>\n",
       "      <td>With WaveShield we aim to re-invent paint for ...</td>\n",
       "      <td>2022-08-11 20:24:19</td>\n",
       "      <td>219736</td>\n",
       "      <td>10.3030/832274</td>\n",
       "    </tr>\n",
       "  </tbody>\n",
       "</table>\n",
       "<p>3 rows × 44 columns</p>\n",
       "</div>"
      ],
      "text/plain": [
       "       id projectAcronym  organisationID      vatNumber  \\\n",
       "0  888561       Mag-Spin       902814406   TR6100510390   \n",
       "1  673504         EcoVel       934522736    DE285486096   \n",
       "2  832274     WAVESHIELD       965262424  FR18499425551   \n",
       "\n",
       "                                                name  \\\n",
       "0  MAGSPIN ILERI TEKNOLOJI MALZEMELERIARASTIRMA G...   \n",
       "1                               COIN CONSULTING GMBH   \n",
       "2                                      CORSO MAGENTA   \n",
       "\n",
       "                                        shortName   SME activityType  \\\n",
       "0  MAGSPIN ADVANCED TECHNOLOGY MATERIALS RESEARCH  True          PRC   \n",
       "1                              COIN CONSULTING UG  True          PRC   \n",
       "2                                   CORSO MAGENTA  True          PRC   \n",
       "\n",
       "                                street postCode  ... ecSignatureDate  \\\n",
       "0  75 YIL OSB BILIM CAD 1/4 ODUNPAZARI    26110  ...      2019-12-04   \n",
       "1             FRONDENBERGER STRASSE 75    58706  ...      2015-04-10   \n",
       "2                  22/24 RUE LAVOISIER    92000  ...      2018-11-28   \n",
       "\n",
       "  frameworkProgramme                   masterCall                    subCall  \\\n",
       "0              H2020  H2020-EIC-SMEInst-2018-2020  H2020-SMEInst-2018-2020-1   \n",
       "1              H2020      H2020-SMEInst-2014-2015       H2020-SMEINST-1-2014   \n",
       "2              H2020  H2020-EIC-SMEInst-2018-2020  H2020-SMEInst-2018-2020-1   \n",
       "\n",
       "  fundingScheme nature                                          objective  \\\n",
       "0         SME-1    NaN  Watch companies over the last century have con...   \n",
       "1         SME-1    NaN  With project EcoVel, COIN Consulting UG will r...   \n",
       "2         SME-1    NaN  With WaveShield we aim to re-invent paint for ...   \n",
       "\n",
       "   contentUpdateDate_y   rcn_y        grantDoi  \n",
       "0  2022-08-17 14:28:09  226627  10.3030/888561  \n",
       "1  2022-08-11 10:58:18  196509  10.3030/673504  \n",
       "2  2022-08-11 20:24:19  219736  10.3030/832274  \n",
       "\n",
       "[3 rows x 44 columns]"
      ]
     },
     "execution_count": 127,
     "metadata": {},
     "output_type": "execute_result"
    }
   ],
   "source": [
    "op.head(3)"
   ]
  },
  {
   "attachments": {},
   "cell_type": "markdown",
   "metadata": {},
   "source": [
    "d) <br>\n",
    "Funktionen: <br>\n",
    "Gibt Index des höchsten Wertes: `.argmax()`"
   ]
  },
  {
   "cell_type": "code",
   "execution_count": 128,
   "metadata": {},
   "outputs": [
    {
     "data": {
      "text/plain": [
       "False"
      ]
     },
     "execution_count": 128,
     "metadata": {},
     "output_type": "execute_result"
    }
   ],
   "source": [
    "op[\"organisationID\"].is_unique"
   ]
  },
  {
   "cell_type": "code",
   "execution_count": 129,
   "metadata": {},
   "outputs": [
    {
     "data": {
      "text/plain": [
       "Index(['id', 'projectAcronym', 'organisationID', 'vatNumber', 'name',\n",
       "       'shortName', 'SME', 'activityType', 'street', 'postCode', 'city',\n",
       "       'country', 'nutsCode', 'geolocation', 'organizationURL', 'contactForm',\n",
       "       'contentUpdateDate_x', 'rcn_x', 'order', 'role', 'ecContribution',\n",
       "       'netEcContribution', 'totalCost_x', 'endOfParticipation', 'active',\n",
       "       'acronym', 'status', 'title', 'startDate', 'endDate', 'totalCost_y',\n",
       "       'ecMaxContribution', 'legalBasis', 'topics', 'ecSignatureDate',\n",
       "       'frameworkProgramme', 'masterCall', 'subCall', 'fundingScheme',\n",
       "       'nature', 'objective', 'contentUpdateDate_y', 'rcn_y', 'grantDoi'],\n",
       "      dtype='object')"
      ]
     },
     "execution_count": 129,
     "metadata": {},
     "output_type": "execute_result"
    }
   ],
   "source": [
    "op.columns"
   ]
  },
  {
   "cell_type": "code",
   "execution_count": 130,
   "metadata": {},
   "outputs": [],
   "source": [
    "op_grouped = op.groupby(by='organisationID')['totalCost_x']"
   ]
  },
  {
   "cell_type": "code",
   "execution_count": 138,
   "metadata": {},
   "outputs": [],
   "source": [
    "max_budget = op_grouped.sum().argmax()"
   ]
  },
  {
   "cell_type": "code",
   "execution_count": 139,
   "metadata": {},
   "outputs": [
    {
     "data": {
      "text/plain": [
       "41546"
      ]
     },
     "execution_count": 139,
     "metadata": {},
     "output_type": "execute_result"
    }
   ],
   "source": [
    "max_budget"
   ]
  },
  {
   "cell_type": "code",
   "execution_count": 140,
   "metadata": {},
   "outputs": [
    {
     "data": {
      "text/plain": [
       "id                                                                643783\n",
       "projectAcronym                                                       PAL\n",
       "organisationID                                                 953371388\n",
       "vatNumber                                                  IT07885440961\n",
       "name                                      FONDAZIONE CENTRO SAN RAFFAELE\n",
       "shortName                                                           FCSR\n",
       "SME                                                                False\n",
       "activityType                                                         REC\n",
       "street                                                  VIA OLGETTINA 60\n",
       "postCode                                                           20132\n",
       "city                                                              Milano\n",
       "country                                                               IT\n",
       "nutsCode                                                             NaN\n",
       "geolocation                                         45.5053676,9.2678501\n",
       "organizationURL                     http://www.fondazionesanraffaele.org\n",
       "contactForm            https://ec.europa.eu/info/funding-tenders/oppo...\n",
       "contentUpdateDate_x                                  2022-08-15 22:56:17\n",
       "rcn_x                                                            1906223\n",
       "order                                                                  2\n",
       "role                                                         participant\n",
       "ecContribution                                                    605000\n",
       "netEcContribution                                                 462500\n",
       "totalCost_x                                                     605000.0\n",
       "endOfParticipation                                                 False\n",
       "active                                                               NaN\n",
       "acronym                                                              PAL\n",
       "status                                                            CLOSED\n",
       "title                     Personal Assistant for healthy Lifestyle (PAL)\n",
       "startDate                                                     2015-03-01\n",
       "endDate                                                       2019-02-28\n",
       "totalCost_y                                                    4515460.0\n",
       "ecMaxContribution                                              4515460.0\n",
       "legalBasis                                                 H2020-EU.3.1.\n",
       "topics                                                       PHC-26-2014\n",
       "ecSignatureDate                                               2014-12-05\n",
       "frameworkProgramme                                                 H2020\n",
       "masterCall                                           H2020-PHC-2014-2015\n",
       "subCall                                      H2020-PHC-2014-single-stage\n",
       "fundingScheme                                                        RIA\n",
       "nature                                                               NaN\n",
       "objective              Type 1 Diabetes Mellitus (T1DM) portraits a hi...\n",
       "contentUpdateDate_y                                  2022-08-15 22:56:17\n",
       "rcn_y                                                             194102\n",
       "grantDoi                                                  10.3030/643783\n",
       "Name: 41546, dtype: object"
      ]
     },
     "execution_count": 140,
     "metadata": {},
     "output_type": "execute_result"
    }
   ],
   "source": [
    "op.iloc[max_budget]"
   ]
  },
  {
   "attachments": {},
   "cell_type": "markdown",
   "metadata": {},
   "source": [
    "e)"
   ]
  },
  {
   "cell_type": "code",
   "execution_count": 148,
   "metadata": {},
   "outputs": [
    {
     "name": "stdout",
     "output_type": "stream",
     "text": [
      "o.shape: 177871  p.shape:  35385  op.shape:  177871\n"
     ]
    }
   ],
   "source": [
    "print(f'o.shape: {o.shape[0]}  p.shape:  {p.shape[0]}  op.shape:  {op.shape[0]}')"
   ]
  },
  {
   "cell_type": "code",
   "execution_count": null,
   "metadata": {},
   "outputs": [],
   "source": []
  }
 ],
 "metadata": {
  "kernelspec": {
   "display_name": "base",
   "language": "python",
   "name": "python3"
  },
  "language_info": {
   "codemirror_mode": {
    "name": "ipython",
    "version": 3
   },
   "file_extension": ".py",
   "mimetype": "text/x-python",
   "name": "python",
   "nbconvert_exporter": "python",
   "pygments_lexer": "ipython3",
   "version": "3.10.9"
  },
  "orig_nbformat": 4
 },
 "nbformat": 4,
 "nbformat_minor": 2
}
