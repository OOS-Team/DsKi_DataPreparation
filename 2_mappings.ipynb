{
 "cells": [
  {
   "cell_type": "code",
   "execution_count": 40,
   "metadata": {},
   "outputs": [
    {
     "name": "stdout",
     "output_type": "stream",
     "text": [
      "Exception reporting mode: Minimal\n"
     ]
    }
   ],
   "source": [
    "import pandas as pd\n",
    "import os\n",
    "%xmode minimal\n",
    "pd.set_option(\"mode.copy_on_write\", True)   "
   ]
  },
  {
   "cell_type": "code",
   "execution_count": 41,
   "metadata": {},
   "outputs": [
    {
     "data": {
      "text/html": [
       "<div>\n",
       "<style scoped>\n",
       "    .dataframe tbody tr th:only-of-type {\n",
       "        vertical-align: middle;\n",
       "    }\n",
       "\n",
       "    .dataframe tbody tr th {\n",
       "        vertical-align: top;\n",
       "    }\n",
       "\n",
       "    .dataframe thead th {\n",
       "        text-align: right;\n",
       "    }\n",
       "</style>\n",
       "<table border=\"1\" class=\"dataframe\">\n",
       "  <thead>\n",
       "    <tr style=\"text-align: right;\">\n",
       "      <th></th>\n",
       "      <th>Name_ID</th>\n",
       "      <th>Name</th>\n",
       "      <th>Sex</th>\n",
       "      <th>Age</th>\n",
       "      <th>Class</th>\n",
       "      <th>Ticket</th>\n",
       "      <th>Joined</th>\n",
       "      <th>Occupation</th>\n",
       "      <th>Boat [Body]</th>\n",
       "      <th>Price</th>\n",
       "      <th>...</th>\n",
       "      <th>Title</th>\n",
       "      <th>First</th>\n",
       "      <th>DoB</th>\n",
       "      <th>Year_Birth</th>\n",
       "      <th>Date_Death</th>\n",
       "      <th>DoB_Clean</th>\n",
       "      <th>Age_F_Code</th>\n",
       "      <th>Age_F</th>\n",
       "      <th>sibsp</th>\n",
       "      <th>parch</th>\n",
       "    </tr>\n",
       "  </thead>\n",
       "  <tbody>\n",
       "    <tr>\n",
       "      <th>1880</th>\n",
       "      <td>928</td>\n",
       "      <td>HOLD, Mr Stephen</td>\n",
       "      <td>male</td>\n",
       "      <td>44.0</td>\n",
       "      <td>2</td>\n",
       "      <td>26707</td>\n",
       "      <td>Southampton</td>\n",
       "      <td>Clerk</td>\n",
       "      <td></td>\n",
       "      <td>£26</td>\n",
       "      <td>...</td>\n",
       "      <td>Mr</td>\n",
       "      <td>Stephen</td>\n",
       "      <td>1868-01-24</td>\n",
       "      <td>&lt;NA&gt;</td>\n",
       "      <td>1912-04-15 00:00:00</td>\n",
       "      <td>1/24/1868</td>\n",
       "      <td>C</td>\n",
       "      <td>44.0</td>\n",
       "      <td>1</td>\n",
       "      <td>0</td>\n",
       "    </tr>\n",
       "    <tr>\n",
       "      <th>716</th>\n",
       "      <td>1805</td>\n",
       "      <td>SELF, Mr Albert Charles Edward</td>\n",
       "      <td>male</td>\n",
       "      <td>24.0</td>\n",
       "      <td>E</td>\n",
       "      <td>&lt;NA&gt;</td>\n",
       "      <td>Southampton</td>\n",
       "      <td>Fireman</td>\n",
       "      <td></td>\n",
       "      <td></td>\n",
       "      <td>...</td>\n",
       "      <td>Mr</td>\n",
       "      <td>Albert Charles Edward</td>\n",
       "      <td>1888-01-11</td>\n",
       "      <td>&lt;NA&gt;</td>\n",
       "      <td></td>\n",
       "      <td>1/11/1888</td>\n",
       "      <td>C</td>\n",
       "      <td>24.0</td>\n",
       "      <td>&lt;NA&gt;</td>\n",
       "      <td>&lt;NA&gt;</td>\n",
       "    </tr>\n",
       "  </tbody>\n",
       "</table>\n",
       "<p>2 rows × 24 columns</p>\n",
       "</div>"
      ],
      "text/plain": [
       "      Name_ID                             Name   Sex   Age Class Ticket  \\\n",
       "1880      928                HOLD, Mr Stephen   male  44.0     2  26707   \n",
       "716      1805  SELF, Mr Albert Charles Edward   male  24.0     E   <NA>   \n",
       "\n",
       "           Joined Occupation Boat [Body] Price  ... Title  \\\n",
       "1880  Southampton    Clerk                 £26  ...    Mr   \n",
       "716   Southampton  Fireman                      ...    Mr   \n",
       "\n",
       "                      First         DoB Year_Birth           Date_Death  \\\n",
       "1880                Stephen  1868-01-24       <NA>  1912-04-15 00:00:00   \n",
       "716   Albert Charles Edward  1888-01-11       <NA>                        \n",
       "\n",
       "      DoB_Clean Age_F_Code Age_F sibsp parch  \n",
       "1880  1/24/1868          C  44.0     1     0  \n",
       "716   1/11/1888          C  24.0  <NA>  <NA>  \n",
       "\n",
       "[2 rows x 24 columns]"
      ]
     },
     "execution_count": 41,
     "metadata": {},
     "output_type": "execute_result"
    }
   ],
   "source": [
    "url = 'https://hbiostat.org/data/repo/titanic5.xlsx'\n",
    "file = 'data/titanic_prepared.pickle' # Damit es local gespeichert wird\n",
    "\n",
    "if os.path.exists(file):\n",
    "    t = pd.read_pickle(file)\n",
    "else:\n",
    "    t = pd.read_excel(url, sheet_name='Titanic5_all', dtype_backend='numpy_nullable')\n",
    "    t.to_pickle(file)\n",
    "t.sample(2)"
   ]
  },
  {
   "cell_type": "code",
   "execution_count": 42,
   "metadata": {},
   "outputs": [
    {
     "data": {
      "text/plain": [
       "<StringArray>\n",
       "['female', 'male']\n",
       "Length: 2, dtype: string"
      ]
     },
     "execution_count": 42,
     "metadata": {},
     "output_type": "execute_result"
    }
   ],
   "source": [
    "t[\"Sex\"].unique()"
   ]
  },
  {
   "cell_type": "code",
   "execution_count": 43,
   "metadata": {},
   "outputs": [
    {
     "data": {
      "text/html": [
       "<div>\n",
       "<style scoped>\n",
       "    .dataframe tbody tr th:only-of-type {\n",
       "        vertical-align: middle;\n",
       "    }\n",
       "\n",
       "    .dataframe tbody tr th {\n",
       "        vertical-align: top;\n",
       "    }\n",
       "\n",
       "    .dataframe thead th {\n",
       "        text-align: right;\n",
       "    }\n",
       "</style>\n",
       "<table border=\"1\" class=\"dataframe\">\n",
       "  <thead>\n",
       "    <tr style=\"text-align: right;\">\n",
       "      <th></th>\n",
       "      <th>Name_ID</th>\n",
       "      <th>Name</th>\n",
       "      <th>Sex</th>\n",
       "      <th>Age</th>\n",
       "      <th>Class</th>\n",
       "      <th>Ticket</th>\n",
       "      <th>Joined</th>\n",
       "      <th>Occupation</th>\n",
       "      <th>Boat [Body]</th>\n",
       "      <th>Price</th>\n",
       "      <th>...</th>\n",
       "      <th>Title</th>\n",
       "      <th>First</th>\n",
       "      <th>DoB</th>\n",
       "      <th>Year_Birth</th>\n",
       "      <th>Date_Death</th>\n",
       "      <th>DoB_Clean</th>\n",
       "      <th>Age_F_Code</th>\n",
       "      <th>Age_F</th>\n",
       "      <th>sibsp</th>\n",
       "      <th>parch</th>\n",
       "    </tr>\n",
       "  </thead>\n",
       "  <tbody>\n",
       "    <tr>\n",
       "      <th>1193</th>\n",
       "      <td>1910</td>\n",
       "      <td>STANBROOK, Mr Augustus George</td>\n",
       "      <td>M</td>\n",
       "      <td>30.0</td>\n",
       "      <td>E</td>\n",
       "      <td>&lt;NA&gt;</td>\n",
       "      <td>Southampton</td>\n",
       "      <td>Fireman</td>\n",
       "      <td>[316]</td>\n",
       "      <td></td>\n",
       "      <td>...</td>\n",
       "      <td>Mr</td>\n",
       "      <td>Augustus George</td>\n",
       "      <td>&lt;NA&gt;</td>\n",
       "      <td>1881</td>\n",
       "      <td>1912-04-15 00:00:00</td>\n",
       "      <td>6/30/1881</td>\n",
       "      <td>M</td>\n",
       "      <td>30.0</td>\n",
       "      <td>&lt;NA&gt;</td>\n",
       "      <td>&lt;NA&gt;</td>\n",
       "    </tr>\n",
       "    <tr>\n",
       "      <th>1019</th>\n",
       "      <td>1428</td>\n",
       "      <td>NASSER, Mr Nicholas</td>\n",
       "      <td>M</td>\n",
       "      <td>28.0</td>\n",
       "      <td>2</td>\n",
       "      <td>237736</td>\n",
       "      <td>Cherbourg</td>\n",
       "      <td>&lt;NA&gt;</td>\n",
       "      <td>[43]</td>\n",
       "      <td>£30 1s 5d</td>\n",
       "      <td>...</td>\n",
       "      <td>Mr</td>\n",
       "      <td>Nicholas</td>\n",
       "      <td>&lt;NA&gt;</td>\n",
       "      <td>1884</td>\n",
       "      <td>1912-04-15 00:00:00</td>\n",
       "      <td>6/30/1884</td>\n",
       "      <td>M</td>\n",
       "      <td>27.0</td>\n",
       "      <td>1</td>\n",
       "      <td>0</td>\n",
       "    </tr>\n",
       "  </tbody>\n",
       "</table>\n",
       "<p>2 rows × 24 columns</p>\n",
       "</div>"
      ],
      "text/plain": [
       "      Name_ID                            Name Sex   Age Class  Ticket  \\\n",
       "1193     1910  STANBROOK, Mr Augustus George    M  30.0     E    <NA>   \n",
       "1019     1428            NASSER, Mr Nicholas    M  28.0     2  237736   \n",
       "\n",
       "           Joined Occupation Boat [Body]      Price  ... Title  \\\n",
       "1193  Southampton  Fireman         [316]             ...    Mr   \n",
       "1019    Cherbourg       <NA>        [43]  £30 1s 5d  ...    Mr   \n",
       "\n",
       "                 First   DoB Year_Birth           Date_Death  DoB_Clean  \\\n",
       "1193   Augustus George  <NA>       1881  1912-04-15 00:00:00  6/30/1881   \n",
       "1019          Nicholas  <NA>       1884  1912-04-15 00:00:00  6/30/1884   \n",
       "\n",
       "     Age_F_Code Age_F sibsp parch  \n",
       "1193          M  30.0  <NA>  <NA>  \n",
       "1019          M  27.0     1     0  \n",
       "\n",
       "[2 rows x 24 columns]"
      ]
     },
     "execution_count": 43,
     "metadata": {},
     "output_type": "execute_result"
    }
   ],
   "source": [
    "t[\"Sex\"] = t[\"Sex\"].map({'male':'M','female':'F'})\n",
    "t.sample(2)"
   ]
  },
  {
   "cell_type": "code",
   "execution_count": 44,
   "metadata": {},
   "outputs": [],
   "source": [
    "def Alterskorrektur(a):\n",
    "    return a/2 +10\n",
    "    t[\"Age\"].map()"
   ]
  },
  {
   "cell_type": "code",
   "execution_count": 45,
   "metadata": {},
   "outputs": [
    {
     "data": {
      "text/plain": [
       "31.0"
      ]
     },
     "execution_count": 45,
     "metadata": {},
     "output_type": "execute_result"
    }
   ],
   "source": [
    "Alterskorrektur(42)"
   ]
  },
  {
   "cell_type": "markdown",
   "metadata": {},
   "source": [
    "Auf alle Spalten Anwenden"
   ]
  },
  {
   "cell_type": "code",
   "execution_count": 46,
   "metadata": {},
   "outputs": [
    {
     "data": {
      "text/plain": [
       "0       10.085\n",
       "1       10.165\n",
       "2        10.21\n",
       "3        10.29\n",
       "4        10.29\n",
       "         ...  \n",
       "2203      <NA>\n",
       "2204      <NA>\n",
       "2205      <NA>\n",
       "2206      <NA>\n",
       "2207      <NA>\n",
       "Name: Age, Length: 2208, dtype: object"
      ]
     },
     "execution_count": 46,
     "metadata": {},
     "output_type": "execute_result"
    }
   ],
   "source": [
    "t[\"Age\"].map(Alterskorrektur)"
   ]
  },
  {
   "cell_type": "code",
   "execution_count": 47,
   "metadata": {},
   "outputs": [
    {
     "data": {
      "text/plain": [
       "0       10.085\n",
       "1       10.165\n",
       "2        10.21\n",
       "3        10.29\n",
       "4        10.29\n",
       "         ...  \n",
       "2203      <NA>\n",
       "2204      <NA>\n",
       "2205      <NA>\n",
       "2206      <NA>\n",
       "2207      <NA>\n",
       "Name: Age, Length: 2208, dtype: object"
      ]
     },
     "execution_count": 47,
     "metadata": {},
     "output_type": "execute_result"
    }
   ],
   "source": [
    "# Oder mit Lamda\n",
    "t[\"Age\"].map(lambda x: x/2+10)"
   ]
  },
  {
   "cell_type": "markdown",
   "metadata": {},
   "source": [
    "`Apply()` ist im Vergleich zu `map()` allgemeiner. Bei gehen jede Zeile durch"
   ]
  },
  {
   "cell_type": "markdown",
   "metadata": {},
   "source": [
    "Vektor Operationen"
   ]
  },
  {
   "cell_type": "code",
   "execution_count": 48,
   "metadata": {},
   "outputs": [
    {
     "data": {
      "text/plain": [
       "Name_ID                 Int64\n",
       "Name           string[python]\n",
       "Sex                    object\n",
       "Age                   Float64\n",
       "Class          string[python]\n",
       "Ticket         string[python]\n",
       "Joined         string[python]\n",
       "Occupation     string[python]\n",
       "Boat [Body]    string[python]\n",
       "Price          string[python]\n",
       "Job            string[python]\n",
       "Survived                Int64\n",
       "URL            string[python]\n",
       "Last           string[python]\n",
       "Title          string[python]\n",
       "First          string[python]\n",
       "DoB            string[python]\n",
       "Year_Birth     string[python]\n",
       "Date_Death     string[python]\n",
       "DoB_Clean      string[python]\n",
       "Age_F_Code     string[python]\n",
       "Age_F                 Float64\n",
       "sibsp                   Int64\n",
       "parch                   Int64\n",
       "dtype: object"
      ]
     },
     "execution_count": 48,
     "metadata": {},
     "output_type": "execute_result"
    }
   ],
   "source": [
    "t.dtypes"
   ]
  },
  {
   "cell_type": "code",
   "execution_count": 49,
   "metadata": {},
   "outputs": [
    {
     "data": {
      "text/plain": [
       "0       10.17\n",
       "1        0.33\n",
       "2       10.42\n",
       "3       10.58\n",
       "4        0.58\n",
       "        ...  \n",
       "2203     <NA>\n",
       "2204     <NA>\n",
       "2205     <NA>\n",
       "2206     <NA>\n",
       "2207     <NA>\n",
       "Length: 2208, dtype: Float64"
      ]
     },
     "execution_count": 49,
     "metadata": {},
     "output_type": "execute_result"
    }
   ],
   "source": [
    "# Alter 10 Jahre nach dem Unglück\n",
    "# Wie Broadcasting\n",
    "t[\"Age\"] + (t[\"Survived\"] * 10)"
   ]
  },
  {
   "cell_type": "markdown",
   "metadata": {},
   "source": [
    "### String Vektor Organisation"
   ]
  },
  {
   "cell_type": "code",
   "execution_count": 50,
   "metadata": {},
   "outputs": [
    {
     "data": {
      "text/plain": [
       "'Horribilikribrifax'"
      ]
     },
     "execution_count": 50,
     "metadata": {},
     "output_type": "execute_result"
    }
   ],
   "source": [
    "# Python (noch nicht pandas)\n",
    "\n",
    "'HorribiliKribriFax'.title() # erster Buchstabe groß, Rest klein"
   ]
  },
  {
   "cell_type": "code",
   "execution_count": 51,
   "metadata": {},
   "outputs": [
    {
     "data": {
      "text/plain": [
       "0       Dean, Miss Elizabeth Gladys 'Millvina' \n",
       "1       Danbom, Master Gilbert Sigvard Emanuel \n",
       "2                         Tannus, Master As'Ad \n",
       "3       Hämäläinen, Master Viljo Unto Johannes \n",
       "4                Peacock, Master Albert Edward \n",
       "                         ...                   \n",
       "2203                  Van Der Hoef, Mr Wyckoff \n",
       "2204                    Wazli, Mr Yousif Ahmed \n",
       "2205                   Widegren, Mr Carl Peter \n",
       "2206                   Willard, Miss Constance \n",
       "2207    Williams, Mr Fletcher Fellowes Lambert \n",
       "Name: Name, Length: 2208, dtype: object"
      ]
     },
     "execution_count": 51,
     "metadata": {},
     "output_type": "execute_result"
    }
   ],
   "source": [
    "t[\"Name\"].map(lambda x: x.title())"
   ]
  },
  {
   "cell_type": "code",
   "execution_count": 52,
   "metadata": {},
   "outputs": [
    {
     "data": {
      "text/plain": [
       "0       Dean, Miss Elizabeth Gladys 'Millvina' \n",
       "1       Danbom, Master Gilbert Sigvard Emanuel \n",
       "2                         Tannus, Master As'Ad \n",
       "3       Hämäläinen, Master Viljo Unto Johannes \n",
       "4                Peacock, Master Albert Edward \n",
       "                         ...                   \n",
       "2203                  Van Der Hoef, Mr Wyckoff \n",
       "2204                    Wazli, Mr Yousif Ahmed \n",
       "2205                   Widegren, Mr Carl Peter \n",
       "2206                   Willard, Miss Constance \n",
       "2207    Williams, Mr Fletcher Fellowes Lambert \n",
       "Name: Name, Length: 2208, dtype: string"
      ]
     },
     "execution_count": 52,
     "metadata": {},
     "output_type": "execute_result"
    }
   ],
   "source": [
    "# Schöner und schneller sollte eine Vektoroperation sein\n",
    "# .str --> String Vektor Funktion\n",
    "t[\"Name\"].str.title()"
   ]
  },
  {
   "cell_type": "markdown",
   "metadata": {},
   "source": [
    "### Reguläre Ausdrücke"
   ]
  },
  {
   "cell_type": "code",
   "execution_count": 53,
   "metadata": {},
   "outputs": [],
   "source": [
    "import re"
   ]
  },
  {
   "cell_type": "code",
   "execution_count": 54,
   "metadata": {},
   "outputs": [
    {
     "data": {
      "text/plain": [
       "'HäMäLäINEN, Master Viljo Unto Johannes '"
      ]
     },
     "execution_count": 54,
     "metadata": {},
     "output_type": "execute_result"
    }
   ],
   "source": [
    "name = t.loc[3][\"Name\"]\n",
    "name"
   ]
  },
  {
   "cell_type": "code",
   "execution_count": 55,
   "metadata": {},
   "outputs": [],
   "source": [
    "regex = re.compile(r'[,\\s]+') # eins oder mehr Zeichen"
   ]
  },
  {
   "cell_type": "code",
   "execution_count": 56,
   "metadata": {},
   "outputs": [
    {
     "data": {
      "text/plain": [
       "['HäMäLäINEN', 'Master', 'Viljo', 'Unto', 'Johannes']"
      ]
     },
     "execution_count": 56,
     "metadata": {},
     "output_type": "execute_result"
    }
   ],
   "source": [
    "regex.split(name.rstrip())"
   ]
  },
  {
   "cell_type": "code",
   "execution_count": 57,
   "metadata": {},
   "outputs": [
    {
     "data": {
      "text/plain": [
       "0       DEAN***Miss***Elizabeth***Gladys***'Millvina'\n",
       "1       DANBOM***Master***Gilbert***Sigvard***Emanuel\n",
       "2                             TANNuS***Master***As'ad\n",
       "3       HäMäLäINEN***Master***Viljo***Unto***Johannes\n",
       "4                  PEACOCK***Master***Albert***Edward\n",
       "                            ...                      \n",
       "2203                  VAN***DER***HOEF***Mr***Wyckoff\n",
       "2204                      WAZLI***Mr***Yousif***Ahmed\n",
       "2205                     WIDEGREN***Mr***Carl***Peter\n",
       "2206                       WILLARD***Miss***Constance\n",
       "2207    WILLIAMS***Mr***Fletcher***Fellowes***Lambert\n",
       "Name: Name, Length: 2208, dtype: object"
      ]
     },
     "execution_count": 57,
     "metadata": {},
     "output_type": "execute_result"
    }
   ],
   "source": [
    "t[\"Name\"].str.rstrip().str.split(regex).str.join('***')"
   ]
  },
  {
   "cell_type": "code",
   "execution_count": 58,
   "metadata": {},
   "outputs": [
    {
     "data": {
      "text/plain": [
       "0       ['Millvina']\n",
       "1                 []\n",
       "2                 []\n",
       "3                 []\n",
       "4                 []\n",
       "            ...     \n",
       "2203              []\n",
       "2204              []\n",
       "2205              []\n",
       "2206              []\n",
       "2207              []\n",
       "Name: Name, Length: 2208, dtype: object"
      ]
     },
     "execution_count": 58,
     "metadata": {},
     "output_type": "execute_result"
    }
   ],
   "source": [
    "regex_spitzname = re.compile(r\"'\\w+'\")\n",
    "t[\"Name\"].str.findall(regex_spitzname)"
   ]
  },
  {
   "cell_type": "code",
   "execution_count": 59,
   "metadata": {},
   "outputs": [
    {
     "data": {
      "text/html": [
       "<div>\n",
       "<style scoped>\n",
       "    .dataframe tbody tr th:only-of-type {\n",
       "        vertical-align: middle;\n",
       "    }\n",
       "\n",
       "    .dataframe tbody tr th {\n",
       "        vertical-align: top;\n",
       "    }\n",
       "\n",
       "    .dataframe thead th {\n",
       "        text-align: right;\n",
       "    }\n",
       "</style>\n",
       "<table border=\"1\" class=\"dataframe\">\n",
       "  <thead>\n",
       "    <tr style=\"text-align: right;\">\n",
       "      <th></th>\n",
       "      <th>0</th>\n",
       "    </tr>\n",
       "  </thead>\n",
       "  <tbody>\n",
       "    <tr>\n",
       "      <th>0</th>\n",
       "      <td>Millvina</td>\n",
       "    </tr>\n",
       "    <tr>\n",
       "      <th>1</th>\n",
       "      <td>&lt;NA&gt;</td>\n",
       "    </tr>\n",
       "    <tr>\n",
       "      <th>2</th>\n",
       "      <td>&lt;NA&gt;</td>\n",
       "    </tr>\n",
       "    <tr>\n",
       "      <th>3</th>\n",
       "      <td>&lt;NA&gt;</td>\n",
       "    </tr>\n",
       "    <tr>\n",
       "      <th>4</th>\n",
       "      <td>&lt;NA&gt;</td>\n",
       "    </tr>\n",
       "    <tr>\n",
       "      <th>...</th>\n",
       "      <td>...</td>\n",
       "    </tr>\n",
       "    <tr>\n",
       "      <th>2203</th>\n",
       "      <td>&lt;NA&gt;</td>\n",
       "    </tr>\n",
       "    <tr>\n",
       "      <th>2204</th>\n",
       "      <td>&lt;NA&gt;</td>\n",
       "    </tr>\n",
       "    <tr>\n",
       "      <th>2205</th>\n",
       "      <td>&lt;NA&gt;</td>\n",
       "    </tr>\n",
       "    <tr>\n",
       "      <th>2206</th>\n",
       "      <td>&lt;NA&gt;</td>\n",
       "    </tr>\n",
       "    <tr>\n",
       "      <th>2207</th>\n",
       "      <td>&lt;NA&gt;</td>\n",
       "    </tr>\n",
       "  </tbody>\n",
       "</table>\n",
       "<p>2208 rows × 1 columns</p>\n",
       "</div>"
      ],
      "text/plain": [
       "             0\n",
       "0     Millvina\n",
       "1         <NA>\n",
       "2         <NA>\n",
       "3         <NA>\n",
       "4         <NA>\n",
       "...        ...\n",
       "2203      <NA>\n",
       "2204      <NA>\n",
       "2205      <NA>\n",
       "2206      <NA>\n",
       "2207      <NA>\n",
       "\n",
       "[2208 rows x 1 columns]"
      ]
     },
     "execution_count": 59,
     "metadata": {},
     "output_type": "execute_result"
    }
   ],
   "source": [
    "regex_spitzname = re.compile(r\"'(\\w+)'\")\n",
    "t[\"Name\"].str.extract(regex_spitzname)"
   ]
  },
  {
   "cell_type": "code",
   "execution_count": 60,
   "metadata": {},
   "outputs": [
    {
     "data": {
      "text/plain": [
       "0       DEAN, Miss Elizabeth Gladys Spitzname! \n",
       "1       DANBOM, Master Gilbert Sigvard Emanuel \n",
       "2                         TANNuS, Master As'ad \n",
       "3       HäMäLäINEN, Master Viljo Unto Johannes \n",
       "4                PEACOCK, Master Albert Edward \n",
       "                         ...                   \n",
       "2203                  VAN DER HOEF, Mr Wyckoff \n",
       "2204                    WAZLI, Mr Yousif Ahmed \n",
       "2205                   WIDEGREN, Mr Carl Peter \n",
       "2206                   WILLARD, Miss Constance \n",
       "2207    WILLIAMS, Mr Fletcher Fellowes Lambert \n",
       "Name: Name, Length: 2208, dtype: string"
      ]
     },
     "execution_count": 60,
     "metadata": {},
     "output_type": "execute_result"
    }
   ],
   "source": [
    "regex_spitzname = re.compile(r\"'(\\w+)'\")\n",
    "t[\"Name\"].str.replace(regex_spitzname, repl='Spitzname!', regex=True)"
   ]
  },
  {
   "cell_type": "code",
   "execution_count": 61,
   "metadata": {},
   "outputs": [
    {
     "data": {
      "text/plain": [
       "0       DEAN, Miss Elizabeth Gladys Spitzname! \n",
       "1       DANBOM, Master Gilbert Sigvard Emanuel \n",
       "2                         TANNuS, Master As'ad \n",
       "3       HäMäLäINEN, Master Viljo Unto Johannes \n",
       "4                PEACOCK, Master Albert Edward \n",
       "                         ...                   \n",
       "2203                  VAN DER HOEF, Mr Wyckoff \n",
       "2204                    WAZLI, Mr Yousif Ahmed \n",
       "2205                   WIDEGREN, Mr Carl Peter \n",
       "2206                   WILLARD, Miss Constance \n",
       "2207    WILLIAMS, Mr Fletcher Fellowes Lambert \n",
       "Name: Name, Length: 2208, dtype: string"
      ]
     },
     "execution_count": 61,
     "metadata": {},
     "output_type": "execute_result"
    }
   ],
   "source": [
    "t[\"Name\"].str.replace(r\"'(\\w+)'\", repl='Spitzname!', regex=True)"
   ]
  },
  {
   "cell_type": "markdown",
   "metadata": {},
   "source": [
    "Um reguläre Ausdrücke zu testen kann man: `www.regex101.com` verwenden"
   ]
  },
  {
   "cell_type": "markdown",
   "metadata": {},
   "source": [
    "### Bins"
   ]
  },
  {
   "cell_type": "code",
   "execution_count": 62,
   "metadata": {},
   "outputs": [
    {
     "data": {
      "text/html": [
       "<div>\n",
       "<style scoped>\n",
       "    .dataframe tbody tr th:only-of-type {\n",
       "        vertical-align: middle;\n",
       "    }\n",
       "\n",
       "    .dataframe tbody tr th {\n",
       "        vertical-align: top;\n",
       "    }\n",
       "\n",
       "    .dataframe thead th {\n",
       "        text-align: right;\n",
       "    }\n",
       "</style>\n",
       "<table border=\"1\" class=\"dataframe\">\n",
       "  <thead>\n",
       "    <tr style=\"text-align: right;\">\n",
       "      <th></th>\n",
       "      <th>Eimer</th>\n",
       "      <th>Age</th>\n",
       "    </tr>\n",
       "  </thead>\n",
       "  <tbody>\n",
       "    <tr>\n",
       "      <th>0</th>\n",
       "      <td>(0.0, 12.0]</td>\n",
       "      <td>0.17</td>\n",
       "    </tr>\n",
       "    <tr>\n",
       "      <th>1</th>\n",
       "      <td>(0.0, 12.0]</td>\n",
       "      <td>0.33</td>\n",
       "    </tr>\n",
       "    <tr>\n",
       "      <th>2</th>\n",
       "      <td>(0.0, 12.0]</td>\n",
       "      <td>0.42</td>\n",
       "    </tr>\n",
       "    <tr>\n",
       "      <th>3</th>\n",
       "      <td>(0.0, 12.0]</td>\n",
       "      <td>0.58</td>\n",
       "    </tr>\n",
       "    <tr>\n",
       "      <th>4</th>\n",
       "      <td>(0.0, 12.0]</td>\n",
       "      <td>0.58</td>\n",
       "    </tr>\n",
       "    <tr>\n",
       "      <th>...</th>\n",
       "      <td>...</td>\n",
       "      <td>...</td>\n",
       "    </tr>\n",
       "    <tr>\n",
       "      <th>2203</th>\n",
       "      <td>NaN</td>\n",
       "      <td>&lt;NA&gt;</td>\n",
       "    </tr>\n",
       "    <tr>\n",
       "      <th>2204</th>\n",
       "      <td>NaN</td>\n",
       "      <td>&lt;NA&gt;</td>\n",
       "    </tr>\n",
       "    <tr>\n",
       "      <th>2205</th>\n",
       "      <td>NaN</td>\n",
       "      <td>&lt;NA&gt;</td>\n",
       "    </tr>\n",
       "    <tr>\n",
       "      <th>2206</th>\n",
       "      <td>NaN</td>\n",
       "      <td>&lt;NA&gt;</td>\n",
       "    </tr>\n",
       "    <tr>\n",
       "      <th>2207</th>\n",
       "      <td>NaN</td>\n",
       "      <td>&lt;NA&gt;</td>\n",
       "    </tr>\n",
       "  </tbody>\n",
       "</table>\n",
       "<p>2208 rows × 2 columns</p>\n",
       "</div>"
      ],
      "text/plain": [
       "            Eimer   Age\n",
       "0     (0.0, 12.0]  0.17\n",
       "1     (0.0, 12.0]  0.33\n",
       "2     (0.0, 12.0]  0.42\n",
       "3     (0.0, 12.0]  0.58\n",
       "4     (0.0, 12.0]  0.58\n",
       "...           ...   ...\n",
       "2203          NaN  <NA>\n",
       "2204          NaN  <NA>\n",
       "2205          NaN  <NA>\n",
       "2206          NaN  <NA>\n",
       "2207          NaN  <NA>\n",
       "\n",
       "[2208 rows x 2 columns]"
      ]
     },
     "execution_count": 62,
     "metadata": {},
     "output_type": "execute_result"
    }
   ],
   "source": [
    "bins = [0, 12, 18, 67, 100]\n",
    "\n",
    "pd.merge(\n",
    "    pd.cut(t[\"Age\"], bins=bins) # , lables=lables\n",
    "    , t[\"Age\"]\n",
    "    , left_index=True, right_index=True\n",
    ").rename(columns={\"Age_x\":\"Eimer\", \"Age_y\":\"Age\"})"
   ]
  },
  {
   "cell_type": "code",
   "execution_count": 63,
   "metadata": {},
   "outputs": [
    {
     "data": {
      "text/plain": [
       "Age class\n",
       "(0, 12]       108\n",
       "(12, 18]      149\n",
       "(18, 67]     1892\n",
       "(67, 100]       5\n",
       "dtype: int64"
      ]
     },
     "execution_count": 63,
     "metadata": {},
     "output_type": "execute_result"
    }
   ],
   "source": [
    "bins = [0, 12, 18, 67, 100]\n",
    "labels = ['baby', 'teenager', 'worker', 'elder']\n",
    "\n",
    "t[\"Age class\"] = pd.cut(t[\"Age\"], bins=bins) # , lables=lables\n",
    "\n",
    "t.groupby(by=\"Age class\", observed=True).size() # Observed = True um Warning zu beheben"
   ]
  },
  {
   "cell_type": "code",
   "execution_count": 64,
   "metadata": {},
   "outputs": [
    {
     "data": {
      "text/plain": [
       "Name_ID        False\n",
       "Name           False\n",
       "Sex            False\n",
       "Age             True\n",
       "Class          False\n",
       "Ticket          True\n",
       "Joined         False\n",
       "Occupation      True\n",
       "Boat [Body]    False\n",
       "Price          False\n",
       "Job             True\n",
       "Survived       False\n",
       "URL            False\n",
       "Last           False\n",
       "Title          False\n",
       "First          False\n",
       "DoB             True\n",
       "Year_Birth      True\n",
       "Date_Death     False\n",
       "DoB_Clean       True\n",
       "Age_F_Code     False\n",
       "Age_F           True\n",
       "sibsp           True\n",
       "parch           True\n",
       "Age class       True\n",
       "dtype: bool"
      ]
     },
     "execution_count": 64,
     "metadata": {},
     "output_type": "execute_result"
    }
   ],
   "source": [
    "t.isna().any(axis='rows')"
   ]
  },
  {
   "cell_type": "code",
   "execution_count": 65,
   "metadata": {},
   "outputs": [
    {
     "data": {
      "text/plain": [
       "0       True\n",
       "1       True\n",
       "2       True\n",
       "3       True\n",
       "4       True\n",
       "        ... \n",
       "2203    True\n",
       "2204    True\n",
       "2205    True\n",
       "2206    True\n",
       "2207    True\n",
       "Length: 2208, dtype: bool"
      ]
     },
     "execution_count": 65,
     "metadata": {},
     "output_type": "execute_result"
    }
   ],
   "source": [
    "t.isna().any(axis='columns')"
   ]
  },
  {
   "cell_type": "code",
   "execution_count": null,
   "metadata": {},
   "outputs": [],
   "source": []
  }
 ],
 "metadata": {
  "kernelspec": {
   "display_name": "base",
   "language": "python",
   "name": "python3"
  },
  "language_info": {
   "codemirror_mode": {
    "name": "ipython",
    "version": 3
   },
   "file_extension": ".py",
   "mimetype": "text/x-python",
   "name": "python",
   "nbconvert_exporter": "python",
   "pygments_lexer": "ipython3",
   "version": "3.11.5"
  },
  "orig_nbformat": 4
 },
 "nbformat": 4,
 "nbformat_minor": 2
}
