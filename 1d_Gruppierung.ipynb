{
 "cells": [
  {
   "cell_type": "markdown",
   "metadata": {},
   "source": [
    "# Gruppierung"
   ]
  },
  {
   "cell_type": "markdown",
   "metadata": {},
   "source": [
    "### Folie 1 Pandas Seite 57"
   ]
  },
  {
   "cell_type": "code",
   "execution_count": 70,
   "metadata": {},
   "outputs": [
    {
     "name": "stdout",
     "output_type": "stream",
     "text": [
      "Exception reporting mode: Minimal\n"
     ]
    }
   ],
   "source": [
    "import pandas as pd\n",
    "%xmode minimal\n",
    "pd.set_option(\"mode.copy_on_write\", True)"
   ]
  },
  {
   "cell_type": "markdown",
   "metadata": {},
   "source": [
    "### Titanic Daten"
   ]
  },
  {
   "cell_type": "code",
   "execution_count": 71,
   "metadata": {},
   "outputs": [],
   "source": [
    "url = 'https://hbiostat.org/data/repo/titanic5.xlsx '"
   ]
  },
  {
   "cell_type": "code",
   "execution_count": 72,
   "metadata": {},
   "outputs": [],
   "source": [
    "# t = pd.read_excel(url, sheet_name='Titanic5_all').convert_dtypes() #Wichtig um damit zu arbeiten\n",
    "# file = 'data/titanic.pickle' # Damit es local gespeichert wird\n",
    "# t.to_pickle(file)"
   ]
  },
  {
   "cell_type": "code",
   "execution_count": 73,
   "metadata": {},
   "outputs": [
    {
     "data": {
      "text/plain": [
       "Name_ID                 Int64\n",
       "Name           string[python]\n",
       "Sex            string[python]\n",
       "Age                   Float64\n",
       "Class          string[python]\n",
       "Ticket         string[python]\n",
       "Joined         string[python]\n",
       "Occupation     string[python]\n",
       "Boat [Body]    string[python]\n",
       "Price          string[python]\n",
       "Job            string[python]\n",
       "Survived                Int64\n",
       "URL            string[python]\n",
       "Last           string[python]\n",
       "Title          string[python]\n",
       "First          string[python]\n",
       "DoB            string[python]\n",
       "Year_Birth     string[python]\n",
       "Date_Death     string[python]\n",
       "DoB_Clean      string[python]\n",
       "Age_F_Code     string[python]\n",
       "Age_F                 Float64\n",
       "sibsp                   Int64\n",
       "parch                   Int64\n",
       "dtype: object"
      ]
     },
     "execution_count": 73,
     "metadata": {},
     "output_type": "execute_result"
    }
   ],
   "source": [
    "file_prep = 'data/titanic_prepared.pickle'\n",
    "t = pd.read_pickle(file_prep)\n",
    "t.dtypes"
   ]
  },
  {
   "cell_type": "code",
   "execution_count": 74,
   "metadata": {},
   "outputs": [
    {
     "data": {
      "text/html": [
       "<div>\n",
       "<style scoped>\n",
       "    .dataframe tbody tr th:only-of-type {\n",
       "        vertical-align: middle;\n",
       "    }\n",
       "\n",
       "    .dataframe tbody tr th {\n",
       "        vertical-align: top;\n",
       "    }\n",
       "\n",
       "    .dataframe thead th {\n",
       "        text-align: right;\n",
       "    }\n",
       "</style>\n",
       "<table border=\"1\" class=\"dataframe\">\n",
       "  <thead>\n",
       "    <tr style=\"text-align: right;\">\n",
       "      <th></th>\n",
       "      <th>Name_ID</th>\n",
       "      <th>Name</th>\n",
       "      <th>Sex</th>\n",
       "      <th>Age</th>\n",
       "      <th>Class</th>\n",
       "      <th>Ticket</th>\n",
       "      <th>Joined</th>\n",
       "      <th>Occupation</th>\n",
       "      <th>Boat [Body]</th>\n",
       "      <th>Price</th>\n",
       "      <th>...</th>\n",
       "      <th>Title</th>\n",
       "      <th>First</th>\n",
       "      <th>DoB</th>\n",
       "      <th>Year_Birth</th>\n",
       "      <th>Date_Death</th>\n",
       "      <th>DoB_Clean</th>\n",
       "      <th>Age_F_Code</th>\n",
       "      <th>Age_F</th>\n",
       "      <th>sibsp</th>\n",
       "      <th>parch</th>\n",
       "    </tr>\n",
       "  </thead>\n",
       "  <tbody>\n",
       "    <tr>\n",
       "      <th>774</th>\n",
       "      <td>1248</td>\n",
       "      <td>MALACHARD, Mr Jean-Noël</td>\n",
       "      <td>male</td>\n",
       "      <td>25.0</td>\n",
       "      <td>2</td>\n",
       "      <td>237735</td>\n",
       "      <td>Cherbourg</td>\n",
       "      <td>&lt;NA&gt;</td>\n",
       "      <td></td>\n",
       "      <td>£15 11d</td>\n",
       "      <td>...</td>\n",
       "      <td>Mr</td>\n",
       "      <td>Jean-Noël</td>\n",
       "      <td>1886-12-21</td>\n",
       "      <td>&lt;NA&gt;</td>\n",
       "      <td>1912-04-15 00:00:00</td>\n",
       "      <td>12/21/1886</td>\n",
       "      <td>C</td>\n",
       "      <td>25.0</td>\n",
       "      <td>0</td>\n",
       "      <td>0</td>\n",
       "    </tr>\n",
       "    <tr>\n",
       "      <th>2082</th>\n",
       "      <td>896</td>\n",
       "      <td>HEWLETT, Mrs Mary Dunbar</td>\n",
       "      <td>female</td>\n",
       "      <td>56.0</td>\n",
       "      <td>2</td>\n",
       "      <td>248706</td>\n",
       "      <td>Southampton</td>\n",
       "      <td>&lt;NA&gt;</td>\n",
       "      <td>13</td>\n",
       "      <td>£16</td>\n",
       "      <td>...</td>\n",
       "      <td>Mrs</td>\n",
       "      <td>Mary Dunbar</td>\n",
       "      <td>1855-07-08</td>\n",
       "      <td>&lt;NA&gt;</td>\n",
       "      <td>1917-05-09 00:00:00</td>\n",
       "      <td>7/8/1855</td>\n",
       "      <td>C</td>\n",
       "      <td>56.0</td>\n",
       "      <td>0</td>\n",
       "      <td>0</td>\n",
       "    </tr>\n",
       "    <tr>\n",
       "      <th>465</th>\n",
       "      <td>2133</td>\n",
       "      <td>WHITE, Mr Richard Frasar</td>\n",
       "      <td>male</td>\n",
       "      <td>21.0</td>\n",
       "      <td>1</td>\n",
       "      <td>35281</td>\n",
       "      <td>Southampton</td>\n",
       "      <td>&lt;NA&gt;</td>\n",
       "      <td>[169]</td>\n",
       "      <td>£77 5s 9d</td>\n",
       "      <td>...</td>\n",
       "      <td>Mr</td>\n",
       "      <td>Richard Frasar</td>\n",
       "      <td>&lt;NA&gt;</td>\n",
       "      <td>December 1890</td>\n",
       "      <td>1912-04-15 00:00:00</td>\n",
       "      <td>12/15/1890</td>\n",
       "      <td>D</td>\n",
       "      <td>21.0</td>\n",
       "      <td>0</td>\n",
       "      <td>1</td>\n",
       "    </tr>\n",
       "  </tbody>\n",
       "</table>\n",
       "<p>3 rows × 24 columns</p>\n",
       "</div>"
      ],
      "text/plain": [
       "      Name_ID                       Name     Sex   Age Class  Ticket  \\\n",
       "774      1248   MALACHARD, Mr Jean-Noël     male  25.0     2  237735   \n",
       "2082      896  HEWLETT, Mrs Mary Dunbar   female  56.0     2  248706   \n",
       "465      2133  WHITE, Mr Richard Frasar     male  21.0     1   35281   \n",
       "\n",
       "           Joined Occupation Boat [Body]      Price  ... Title  \\\n",
       "774     Cherbourg       <NA>                £15 11d  ...    Mr   \n",
       "2082  Southampton       <NA>          13        £16  ...   Mrs   \n",
       "465   Southampton       <NA>       [169]  £77 5s 9d  ...    Mr   \n",
       "\n",
       "               First         DoB     Year_Birth           Date_Death  \\\n",
       "774        Jean-Noël  1886-12-21           <NA>  1912-04-15 00:00:00   \n",
       "2082     Mary Dunbar  1855-07-08           <NA>  1917-05-09 00:00:00   \n",
       "465   Richard Frasar        <NA>  December 1890  1912-04-15 00:00:00   \n",
       "\n",
       "       DoB_Clean Age_F_Code Age_F sibsp parch  \n",
       "774   12/21/1886          C  25.0     0     0  \n",
       "2082    7/8/1855          C  56.0     0     0  \n",
       "465   12/15/1890          D  21.0     0     1  \n",
       "\n",
       "[3 rows x 24 columns]"
      ]
     },
     "execution_count": 74,
     "metadata": {},
     "output_type": "execute_result"
    }
   ],
   "source": [
    "t.sample(3)"
   ]
  },
  {
   "cell_type": "code",
   "execution_count": 75,
   "metadata": {},
   "outputs": [
    {
     "data": {
      "text/plain": [
       "Index(['Name_ID', 'Name', 'Sex', 'Age', 'Class', 'Ticket', 'Joined',\n",
       "       'Occupation', 'Boat [Body]', 'Price', 'Job', 'Survived', 'URL', 'Last',\n",
       "       'Title', 'First', 'DoB', 'Year_Birth', 'Date_Death', 'DoB_Clean',\n",
       "       'Age_F_Code', 'Age_F', 'sibsp', 'parch'],\n",
       "      dtype='object')"
      ]
     },
     "execution_count": 75,
     "metadata": {},
     "output_type": "execute_result"
    }
   ],
   "source": [
    "t.columns"
   ]
  },
  {
   "cell_type": "markdown",
   "metadata": {},
   "source": [
    "### Wertebereich"
   ]
  },
  {
   "cell_type": "code",
   "execution_count": 76,
   "metadata": {},
   "outputs": [
    {
     "name": "stdout",
     "output_type": "stream",
     "text": [
      "<StringArray>\n",
      "['3', '2', '1', 'V', 'R', 'E', 'D', 'B']\n",
      "Length: 8, dtype: string\n",
      "<StringArray>\n",
      "['Southampton', 'Cherbourg', 'Queenstown', 'Belfast']\n",
      "Length: 4, dtype: string\n",
      "<StringArray>\n",
      "[    '10',     '  ',     '16',      '4',     'C ',     '11',     '13',\n",
      "   ' [4]',     '15',     '14',\n",
      " ...\n",
      " ' [234]', ' [249]', ' [171]',  ' [96]', ' [269]',  ' [22]', ' [187]',\n",
      " ' [156]',  ' [45]', ' [245]']\n",
      "Length: 260, dtype: string\n",
      "<StringArray>\n",
      "[    '10',     '  ',     '16',      '4',     'C ',     '11',     '13',\n",
      "   ' [4]',     '15',     '14',\n",
      " ...\n",
      " ' [234]', ' [249]', ' [171]',  ' [96]', ' [269]',  ' [22]', ' [187]',\n",
      " ' [156]',  ' [45]', ' [245]']\n",
      "Length: 260, dtype: string\n"
     ]
    }
   ],
   "source": [
    "# set(t[\"Class\"]) #Python Menge daraus machen\n",
    "print(t[\"Class\"].unique())\n",
    "print(t[\"Joined\"].unique())\n",
    "print(t[\"Boat [Body]\"].unique())\n",
    "print(t[\"Boat [Body]\"].unique())"
   ]
  },
  {
   "cell_type": "markdown",
   "metadata": {},
   "source": [
    "Datenqualität: Wieviele Passagiere und Crew sind es?"
   ]
  },
  {
   "cell_type": "code",
   "execution_count": 77,
   "metadata": {},
   "outputs": [
    {
     "data": {
      "text/plain": [
       "(2208, 24)"
      ]
     },
     "execution_count": 77,
     "metadata": {},
     "output_type": "execute_result"
    }
   ],
   "source": [
    "# Es müssten 2200 Personen laut Wikipedia sein.897 Crew\n",
    "t.shape"
   ]
  },
  {
   "cell_type": "markdown",
   "metadata": {},
   "source": [
    "Gruppen bilden"
   ]
  },
  {
   "cell_type": "code",
   "execution_count": 78,
   "metadata": {},
   "outputs": [
    {
     "data": {
      "text/plain": [
       "<pandas.core.groupby.generic.DataFrameGroupBy object at 0x00000115C0252990>"
      ]
     },
     "execution_count": 78,
     "metadata": {},
     "output_type": "execute_result"
    }
   ],
   "source": [
    "g = t.groupby(by=[\"Class\", \"Sex\"])\n",
    "g"
   ]
  },
  {
   "cell_type": "code",
   "execution_count": 79,
   "metadata": {},
   "outputs": [
    {
     "data": {
      "text/plain": [
       "{('1', 'female'): [21, 109, 144, 145, 168, 173, 199, 232, 243, 247, 248, 263, 276, 290, 298, 415, 430, 455, 477, 485, 502, 503, 539, 542, 543, 578, 581, 612, 632, 649, 673, 680, 693, 712, 734, 745, 779, 822, 835, 899, 902, 917, 985, 1045, 1078, 1127, 1135, 1189, 1208, 1222, 1230, 1245, 1274, 1275, 1282, 1290, 1375, 1394, 1397, 1403, 1404, 1428, 1474, 1476, 1478, 1482, 1483, 1502, 1517, 1533, 1534, 1537, 1546, 1581, 1603, 1666, 1678, 1684, 1686, 1692, 1700, 1713, 1721, 1724, 1725, 1726, 1747, 1755, 1766, 1784, 1815, 1817, 1862, 1867, 1874, 1879, 1892, 1902, 1913, 1921, ...], ('1', 'male'): [10, 45, 65, 99, 111, 163, 195, 231, 274, 368, 465, 467, 541, 550, 582, 583, 653, 656, 702, 721, 722, 737, 759, 825, 890, 892, 894, 897, 910, 954, 963, 966, 1014, 1033, 1083, 1087, 1095, 1100, 1101, 1123, 1147, 1163, 1168, 1170, 1175, 1218, 1219, 1254, 1266, 1345, 1368, 1402, 1454, 1492, 1495, 1503, 1526, 1531, 1532, 1535, 1548, 1562, 1564, 1568, 1582, 1584, 1587, 1588, 1592, 1593, 1597, 1642, 1648, 1661, 1675, 1679, 1687, 1689, 1694, 1717, 1728, 1745, 1752, 1762, 1783, 1792, 1806, 1812, 1819, 1820, 1822, 1826, 1834, 1843, 1850, 1864, 1878, 1886, 1900, 1903, ...], ('2', 'female'): [9, 16, 28, 37, 44, 54, 55, 63, 68, 75, 79, 104, 107, 110, 114, 126, 175, 179, 192, 203, 213, 224, 305, 329, 344, 379, 449, 454, 525, 585, 589, 590, 594, 666, 687, 692, 709, 731, 749, 796, 880, 882, 904, 949, 958, 967, 971, 974, 1005, 1027, 1071, 1094, 1111, 1118, 1136, 1137, 1144, 1186, 1190, 1216, 1237, 1270, 1334, 1399, 1413, 1429, 1430, 1440, 1466, 1470, 1518, 1522, 1524, 1530, 1577, 1612, 1614, 1636, 1722, 1743, 1744, 1774, 1796, 1827, 1905, 1907, 1920, 1944, 1945, 1983, 1989, 1990, 1997, 2062, 2082, 2091, 2098, 2109, 2120, 2156, ...], ('2', 'male'): [3, 6, 8, 11, 17, 24, 33, 39, 42, 76, 119, 124, 146, 158, 184, 210, 212, 217, 218, 241, 265, 270, 295, 299, 302, 317, 319, 334, 340, 343, 398, 405, 408, 413, 419, 445, 458, 517, 540, 571, 591, 617, 623, 640, 642, 645, 674, 675, 683, 684, 707, 729, 735, 738, 742, 743, 750, 755, 767, 769, 774, 798, 799, 833, 841, 865, 869, 927, 930, 937, 942, 961, 1019, 1031, 1048, 1053, 1054, 1059, 1098, 1117, 1121, 1149, 1150, 1152, 1162, 1171, 1182, 1215, 1225, 1236, 1244, 1272, 1278, 1283, 1287, 1306, 1318, 1319, 1325, 1379, ...], ('3', 'female'): [0, 5, 14, 15, 18, 20, 22, 23, 27, 30, 31, 32, 35, 38, 40, 41, 47, 48, 53, 57, 58, 59, 62, 66, 67, 69, 74, 77, 78, 82, 89, 90, 92, 94, 97, 98, 105, 115, 117, 120, 123, 128, 130, 132, 133, 134, 138, 142, 148, 154, 157, 159, 160, 171, 172, 180, 193, 197, 198, 200, 201, 206, 223, 225, 234, 236, 238, 240, 246, 250, 251, 258, 272, 275, 283, 294, 297, 327, 351, 352, 353, 370, 376, 378, 397, 407, 418, 424, 431, 437, 438, 444, 456, 478, 482, 483, 493, 498, 510, 511, ...], ('3', 'male'): [1, 2, 4, 7, 12, 13, 19, 25, 26, 29, 34, 36, 43, 46, 49, 50, 51, 52, 56, 60, 61, 64, 70, 71, 72, 73, 80, 81, 83, 84, 85, 86, 87, 88, 91, 93, 95, 96, 100, 101, 102, 103, 106, 108, 112, 113, 116, 118, 122, 127, 129, 131, 135, 136, 137, 143, 147, 149, 150, 151, 152, 153, 155, 161, 162, 166, 167, 169, 176, 178, 181, 182, 187, 190, 191, 202, 205, 207, 214, 215, 220, 221, 226, 229, 235, 242, 244, 245, 254, 255, 257, 264, 266, 268, 269, 273, 277, 278, 279, 280, ...], ('B', 'male'): [328, 420, 599, 658, 973, 1346, 1355, 1381], ('D', 'male'): [249, 595, 635, 672, 698, 725, 756, 772, 773, 832, 849, 873, 877, 905, 907, 932, 934, 965, 976, 1001, 1012, 1049, 1068, 1070, 1084, 1172, 1200, 1214, 1227, 1239, 1258, 1307, 1323, 1339, 1352, 1371, 1383, 1398, 1407, 1451, 1462, 1510, 1560, 1606, 1608, 1653, 1688, 1695, 1710, 1731, 1734, 1753, 1794, 1804, 1809, 1810, 1823, 1841, 1854, 1861, 1939, 1971, 1973, 1991, 2126, 2127], ('E', 'male'): [216, 230, 233, 303, 313, 324, 325, 326, 341, 346, 356, 374, 377, 383, 393, 403, 404, 409, 410, 432, 436, 440, 452, 460, 464, 470, 475, 476, 484, 486, 489, 490, 494, 501, 505, 506, 508, 509, 515, 520, 529, 531, 533, 548, 553, 557, 572, 575, 576, 586, 592, 593, 598, 605, 611, 613, 618, 622, 626, 627, 628, 631, 644, 647, 651, 654, 655, 661, 667, 670, 671, 677, 681, 688, 705, 708, 716, 726, 727, 739, 740, 741, 748, 751, 752, 760, 776, 778, 783, 791, 797, 800, 801, 804, 807, 812, 814, 828, 836, 837, ...], ('R', 'female'): [361, 1210], ('R', 'male'): [165, 170, 185, 186, 188, 196, 211, 252, 267, 300, 318, 336, 337, 338, 362, 363, 372, 373, 388, 390, 447, 451, 462, 469, 474, 549, 551, 580, 610, 625, 637, 652, 676, 686, 711, 715, 717, 746, 777, 793, 810, 820, 827, 829, 885, 887, 888, 948, 962, 977, 1004, 1026, 1073, 1146, 1224, 1289, 1332, 1363, 1499, 1512, 1515, 1594, 1649, 1830, 1835, 2016, 2159], ('V', 'female'): [558, 685, 1011, 1032, 1191, 1353, 1364, 1369, 1453, 1516, 1707, 1756, 1760, 1764, 1793, 1800, 1891, 1901, 1912, 1914, 1977], ('V', 'male'): [121, 125, 139, 140, 141, 156, 164, 174, 177, 183, 189, 194, 204, 208, 209, 219, 222, 227, 228, 237, 239, 253, 256, 259, 260, 261, 262, 271, 281, 282, 287, 289, 307, 308, 311, 316, 321, 330, 331, 335, 342, 345, 347, 350, 354, 360, 364, 375, 382, 385, 391, 395, 396, 401, 416, 417, 421, 427, 428, 433, 450, 471, 480, 492, 495, 497, 499, 507, 512, 513, 516, 527, 545, 546, 547, 560, 573, 579, 587, 601, 603, 606, 619, 620, 621, 624, 629, 630, 636, 638, 643, 657, 664, 696, 700, 719, 720, 728, 730, 744, ...]}"
      ]
     },
     "execution_count": 79,
     "metadata": {},
     "output_type": "execute_result"
    }
   ],
   "source": [
    "g.groups"
   ]
  },
  {
   "cell_type": "code",
   "execution_count": 80,
   "metadata": {},
   "outputs": [
    {
     "data": {
      "text/plain": [
       "dict_keys([('1', 'female'), ('1', 'male'), ('2', 'female'), ('2', 'male'), ('3', 'female'), ('3', 'male'), ('B', 'male'), ('D', 'male'), ('E', 'male'), ('R', 'female'), ('R', 'male'), ('V', 'female'), ('V', 'male')])"
      ]
     },
     "execution_count": 80,
     "metadata": {},
     "output_type": "execute_result"
    }
   ],
   "source": [
    "g.groups.keys()"
   ]
  },
  {
   "cell_type": "code",
   "execution_count": 81,
   "metadata": {},
   "outputs": [
    {
     "name": "stdout",
     "output_type": "stream",
     "text": [
      "(1, female):\n",
      "                                   Name  Ticket\n",
      "21         ALLISON, Miss Helen Loraine   113781\n",
      "109           CARTER, Miss Lucile Polk   113760\n",
      "144           LINES, Miss Mary Conover    17592\n",
      "145   MADILL, Miss Georgette Alexandra    24160\n",
      "168                     DICK, Mrs Vera    17474\n",
      "...                                 ...     ...\n",
      "2129          STONE, Mrs Martha Evelyn   113572\n",
      "2135           STRAUS, Mrs Rosalie Ida    17483\n",
      "2138           COMPTON, Mrs Mary Eliza    17756\n",
      "2139   CROSBY, Mrs Catherine Elizabeth     5735\n",
      "2206           WILLARD, Miss Constance   113795\n",
      "\n",
      "[144 rows x 2 columns]\n",
      "(1, male):\n",
      "                                         Name  Ticket\n",
      "10             ALLISON, Master Hudson Trevor   113781\n",
      "45                  DODGE, Master Washington    33638\n",
      "65            SPEDDEN, Master Robert Douglas    16966\n",
      "99        CARTER, Master William Thornton II   113760\n",
      "111               RYERSON, Master John Borie    17608\n",
      "...                                       ...     ...\n",
      "2187               KEEPING, Mr Edwin Herbert   113503\n",
      "2189                       KLABER, Mr Herman   113028\n",
      "2200               SMITH, Mr Richard William   113056\n",
      "2203                VAN DER HOEF, Mr Wyckoff   111240\n",
      "2207  WILLIAMS, Mr Fletcher Fellowes Lambert   113510\n",
      "\n",
      "[180 rows x 2 columns]\n",
      "(2, female):\n",
      "                                          Name  Ticket\n",
      "9                    WEST, Miss Barbara Joyce    34651\n",
      "16                       LAROCHE, Miss Louise     2123\n",
      "28                    QUICK, Miss Phyllis May    26360\n",
      "37    LAROCHE, Miss Simonne Marie Anne Andrée     2123\n",
      "44                 BECKER, Miss Marion Louise   230136\n",
      "...                                        ...     ...\n",
      "2164                         COOK, Mrs Selena    14266\n",
      "2167           DAVIS, Miss Mary Ann Charlotte   237668\n",
      "2176                      GARSIDE, Miss Ethel   243880\n",
      "2182       JACOBSOHN, Mrs Amy Frances Christy   243847\n",
      "2202                  TROUT, Mrs Jessie Laird   240929\n",
      "\n",
      "[106 rows x 2 columns]\n",
      "(2, male):\n",
      "                                         Name  Ticket\n",
      "3     HäMäLäINEN, Master Viljo Unto Johannes   250649\n",
      "6             RICHARDS, Master Sibley George    29106\n",
      "8               CALDWELL, Master Alden Gates   248738\n",
      "11                 BECKER, Master Richard F.   230136\n",
      "17              MALLET, Master André Clement     2079\n",
      "...                                       ...     ...\n",
      "2166           DAVIES, Master John Morgan jr    33112\n",
      "2168               DENBUOY, Mr Albert Joseph    31029\n",
      "2177              GASKELL, Mr William Alfred   239865\n",
      "2181             JACOBSOHN, Mr Sidney Samuel   243847\n",
      "2193               MATTHEWS, Mr William John    28228\n",
      "\n",
      "[170 rows x 2 columns]\n",
      "(3, female):\n",
      "                                         Name  Ticket\n",
      "0     DEAN, Miss Elizabeth Gladys 'Millvina'     2315\n",
      "5               BACLINI, Miss Helene Barbara     2666\n",
      "14               JOHNSON, Miss Eleanor Ileen   347742\n",
      "15               KLASéN, Miss Gertrud Emilia   350405\n",
      "18                         NAKID, Miss Maria     2653\n",
      "...                                       ...     ...\n",
      "2179             HARKNETT, Miss Alice Phoebe     6609\n",
      "2186                     JOHNSTON, Mrs Eliza     6607\n",
      "2191               MAHON, Miss Bridget Delia   330924\n",
      "2194                  MURPHY, Miss Catherine   367230\n",
      "2195        MUSLAMaNi, Mrs Fatimah Muhammad      2649\n",
      "\n",
      "[216 rows x 2 columns]\n",
      "(3, male):\n",
      "                                         Name   Ticket\n",
      "1     DANBOM, Master Gilbert Sigvard Emanuel    347080\n",
      "2                       TANNuS, Master As'ad      2625\n",
      "4              PEACOCK, Master Albert Edward   3101315\n",
      "7                   AKS, Master Frank Philip    392091\n",
      "12                 DEAN, Master Bertram Vere      2315\n",
      "...                                       ...      ...\n",
      "2198             RUSH, Mr Alfred George John     20589\n",
      "2199                        RYAN, Mr Patrick    371110\n",
      "2201                      SVENSSON, Mr Johan    347060\n",
      "2204                  WAZLI, Mr Yousif Ahmed      2647\n",
      "2205                 WIDEGREN, Mr Carl Peter    347064\n",
      "\n",
      "[493 rows x 2 columns]\n",
      "(B, male):\n",
      "                                      Name  Ticket\n",
      "328               BRICOUX, Mr Roger Marie   250654\n",
      "420                     HUME, Mr John Law   250654\n",
      "599           KRINS, Mr Georges Alexandre   250654\n",
      "658   BRAILEY, Mr William Theodore Ronald   250654\n",
      "973     CLARKE, Mr John Frederick Preston   250654\n",
      "1346           TAYLOR, Mr Percy Cornelius   250654\n",
      "1355             WOODWARD, Mr John Wesley   250654\n",
      "1381            HARTLEY, Mr Wallace Henry   250654\n",
      "(D, male):\n",
      "                                        Name Ticket\n",
      "249                     TERRELL, Mr Bertram    <NA>\n",
      "595                       JEWELL, Mr Archie    <NA>\n",
      "635                    TAMLYN, Mr Frederick    <NA>\n",
      "672                     FLEET, Mr Frederick    <NA>\n",
      "698                    MOODY, Mr James Paul    <NA>\n",
      "...                                      ...    ...\n",
      "1971                   MCCARTHY, Mr William    <NA>\n",
      "1973     NICHOLS, Mr Alfred William Stanley    <NA>\n",
      "1991                   HUMPHREYS, Mr Sidney    <NA>\n",
      "2126  O'LOUGHLIN, Dr William Francis Norman    <NA>\n",
      "2127             SMITH, Captain Edward John    <NA>\n",
      "\n",
      "[66 rows x 2 columns]\n",
      "(E, male):\n",
      "                                         Name Ticket\n",
      "216                 ERVINE, Mr Albert George    <NA>\n",
      "230                               LEE, Mr H.    <NA>\n",
      "233   MITCHELL, Mr Lorenzo (Lawrence) Horace    <NA>\n",
      "303                   PERRY, Mr Edgar Lionel    <NA>\n",
      "313         SHILLABEER, Mr Charles Frederick    <NA>\n",
      "...                                       ...    ...\n",
      "2088                        COLEMAN, Mr John    <NA>\n",
      "2090                         JAGO, Mr Joseph    <NA>\n",
      "2107                  MAY, Mr Arthur William    <NA>\n",
      "2175               FOSTER, Mr Alfred Charles    <NA>\n",
      "2188                       KIRKHAM, Mr James    <NA>\n",
      "\n",
      "[325 rows x 2 columns]\n",
      "(R, female):\n",
      "                            Name Ticket\n",
      "361   MARTIN, Miss Mabel Elvina    <NA>\n",
      "1210  BOWKER, Miss Ruth Harwood    <NA>\n",
      "(R, male):\n",
      "                                          Name Ticket\n",
      "165                      CROVELLA, Sig. Luigi    <NA>\n",
      "170              DONATI, Sig. Italo Francesco    <NA>\n",
      "185                PERACCHIO, Sig. Sebastiano    <NA>\n",
      "186                        PIATTI, Sig. Louis    <NA>\n",
      "188                    PRICE, Mr Ernest Cyril    <NA>\n",
      "...                                        ...    ...\n",
      "1649                  JAILLET, Mr Henri Marie    <NA>\n",
      "1830  NANNINI, Sig. Francesco Luigi Arcangelo    <NA>\n",
      "1835                    SCAVINO, Sig. Candido    <NA>\n",
      "2016                      ROUSSEAU, Mr Pierre    <NA>\n",
      "2159               BOCHET, Mr Pierre Giuseppe    <NA>\n",
      "\n",
      "[67 rows x 2 columns]\n",
      "(V, female):\n",
      "                                  Name Ticket\n",
      "558            SNAPE, Mrs Lucy Violet    <NA>\n",
      "685     JESSOP, Miss Violet Constance    <NA>\n",
      "1011             MARSDEN, Miss Evelyn    <NA>\n",
      "1032                 SLOAN, Miss Mary    <NA>\n",
      "1191       SLOCOMBE, Mrs Maude Louise    <NA>\n",
      "1353            WALSH, Miss Catherine    <NA>\n",
      "1364               BENNETT, Mrs Mabel    <NA>\n",
      "1369                CATON, Miss Annie    <NA>\n",
      "1453         PRICHARD, Mrs Alice Maud    <NA>\n",
      "1516       WALLIS, Mrs Catherine Jane    <NA>\n",
      "1707         MARTIN, Mrs Annie Martha    <NA>\n",
      "1756        LAVINGTON, Miss Elizabeth    <NA>\n",
      "1760             MCLAREN, Mrs Hypatia    <NA>\n",
      "1764              ROBINSON, Mrs Annie    <NA>\n",
      "1793      LEATHER, Mrs Elizabeth Mary    <NA>\n",
      "1800          ROBERTS, Mrs Mary Kezia    <NA>\n",
      "1891  SMITH, Miss Katherine Elizabeth    <NA>\n",
      "1901                  BLISS, Mrs Emma    <NA>\n",
      "1912      GOLD, Mrs Jane Kate Coulson    <NA>\n",
      "1914               GREGSON, Miss Mary    <NA>\n",
      "1977           STAP, Miss Sarah Agnes    <NA>\n",
      "(V, male):\n",
      "                                  Name Ticket\n",
      "121         WATSON, Mr William Albert    <NA>\n",
      "125                BARRATT, Mr Arthur    <NA>\n",
      "139         HARRIS, Mr Clifford Henry    <NA>\n",
      "140           HOARE, Mr Leonard James    <NA>\n",
      "141     HOPKINS, Mr Frederick William    <NA>\n",
      "...                                ...    ...\n",
      "2071       BAXTER, Mr Thomas Ferguson    <NA>\n",
      "2076  JENNER, Mr Thomas Henry (Harry)    <NA>\n",
      "2077               LATIMER, Mr Andrew    <NA>\n",
      "2100            RULE, Mr Samuel James    <NA>\n",
      "2101          BOGIE, Mr Norman Leslie    <NA>\n",
      "\n",
      "[410 rows x 2 columns]\n"
     ]
    }
   ],
   "source": [
    "for (cl, sex), group in g:\n",
    "    print(f'({cl}, {sex}):')\n",
    "    print(group[[\"Name\", \"Ticket\"]])"
   ]
  },
  {
   "cell_type": "code",
   "execution_count": 82,
   "metadata": {},
   "outputs": [
    {
     "ename": "KeyError",
     "evalue": "(3, 'male')",
     "output_type": "error",
     "traceback": [
      "\u001b[1;31mKeyError\u001b[0m\u001b[1;31m:\u001b[0m (3, 'male')\n"
     ]
    }
   ],
   "source": [
    "g.get_group((3, 'male'))"
   ]
  },
  {
   "cell_type": "code",
   "execution_count": null,
   "metadata": {},
   "outputs": [
    {
     "data": {
      "text/html": [
       "<div>\n",
       "<style scoped>\n",
       "    .dataframe tbody tr th:only-of-type {\n",
       "        vertical-align: middle;\n",
       "    }\n",
       "\n",
       "    .dataframe tbody tr th {\n",
       "        vertical-align: top;\n",
       "    }\n",
       "\n",
       "    .dataframe thead th {\n",
       "        text-align: right;\n",
       "    }\n",
       "</style>\n",
       "<table border=\"1\" class=\"dataframe\">\n",
       "  <thead>\n",
       "    <tr style=\"text-align: right;\">\n",
       "      <th></th>\n",
       "      <th>Class</th>\n",
       "      <th>Sex</th>\n",
       "      <th>Name</th>\n",
       "      <th>Ticket</th>\n",
       "    </tr>\n",
       "  </thead>\n",
       "  <tbody>\n",
       "    <tr>\n",
       "      <th>0</th>\n",
       "      <td>3</td>\n",
       "      <td>female</td>\n",
       "      <td>DEAN, Miss Elizabeth Gladys 'Millvina'</td>\n",
       "      <td>2315</td>\n",
       "    </tr>\n",
       "    <tr>\n",
       "      <th>1</th>\n",
       "      <td>3</td>\n",
       "      <td>male</td>\n",
       "      <td>DANBOM, Master Gilbert Sigvard Emanuel</td>\n",
       "      <td>347080</td>\n",
       "    </tr>\n",
       "    <tr>\n",
       "      <th>2</th>\n",
       "      <td>3</td>\n",
       "      <td>male</td>\n",
       "      <td>TANNuS, Master As'ad</td>\n",
       "      <td>2625</td>\n",
       "    </tr>\n",
       "    <tr>\n",
       "      <th>3</th>\n",
       "      <td>2</td>\n",
       "      <td>male</td>\n",
       "      <td>HäMäLäINEN, Master Viljo Unto Johannes</td>\n",
       "      <td>250649</td>\n",
       "    </tr>\n",
       "    <tr>\n",
       "      <th>4</th>\n",
       "      <td>3</td>\n",
       "      <td>male</td>\n",
       "      <td>PEACOCK, Master Albert Edward</td>\n",
       "      <td>3101315</td>\n",
       "    </tr>\n",
       "    <tr>\n",
       "      <th>...</th>\n",
       "      <td>...</td>\n",
       "      <td>...</td>\n",
       "      <td>...</td>\n",
       "      <td>...</td>\n",
       "    </tr>\n",
       "    <tr>\n",
       "      <th>973</th>\n",
       "      <td>B</td>\n",
       "      <td>male</td>\n",
       "      <td>CLARKE, Mr John Frederick Preston</td>\n",
       "      <td>250654</td>\n",
       "    </tr>\n",
       "    <tr>\n",
       "      <th>1011</th>\n",
       "      <td>V</td>\n",
       "      <td>female</td>\n",
       "      <td>MARSDEN, Miss Evelyn</td>\n",
       "      <td>&lt;NA&gt;</td>\n",
       "    </tr>\n",
       "    <tr>\n",
       "      <th>1032</th>\n",
       "      <td>V</td>\n",
       "      <td>female</td>\n",
       "      <td>SLOAN, Miss Mary</td>\n",
       "      <td>&lt;NA&gt;</td>\n",
       "    </tr>\n",
       "    <tr>\n",
       "      <th>1191</th>\n",
       "      <td>V</td>\n",
       "      <td>female</td>\n",
       "      <td>SLOCOMBE, Mrs Maude Louise</td>\n",
       "      <td>&lt;NA&gt;</td>\n",
       "    </tr>\n",
       "    <tr>\n",
       "      <th>1210</th>\n",
       "      <td>R</td>\n",
       "      <td>female</td>\n",
       "      <td>BOWKER, Miss Ruth Harwood</td>\n",
       "      <td>&lt;NA&gt;</td>\n",
       "    </tr>\n",
       "  </tbody>\n",
       "</table>\n",
       "<p>62 rows × 4 columns</p>\n",
       "</div>"
      ],
      "text/plain": [
       "     Class     Sex                                     Name   Ticket\n",
       "0        3  female  DEAN, Miss Elizabeth Gladys 'Millvina'      2315\n",
       "1        3    male  DANBOM, Master Gilbert Sigvard Emanuel    347080\n",
       "2        3    male                    TANNuS, Master As'ad      2625\n",
       "3        2    male  HäMäLäINEN, Master Viljo Unto Johannes    250649\n",
       "4        3    male           PEACOCK, Master Albert Edward   3101315\n",
       "...    ...     ...                                      ...      ...\n",
       "973      B    male       CLARKE, Mr John Frederick Preston    250654\n",
       "1011     V  female                    MARSDEN, Miss Evelyn      <NA>\n",
       "1032     V  female                        SLOAN, Miss Mary      <NA>\n",
       "1191     V  female              SLOCOMBE, Mrs Maude Louise      <NA>\n",
       "1210     R  female               BOWKER, Miss Ruth Harwood      <NA>\n",
       "\n",
       "[62 rows x 4 columns]"
      ]
     },
     "execution_count": 58,
     "metadata": {},
     "output_type": "execute_result"
    }
   ],
   "source": [
    "# Projektion innerhalb des Group-By Objekts: innerhalb jeder Gruppe wird projekziert\n",
    "g[[\"Class\", \"Sex\", \"Name\", \"Ticket\"]].head()"
   ]
  },
  {
   "cell_type": "markdown",
   "metadata": {},
   "source": [
    "### Aggregation auf den Gruppen bilden"
   ]
  },
  {
   "cell_type": "code",
   "execution_count": null,
   "metadata": {},
   "outputs": [],
   "source": [
    "g = t.groupby(by=[\"Class\", \"Sex\"])"
   ]
  },
  {
   "cell_type": "code",
   "execution_count": null,
   "metadata": {},
   "outputs": [
    {
     "data": {
      "text/plain": [
       "Class  Sex   \n",
       "1      female    144\n",
       "       male      180\n",
       "2      female    106\n",
       "       male      170\n",
       "3      female    216\n",
       "       male      493\n",
       "B      male        8\n",
       "D      male       66\n",
       "E      male      325\n",
       "R      female      2\n",
       "       male       67\n",
       "V      female     21\n",
       "       male      410\n",
       "dtype: int64"
      ]
     },
     "execution_count": 60,
     "metadata": {},
     "output_type": "execute_result"
    }
   ],
   "source": [
    "# Wieviel Personen je Gruppe?\n",
    "g.size()"
   ]
  },
  {
   "cell_type": "code",
   "execution_count": null,
   "metadata": {},
   "outputs": [
    {
     "data": {
      "text/plain": [
       "Class  Sex   \n",
       "1      female    143\n",
       "       male      174\n",
       "2      female     99\n",
       "       male      162\n",
       "3      female    207\n",
       "       male      473\n",
       "B      male        8\n",
       "D      male       66\n",
       "E      male      323\n",
       "R      female      2\n",
       "       male       66\n",
       "V      female     21\n",
       "       male      410\n",
       "Name: Age, dtype: int64"
      ]
     },
     "execution_count": 61,
     "metadata": {},
     "output_type": "execute_result"
    }
   ],
   "source": [
    "# Wieviel not_Werte in der Spalte Age\n",
    "g[\"Age\"].count()"
   ]
  },
  {
   "cell_type": "code",
   "execution_count": null,
   "metadata": {},
   "outputs": [
    {
     "data": {
      "text/plain": [
       "<StringArray>\n",
       "['£20 11s 6d',     '£14 8s',  '£8 10s 4d',    '£14 10s', '£13 15s 6d',\n",
       "  '£19 5s 2d',    '£18 15s',      '£9 7s',        '£29',    '£27 15s',\n",
       " ...\n",
       "     '£75 5s',  '£32 6s 5d',  '£9 13s 9d',        '£71', '£34 13s 1d',\n",
       " '£10 10s 4d',    '£42 10s',    '£12 13s',    '£33 10s',        '£35']\n",
       "Length: 282, dtype: string"
      ]
     },
     "execution_count": 62,
     "metadata": {},
     "output_type": "execute_result"
    }
   ],
   "source": [
    "t[\"Price\"].unique()"
   ]
  },
  {
   "cell_type": "code",
   "execution_count": null,
   "metadata": {},
   "outputs": [
    {
     "data": {
      "text/plain": [
       "Class  Sex   \n",
       "1      female    £151 16s£120£39 8s£211 6s 9d£57£57 19s 7d£247 ...\n",
       "       male      £151 16s£81 17s 2d£134 10s£120£262 7s 6d£47 2s...\n",
       "2      female    £27 15s£41 11s 7d£26£41 11s 7d£39£23£27 15s£33...\n",
       "       male      £14 10s£18 15s£29£39£37 1d£26£23£26£18 15s£32 ...\n",
       "3      female    £20 11s 6d£19 5s 2d£11 2s 8d£12 3s 8d£15 14s 1...\n",
       "       male      £14 8s£8 10s 4d£13 15s 6d£9 7s£20 11s 6d£46 18...\n",
       "B      male                                               00000000\n",
       "D      male          0            0      0              0     0...\n",
       "E      male                                                    ...\n",
       "R      female                                                     \n",
       "       male                                                    ...\n",
       "V      female                                                     \n",
       "       male                                                    ...\n",
       "Name: Price, dtype: string"
      ]
     },
     "execution_count": 63,
     "metadata": {},
     "output_type": "execute_result"
    }
   ],
   "source": [
    "# Umsatz je Gruppe in Pfund\n",
    "g[\"Price\"].sum() # Ohje ;) muss noch in eine Zahl gewandelt werden da Objekt"
   ]
  },
  {
   "cell_type": "code",
   "execution_count": null,
   "metadata": {},
   "outputs": [
    {
     "data": {
      "text/plain": [
       "Class  Sex   \n",
       "1      female    139\n",
       "       male       62\n",
       "2      female     94\n",
       "       male       24\n",
       "3      female    106\n",
       "       male       75\n",
       "B      male        0\n",
       "D      male       43\n",
       "E      male       72\n",
       "R      female      2\n",
       "       male        1\n",
       "V      female     18\n",
       "       male       76\n",
       "Name: Survived, dtype: Int64"
      ]
     },
     "execution_count": 64,
     "metadata": {},
     "output_type": "execute_result"
    }
   ],
   "source": [
    "# Anzahl überlebende\n",
    "g[\"Survived\"].sum()"
   ]
  },
  {
   "cell_type": "code",
   "execution_count": null,
   "metadata": {},
   "outputs": [
    {
     "data": {
      "text/plain": [
       "Class  Sex   \n",
       "1      female    36.888889\n",
       "       male      40.877778\n",
       "2      female    28.386792\n",
       "       male      30.623529\n",
       "3      female    23.149074\n",
       "       male      25.688391\n",
       "B      male         27.625\n",
       "D      male      33.954545\n",
       "E      male      30.732308\n",
       "R      female         25.0\n",
       "       male      25.328358\n",
       "V      female    36.809524\n",
       "       male      31.795122\n",
       "Name: Age_F, dtype: Float64"
      ]
     },
     "execution_count": 65,
     "metadata": {},
     "output_type": "execute_result"
    }
   ],
   "source": [
    "g[\"Age_F\"].mean()"
   ]
  },
  {
   "cell_type": "markdown",
   "metadata": {},
   "source": [
    "Wenn ich Aggregationen auf einen df anwende(ohne Gruppen zu bilden)"
   ]
  },
  {
   "cell_type": "code",
   "execution_count": null,
   "metadata": {},
   "outputs": [
    {
     "data": {
      "text/plain": [
       "(712, 30.1)"
      ]
     },
     "execution_count": 66,
     "metadata": {},
     "output_type": "execute_result"
    }
   ],
   "source": [
    "(t[\"Survived\"].sum(), t[\"Age_F\"].mean().round(1))"
   ]
  },
  {
   "cell_type": "markdown",
   "metadata": {},
   "source": [
    "Nulls in den Gruppen"
   ]
  },
  {
   "cell_type": "code",
   "execution_count": null,
   "metadata": {},
   "outputs": [
    {
     "data": {
      "text/plain": [
       "Job\n",
       "                        885\n",
       "H&W Guarantee Group       9\n",
       "Musician                  8\n",
       "Postal Clerk              5\n",
       "Servant                  43\n",
       "Titanic Officers          8\n",
       "<NA>                   1250\n",
       "dtype: int64"
      ]
     },
     "execution_count": 67,
     "metadata": {},
     "output_type": "execute_result"
    }
   ],
   "source": [
    "gn = t.groupby([\"Job\"], dropna=False).size() # Durch dropna= False bleiben die NA Werte erhalten\n",
    "gn"
   ]
  },
  {
   "cell_type": "code",
   "execution_count": null,
   "metadata": {},
   "outputs": [
    {
     "data": {
      "text/html": [
       "<div>\n",
       "<style scoped>\n",
       "    .dataframe tbody tr th:only-of-type {\n",
       "        vertical-align: middle;\n",
       "    }\n",
       "\n",
       "    .dataframe tbody tr th {\n",
       "        vertical-align: top;\n",
       "    }\n",
       "\n",
       "    .dataframe thead th {\n",
       "        text-align: right;\n",
       "    }\n",
       "</style>\n",
       "<table border=\"1\" class=\"dataframe\">\n",
       "  <thead>\n",
       "    <tr style=\"text-align: right;\">\n",
       "      <th></th>\n",
       "      <th>Name_ID</th>\n",
       "      <th>Age</th>\n",
       "      <th>Survived</th>\n",
       "      <th>Age_F</th>\n",
       "      <th>sibsp</th>\n",
       "      <th>parch</th>\n",
       "    </tr>\n",
       "  </thead>\n",
       "  <tbody>\n",
       "    <tr>\n",
       "      <th>count</th>\n",
       "      <td>2208.0</td>\n",
       "      <td>2154.0</td>\n",
       "      <td>2208.0</td>\n",
       "      <td>2206.0</td>\n",
       "      <td>1309.0</td>\n",
       "      <td>1309.0</td>\n",
       "    </tr>\n",
       "    <tr>\n",
       "      <th>mean</th>\n",
       "      <td>1104.5</td>\n",
       "      <td>30.15877</td>\n",
       "      <td>0.322464</td>\n",
       "      <td>30.146963</td>\n",
       "      <td>0.498854</td>\n",
       "      <td>0.385027</td>\n",
       "    </tr>\n",
       "    <tr>\n",
       "      <th>std</th>\n",
       "      <td>637.539018</td>\n",
       "      <td>11.958248</td>\n",
       "      <td>0.467525</td>\n",
       "      <td>12.11454</td>\n",
       "      <td>1.041658</td>\n",
       "      <td>0.86556</td>\n",
       "    </tr>\n",
       "    <tr>\n",
       "      <th>min</th>\n",
       "      <td>1.0</td>\n",
       "      <td>0.17</td>\n",
       "      <td>0.0</td>\n",
       "      <td>0.0</td>\n",
       "      <td>0.0</td>\n",
       "      <td>0.0</td>\n",
       "    </tr>\n",
       "    <tr>\n",
       "      <th>25%</th>\n",
       "      <td>552.75</td>\n",
       "      <td>22.0</td>\n",
       "      <td>0.0</td>\n",
       "      <td>22.0</td>\n",
       "      <td>0.0</td>\n",
       "      <td>0.0</td>\n",
       "    </tr>\n",
       "    <tr>\n",
       "      <th>50%</th>\n",
       "      <td>1104.5</td>\n",
       "      <td>29.0</td>\n",
       "      <td>0.0</td>\n",
       "      <td>29.0</td>\n",
       "      <td>0.0</td>\n",
       "      <td>0.0</td>\n",
       "    </tr>\n",
       "    <tr>\n",
       "      <th>75%</th>\n",
       "      <td>1656.25</td>\n",
       "      <td>37.0</td>\n",
       "      <td>1.0</td>\n",
       "      <td>38.0</td>\n",
       "      <td>1.0</td>\n",
       "      <td>0.0</td>\n",
       "    </tr>\n",
       "    <tr>\n",
       "      <th>max</th>\n",
       "      <td>2208.0</td>\n",
       "      <td>71.0</td>\n",
       "      <td>1.0</td>\n",
       "      <td>74.0</td>\n",
       "      <td>8.0</td>\n",
       "      <td>9.0</td>\n",
       "    </tr>\n",
       "  </tbody>\n",
       "</table>\n",
       "</div>"
      ],
      "text/plain": [
       "          Name_ID        Age  Survived      Age_F     sibsp     parch\n",
       "count      2208.0     2154.0    2208.0     2206.0    1309.0    1309.0\n",
       "mean       1104.5   30.15877  0.322464  30.146963  0.498854  0.385027\n",
       "std    637.539018  11.958248  0.467525   12.11454  1.041658   0.86556\n",
       "min           1.0       0.17       0.0        0.0       0.0       0.0\n",
       "25%        552.75       22.0       0.0       22.0       0.0       0.0\n",
       "50%        1104.5       29.0       0.0       29.0       0.0       0.0\n",
       "75%       1656.25       37.0       1.0       38.0       1.0       0.0\n",
       "max        2208.0       71.0       1.0       74.0       8.0       9.0"
      ]
     },
     "execution_count": 68,
     "metadata": {},
     "output_type": "execute_result"
    }
   ],
   "source": [
    "t.describe()"
   ]
  },
  {
   "cell_type": "code",
   "execution_count": null,
   "metadata": {},
   "outputs": [
    {
     "ename": "AttributeError",
     "evalue": "'DataFrame' object has no attribute '_constructor_from_mgr'",
     "output_type": "error",
     "traceback": [
      "\u001b[1;31mAttributeError\u001b[0m\u001b[1;31m:\u001b[0m 'DataFrame' object has no attribute '_constructor_from_mgr'\n"
     ]
    }
   ],
   "source": [
    "g.describe()"
   ]
  },
  {
   "cell_type": "markdown",
   "metadata": {},
   "source": [
    "Finde Zeilen (innerhalb jeder Gruppe), die Min/Max-Wert für eine Spalte annehmen."
   ]
  },
  {
   "cell_type": "code",
   "execution_count": null,
   "metadata": {},
   "outputs": [
    {
     "data": {
      "text/plain": [
       "Class  Sex   \n",
       "1      female     21\n",
       "       male       10\n",
       "2      female      9\n",
       "       male        3\n",
       "3      female      0\n",
       "       male        1\n",
       "B      male      328\n",
       "D      male      249\n",
       "E      male      216\n",
       "R      female    361\n",
       "       male      188\n",
       "V      female    558\n",
       "       male      121\n",
       "Name: Age_F, dtype: int64"
      ]
     },
     "execution_count": 41,
     "metadata": {},
     "output_type": "execute_result"
    }
   ],
   "source": [
    "row = g[\"Age_F\"].idxmin()\n",
    "row\n",
    "# t.loc[row]"
   ]
  },
  {
   "cell_type": "code",
   "execution_count": null,
   "metadata": {},
   "outputs": [],
   "source": [
    "def gefalter(df):\n",
    "    gesalter = df[\"Age_F\"].sum()\n",
    "    nof_kids = df[\"parch\"].count()\n",
    "    return gesalter/nof_kids"
   ]
  },
  {
   "cell_type": "code",
   "execution_count": null,
   "metadata": {},
   "outputs": [
    {
     "data": {
      "text/plain": [
       "50.80534759358289"
      ]
     },
     "execution_count": 43,
     "metadata": {},
     "output_type": "execute_result"
    }
   ],
   "source": [
    "gefalter(t)"
   ]
  },
  {
   "cell_type": "code",
   "execution_count": null,
   "metadata": {},
   "outputs": [
    {
     "name": "stderr",
     "output_type": "stream",
     "text": [
      "C:\\Users\\Student\\AppData\\Local\\Temp\\ipykernel_24804\\2795405722.py:4: RuntimeWarning: divide by zero encountered in scalar divide\n",
      "  return gesalter/nof_kids\n"
     ]
    },
    {
     "data": {
      "text/plain": [
       "Class  Sex   \n",
       "1      female    36.888889\n",
       "       male      40.877778\n",
       "2      female    28.386792\n",
       "       male      30.623529\n",
       "3      female    23.149074\n",
       "       male      25.584178\n",
       "B      male            inf\n",
       "D      male            inf\n",
       "E      male            inf\n",
       "R      female          inf\n",
       "       male            inf\n",
       "V      female          inf\n",
       "       male            inf\n",
       "dtype: float64"
      ]
     },
     "execution_count": 44,
     "metadata": {},
     "output_type": "execute_result"
    }
   ],
   "source": [
    "g.apply(gefalter)"
   ]
  },
  {
   "attachments": {},
   "cell_type": "markdown",
   "metadata": {},
   "source": [
    "So nochmal `apply()` versuchen\n",
    "\n",
    "apply auf jede Gruppe (EInzelne df einer gesamten Gruppe)"
   ]
  },
  {
   "cell_type": "code",
   "execution_count": 85,
   "metadata": {},
   "outputs": [
    {
     "data": {
      "text/plain": [
       "Class  Sex   \n",
       "1      female     2.0\n",
       "       male      0.92\n",
       "2      female    0.83\n",
       "       male      0.58\n",
       "3      female    0.17\n",
       "       male      0.33\n",
       "B      male      20.0\n",
       "D      male      18.0\n",
       "E      male      18.0\n",
       "R      female    20.0\n",
       "       male      17.0\n",
       "V      female    22.0\n",
       "       male      14.0\n",
       "Name: Age, dtype: Float64"
      ]
     },
     "execution_count": 85,
     "metadata": {},
     "output_type": "execute_result"
    }
   ],
   "source": [
    "g[\"Age\"].min()"
   ]
  },
  {
   "cell_type": "code",
   "execution_count": 88,
   "metadata": {},
   "outputs": [
    {
     "data": {
      "text/plain": [
       "Class  Sex   \n",
       "1      female    15.00\n",
       "       male       4.92\n",
       "2      female     1.83\n",
       "       male       1.33\n",
       "3      female     0.92\n",
       "       male       0.75\n",
       "B      male      41.00\n",
       "D      male      41.00\n",
       "E      male      36.00\n",
       "R      female    51.00\n",
       "       male      34.00\n",
       "V      female    46.00\n",
       "       male      29.00\n",
       "Name: Age, dtype: float64"
      ]
     },
     "execution_count": 88,
     "metadata": {},
     "output_type": "execute_result"
    }
   ],
   "source": [
    "def f_agg(s):\n",
    "    return s.iloc[0] + s.iloc[1] # Alter der ersten beiden Personen der Gruppe addieren\n",
    "g[\"Age\"].apply(f_agg)\n"
   ]
  },
  {
   "cell_type": "code",
   "execution_count": 90,
   "metadata": {},
   "outputs": [
    {
     "data": {
      "text/html": [
       "<div>\n",
       "<style scoped>\n",
       "    .dataframe tbody tr th:only-of-type {\n",
       "        vertical-align: middle;\n",
       "    }\n",
       "\n",
       "    .dataframe tbody tr th {\n",
       "        vertical-align: top;\n",
       "    }\n",
       "\n",
       "    .dataframe thead th {\n",
       "        text-align: right;\n",
       "    }\n",
       "</style>\n",
       "<table border=\"1\" class=\"dataframe\">\n",
       "  <thead>\n",
       "    <tr style=\"text-align: right;\">\n",
       "      <th></th>\n",
       "      <th>Class</th>\n",
       "      <th>Sex</th>\n",
       "      <th>Age</th>\n",
       "    </tr>\n",
       "  </thead>\n",
       "  <tbody>\n",
       "    <tr>\n",
       "      <th>2204</th>\n",
       "      <td>3</td>\n",
       "      <td>male</td>\n",
       "      <td>&lt;NA&gt;</td>\n",
       "    </tr>\n",
       "    <tr>\n",
       "      <th>2170</th>\n",
       "      <td>3</td>\n",
       "      <td>male</td>\n",
       "      <td>&lt;NA&gt;</td>\n",
       "    </tr>\n",
       "  </tbody>\n",
       "</table>\n",
       "</div>"
      ],
      "text/plain": [
       "     Class   Sex   Age\n",
       "2204     3  male  <NA>\n",
       "2170     3  male  <NA>"
      ]
     },
     "execution_count": 90,
     "metadata": {},
     "output_type": "execute_result"
    }
   ],
   "source": [
    "# gibt es NULL bei Age?\n",
    "t.loc[t[\"Age\"].isna()][[\"Class\", \"Sex\", \"Age\"]].sample(2)"
   ]
  },
  {
   "cell_type": "code",
   "execution_count": 93,
   "metadata": {},
   "outputs": [
    {
     "data": {
      "text/plain": [
       "Class  Sex         \n",
       "1      female  21       2.0\n",
       "               109     13.0\n",
       "               144     16.0\n",
       "               145     16.0\n",
       "               168     17.0\n",
       "                       ... \n",
       "V      male    2071    55.0\n",
       "               2076    55.0\n",
       "               2077    55.0\n",
       "               2100    58.0\n",
       "               2101    59.0\n",
       "Name: Age, Length: 2208, dtype: Float64"
      ]
     },
     "execution_count": 93,
     "metadata": {},
     "output_type": "execute_result"
    }
   ],
   "source": [
    "def fill_mean(s):\n",
    "   return s.fillna(s.mean())\n",
    "\n",
    "g[\"Age\"].apply(fill_mean)"
   ]
  },
  {
   "cell_type": "markdown",
   "metadata": {},
   "source": [
    "## Transform"
   ]
  },
  {
   "cell_type": "code",
   "execution_count": 94,
   "metadata": {},
   "outputs": [
    {
     "data": {
      "text/html": [
       "<div>\n",
       "<style scoped>\n",
       "    .dataframe tbody tr th:only-of-type {\n",
       "        vertical-align: middle;\n",
       "    }\n",
       "\n",
       "    .dataframe tbody tr th {\n",
       "        vertical-align: top;\n",
       "    }\n",
       "\n",
       "    .dataframe thead th {\n",
       "        text-align: right;\n",
       "    }\n",
       "</style>\n",
       "<table border=\"1\" class=\"dataframe\">\n",
       "  <thead>\n",
       "    <tr style=\"text-align: right;\">\n",
       "      <th></th>\n",
       "      <th>Name_ID</th>\n",
       "      <th>Name</th>\n",
       "      <th>Sex</th>\n",
       "      <th>Age</th>\n",
       "      <th>Class</th>\n",
       "      <th>Ticket</th>\n",
       "      <th>Joined</th>\n",
       "      <th>Occupation</th>\n",
       "      <th>Boat [Body]</th>\n",
       "      <th>Price</th>\n",
       "      <th>...</th>\n",
       "      <th>Title</th>\n",
       "      <th>First</th>\n",
       "      <th>DoB</th>\n",
       "      <th>Year_Birth</th>\n",
       "      <th>Date_Death</th>\n",
       "      <th>DoB_Clean</th>\n",
       "      <th>Age_F_Code</th>\n",
       "      <th>Age_F</th>\n",
       "      <th>sibsp</th>\n",
       "      <th>parch</th>\n",
       "    </tr>\n",
       "  </thead>\n",
       "  <tbody>\n",
       "    <tr>\n",
       "      <th>519</th>\n",
       "      <td>1076</td>\n",
       "      <td>KELLY, Miss Mary</td>\n",
       "      <td>female</td>\n",
       "      <td>22.0</td>\n",
       "      <td>3</td>\n",
       "      <td>14312</td>\n",
       "      <td>Queenstown</td>\n",
       "      <td>&lt;NA&gt;</td>\n",
       "      <td>D</td>\n",
       "      <td>£7 15s</td>\n",
       "      <td>...</td>\n",
       "      <td>Miss</td>\n",
       "      <td>Mary</td>\n",
       "      <td>1890-02-19</td>\n",
       "      <td>&lt;NA&gt;</td>\n",
       "      <td>1950-12-27 00:00:00</td>\n",
       "      <td>2/19/1890</td>\n",
       "      <td>C</td>\n",
       "      <td>22.0</td>\n",
       "      <td>0</td>\n",
       "      <td>0</td>\n",
       "    </tr>\n",
       "  </tbody>\n",
       "</table>\n",
       "<p>1 rows × 24 columns</p>\n",
       "</div>"
      ],
      "text/plain": [
       "     Name_ID               Name     Sex   Age Class Ticket      Joined  \\\n",
       "519     1076  KELLY, Miss Mary   female  22.0     3  14312  Queenstown   \n",
       "\n",
       "    Occupation Boat [Body]   Price  ... Title  First         DoB Year_Birth  \\\n",
       "519       <NA>          D   £7 15s  ...  Miss   Mary  1890-02-19       <NA>   \n",
       "\n",
       "              Date_Death  DoB_Clean Age_F_Code Age_F sibsp parch  \n",
       "519  1950-12-27 00:00:00  2/19/1890          C  22.0     0     0  \n",
       "\n",
       "[1 rows x 24 columns]"
      ]
     },
     "execution_count": 94,
     "metadata": {},
     "output_type": "execute_result"
    }
   ],
   "source": [
    "t.sample(1)"
   ]
  },
  {
   "cell_type": "code",
   "execution_count": 98,
   "metadata": {},
   "outputs": [],
   "source": [
    "# t.groupby(by=\"Class\")[\"Survived\"].apply('count') #man bekommt die Gruppen\n",
    "t[\"survived_per_class\"] = t.groupby(by=\"Class\")[\"Survived\"].transform('count') # man bekommt "
   ]
  },
  {
   "cell_type": "code",
   "execution_count": 100,
   "metadata": {},
   "outputs": [
    {
     "data": {
      "text/html": [
       "<div>\n",
       "<style scoped>\n",
       "    .dataframe tbody tr th:only-of-type {\n",
       "        vertical-align: middle;\n",
       "    }\n",
       "\n",
       "    .dataframe tbody tr th {\n",
       "        vertical-align: top;\n",
       "    }\n",
       "\n",
       "    .dataframe thead th {\n",
       "        text-align: right;\n",
       "    }\n",
       "</style>\n",
       "<table border=\"1\" class=\"dataframe\">\n",
       "  <thead>\n",
       "    <tr style=\"text-align: right;\">\n",
       "      <th></th>\n",
       "      <th>Name</th>\n",
       "      <th>Class</th>\n",
       "      <th>Survived</th>\n",
       "      <th>survived_per_class</th>\n",
       "    </tr>\n",
       "  </thead>\n",
       "  <tbody>\n",
       "    <tr>\n",
       "      <th>15</th>\n",
       "      <td>KLASéN, Miss Gertrud Emilia</td>\n",
       "      <td>3</td>\n",
       "      <td>0</td>\n",
       "      <td>709</td>\n",
       "    </tr>\n",
       "    <tr>\n",
       "      <th>2049</th>\n",
       "      <td>PEUCHEN, Major Arthur Godfrey</td>\n",
       "      <td>1</td>\n",
       "      <td>1</td>\n",
       "      <td>324</td>\n",
       "    </tr>\n",
       "    <tr>\n",
       "      <th>1601</th>\n",
       "      <td>LOVELL, Mr John</td>\n",
       "      <td>V</td>\n",
       "      <td>0</td>\n",
       "      <td>431</td>\n",
       "    </tr>\n",
       "  </tbody>\n",
       "</table>\n",
       "</div>"
      ],
      "text/plain": [
       "                                Name Class  Survived  survived_per_class\n",
       "15      KLASéN, Miss Gertrud Emilia      3         0                 709\n",
       "2049  PEUCHEN, Major Arthur Godfrey      1         1                 324\n",
       "1601                LOVELL, Mr John      V         0                 431"
      ]
     },
     "execution_count": 100,
     "metadata": {},
     "output_type": "execute_result"
    }
   ],
   "source": [
    "t[[\"Name\", \"Class\", \"Survived\", \"survived_per_class\"]].sample(3)"
   ]
  },
  {
   "cell_type": "code",
   "execution_count": null,
   "metadata": {},
   "outputs": [],
   "source": []
  }
 ],
 "metadata": {
  "kernelspec": {
   "display_name": "base",
   "language": "python",
   "name": "python3"
  },
  "language_info": {
   "codemirror_mode": {
    "name": "ipython",
    "version": 3
   },
   "file_extension": ".py",
   "mimetype": "text/x-python",
   "name": "python",
   "nbconvert_exporter": "python",
   "pygments_lexer": "ipython3",
   "version": "3.11.5"
  },
  "orig_nbformat": 4
 },
 "nbformat": 4,
 "nbformat_minor": 2
}
