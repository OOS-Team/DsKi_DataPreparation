{
 "cells": [
  {
   "cell_type": "code",
   "execution_count": 9,
   "metadata": {},
   "outputs": [
    {
     "name": "stdout",
     "output_type": "stream",
     "text": [
      "Exception reporting mode: Minimal\n"
     ]
    }
   ],
   "source": [
    "import pandas as pd\n",
    "import os\n",
    "%xmode minimal\n",
    "pd.set_option(\"mode.copy_on_write\", True)"
   ]
  },
  {
   "cell_type": "markdown",
   "metadata": {},
   "source": [
    "# Data Prep Titanicm"
   ]
  },
  {
   "cell_type": "markdown",
   "metadata": {},
   "source": [
    "Daten nur erstmalig von url lesen. Wenn die Daten bereits lokal sind."
   ]
  },
  {
   "cell_type": "code",
   "execution_count": 10,
   "metadata": {},
   "outputs": [
    {
     "data": {
      "text/html": [
       "<div>\n",
       "<style scoped>\n",
       "    .dataframe tbody tr th:only-of-type {\n",
       "        vertical-align: middle;\n",
       "    }\n",
       "\n",
       "    .dataframe tbody tr th {\n",
       "        vertical-align: top;\n",
       "    }\n",
       "\n",
       "    .dataframe thead th {\n",
       "        text-align: right;\n",
       "    }\n",
       "</style>\n",
       "<table border=\"1\" class=\"dataframe\">\n",
       "  <thead>\n",
       "    <tr style=\"text-align: right;\">\n",
       "      <th></th>\n",
       "      <th>Name_ID</th>\n",
       "      <th>Name</th>\n",
       "      <th>Female</th>\n",
       "      <th>Male</th>\n",
       "      <th>Sex</th>\n",
       "      <th>Age</th>\n",
       "      <th>Class/Dept</th>\n",
       "      <th>Class</th>\n",
       "      <th>Ticket</th>\n",
       "      <th>Joined</th>\n",
       "      <th>...</th>\n",
       "      <th>Title</th>\n",
       "      <th>First</th>\n",
       "      <th>DoB</th>\n",
       "      <th>Year_Birth</th>\n",
       "      <th>Date_Death</th>\n",
       "      <th>DoB_Clean</th>\n",
       "      <th>Age_F_Code</th>\n",
       "      <th>Age_F</th>\n",
       "      <th>sibsp</th>\n",
       "      <th>parch</th>\n",
       "    </tr>\n",
       "  </thead>\n",
       "  <tbody>\n",
       "    <tr>\n",
       "      <th>290</th>\n",
       "      <td>1243</td>\n",
       "      <td>MAIONI, Miss Roberta Elizabeth Mary</td>\n",
       "      <td>1</td>\n",
       "      <td>0</td>\n",
       "      <td>female</td>\n",
       "      <td>19.0</td>\n",
       "      <td>1st Class Passenger</td>\n",
       "      <td>1</td>\n",
       "      <td>110152</td>\n",
       "      <td>Southampton</td>\n",
       "      <td>...</td>\n",
       "      <td>Miss</td>\n",
       "      <td>Roberta Elizabeth Mary</td>\n",
       "      <td>&lt;NA&gt;</td>\n",
       "      <td>1892</td>\n",
       "      <td>1963-01-17 00:00:00</td>\n",
       "      <td>6/30/1892</td>\n",
       "      <td>M</td>\n",
       "      <td>19.0</td>\n",
       "      <td>0</td>\n",
       "      <td>0</td>\n",
       "    </tr>\n",
       "    <tr>\n",
       "      <th>44</th>\n",
       "      <td>160</td>\n",
       "      <td>BECKER, Miss Marion Louise</td>\n",
       "      <td>1</td>\n",
       "      <td>0</td>\n",
       "      <td>female</td>\n",
       "      <td>4.0</td>\n",
       "      <td>2nd Class Passenger</td>\n",
       "      <td>2</td>\n",
       "      <td>230136</td>\n",
       "      <td>Southampton</td>\n",
       "      <td>...</td>\n",
       "      <td>Miss</td>\n",
       "      <td>Marion Louise</td>\n",
       "      <td>1907-12-28 00:00:00</td>\n",
       "      <td>&lt;NA&gt;</td>\n",
       "      <td>1944-02-15 00:00:00</td>\n",
       "      <td>1907-12-28 00:00:00</td>\n",
       "      <td>C</td>\n",
       "      <td>4.0</td>\n",
       "      <td>2</td>\n",
       "      <td>1</td>\n",
       "    </tr>\n",
       "  </tbody>\n",
       "</table>\n",
       "<p>2 rows × 27 columns</p>\n",
       "</div>"
      ],
      "text/plain": [
       "     Name_ID                                  Name  Female  Male     Sex  \\\n",
       "290     1243  MAIONI, Miss Roberta Elizabeth Mary        1     0  female   \n",
       "44       160           BECKER, Miss Marion Louise        1     0  female   \n",
       "\n",
       "      Age           Class/Dept Class  Ticket       Joined  ... Title  \\\n",
       "290  19.0  1st Class Passenger     1  110152  Southampton  ...  Miss   \n",
       "44    4.0  2nd Class Passenger     2  230136  Southampton  ...  Miss   \n",
       "\n",
       "                      First                  DoB Year_Birth  \\\n",
       "290  Roberta Elizabeth Mary                 <NA>       1892   \n",
       "44            Marion Louise  1907-12-28 00:00:00       <NA>   \n",
       "\n",
       "              Date_Death            DoB_Clean Age_F_Code Age_F sibsp parch  \n",
       "290  1963-01-17 00:00:00            6/30/1892          M  19.0     0     0  \n",
       "44   1944-02-15 00:00:00  1907-12-28 00:00:00          C   4.0     2     1  \n",
       "\n",
       "[2 rows x 27 columns]"
      ]
     },
     "execution_count": 10,
     "metadata": {},
     "output_type": "execute_result"
    }
   ],
   "source": [
    "url = 'https://hbiostat.org/data/repo/titanic5.xlsx'\n",
    "file = 'data/titanic_original.pickle' # Damit es local gespeichert wird\n",
    "\n",
    "if os.path.exists(file):\n",
    "    t = pd.read_pickle(file)\n",
    "else:\n",
    "    t = pd.read_excel(url, sheet_name='Titanic5_all', dtype_backend='numpy_nullable')\n",
    "    t.to_pickle(file)\n",
    "t.sample(2)"
   ]
  },
  {
   "cell_type": "markdown",
   "metadata": {},
   "source": [
    "Redundante Spalten löschen"
   ]
  },
  {
   "cell_type": "code",
   "execution_count": 11,
   "metadata": {},
   "outputs": [],
   "source": [
    "t2 = t.drop(columns=[\"Female\", \"Male\", \"Class/Dept\"])"
   ]
  },
  {
   "cell_type": "markdown",
   "metadata": {},
   "source": [
    "Vorbereitete Datei zur weiterbearbeitung"
   ]
  },
  {
   "cell_type": "code",
   "execution_count": 12,
   "metadata": {},
   "outputs": [],
   "source": [
    "file2 = 'data/titanic_prepared.pickle' # Damit es local gespeichert wird\n",
    "t2.to_pickle(file2)"
   ]
  },
  {
   "cell_type": "code",
   "execution_count": 13,
   "metadata": {},
   "outputs": [
    {
     "data": {
      "text/plain": [
       "<StringArray>\n",
       "['3', '2', '1', 'V', 'R', 'E', 'D', 'B']\n",
       "Length: 8, dtype: string"
      ]
     },
     "execution_count": 13,
     "metadata": {},
     "output_type": "execute_result"
    }
   ],
   "source": [
    "t2[\"Class\"].unique()"
   ]
  },
  {
   "cell_type": "code",
   "execution_count": null,
   "metadata": {},
   "outputs": [],
   "source": []
  }
 ],
 "metadata": {
  "kernelspec": {
   "display_name": "base",
   "language": "python",
   "name": "python3"
  },
  "language_info": {
   "codemirror_mode": {
    "name": "ipython",
    "version": 3
   },
   "file_extension": ".py",
   "mimetype": "text/x-python",
   "name": "python",
   "nbconvert_exporter": "python",
   "pygments_lexer": "ipython3",
   "version": "3.11.5"
  },
  "orig_nbformat": 4
 },
 "nbformat": 4,
 "nbformat_minor": 2
}
