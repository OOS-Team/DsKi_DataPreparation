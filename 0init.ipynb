{
 "cells": [
  {
   "attachments": {},
   "cell_type": "markdown",
   "metadata": {},
   "source": [
    "# Initial"
   ]
  },
  {
   "cell_type": "code",
   "execution_count": 3,
   "metadata": {},
   "outputs": [
    {
     "name": "stdout",
     "output_type": "stream",
     "text": [
      "Hello Pandas 🐼!\n"
     ]
    }
   ],
   "source": [
    "print('Hello Pandas 🐼!')\n"
   ]
  },
  {
   "attachments": {},
   "cell_type": "markdown",
   "metadata": {},
   "source": [
    "git config --global user.email \"noah.kornter@hochschule-stralsund.de\""
   ]
  },
  {
   "attachments": {},
   "cell_type": "markdown",
   "metadata": {},
   "source": [
    "git config --global user.name \"Noah\""
   ]
  },
  {
   "attachments": {},
   "cell_type": "markdown",
   "metadata": {},
   "source": [
    "# Start der Aufgabe 1"
   ]
  },
  {
   "attachments": {},
   "cell_type": "markdown",
   "metadata": {},
   "source": [
    "## Aufgabe a"
   ]
  },
  {
   "cell_type": "code",
   "execution_count": 7,
   "metadata": {},
   "outputs": [
    {
     "name": "stdout",
     "output_type": "stream",
     "text": [
      "Newline\\n, Backslash\"\\\"\n"
     ]
    }
   ],
   "source": [
    "print(r'Newline\\n, Backslash\"\\\"')\n"
   ]
  },
  {
   "attachments": {},
   "cell_type": "markdown",
   "metadata": {},
   "source": [
    "## Aufgabe b"
   ]
  },
  {
   "cell_type": "code",
   "execution_count": 18,
   "metadata": {},
   "outputs": [],
   "source": [
    "year_temp_relation = {\n",
    "    \"years\": [2000, 2001, 2002, 2003, 2004, 2005, 2006, 2007, 2008, 2009, 2010],\n",
    "    \"temps\": [12, 13, 20, 19, 16, 15, 15.2, 16, 30, 20, 10]\n",
    "}\n"
   ]
  },
  {
   "attachments": {},
   "cell_type": "markdown",
   "metadata": {},
   "source": [
    "## Aufgabe c"
   ]
  },
  {
   "cell_type": "code",
   "execution_count": 20,
   "metadata": {},
   "outputs": [
    {
     "name": "stdout",
     "output_type": "stream",
     "text": [
      "The temperature in 2005 was: 15 degrees\n"
     ]
    }
   ],
   "source": [
    "year_index = year_temp_relation[\"years\"].index(2005)\n",
    "temp_2005 = year_temp_relation[\"temps\"][year_index]\n",
    "print(f\"The temperature in 2005 was: {temp_2005} degrees\")\n"
   ]
  },
  {
   "attachments": {},
   "cell_type": "markdown",
   "metadata": {},
   "source": [
    "## Aufgabe d"
   ]
  },
  {
   "cell_type": "code",
   "execution_count": 21,
   "metadata": {},
   "outputs": [],
   "source": [
    "def get_temperature(year, relation):\n",
    "    if year in relation[\"years\"]:\n",
    "        year_index = relation[\"years\"].index(year)\n",
    "        return relation[\"temps\"][year_index]\n",
    "    else:\n",
    "        return None\n",
    "\n",
    "# Testing the function with an assert statement\n",
    "assert get_temperature(2005, year_temp_relation) == 15\n"
   ]
  },
  {
   "attachments": {},
   "cell_type": "markdown",
   "metadata": {},
   "source": [
    "## Aufgabe d"
   ]
  },
  {
   "cell_type": "code",
   "execution_count": 23,
   "metadata": {},
   "outputs": [
    {
     "data": {
      "text/plain": [
       "15"
      ]
     },
     "execution_count": 23,
     "metadata": {},
     "output_type": "execute_result"
    }
   ],
   "source": [
    "get_temperature(2005, year_temp_relation)  "
   ]
  },
  {
   "attachments": {},
   "cell_type": "markdown",
   "metadata": {},
   "source": [
    "## Aufgabe e"
   ]
  },
  {
   "cell_type": "code",
   "execution_count": 24,
   "metadata": {},
   "outputs": [
    {
     "name": "stdout",
     "output_type": "stream",
     "text": [
      "Im Jahr 2005 war es 15 °C warm.\n",
      "Im Jahr 2006 war es 15.2 °C warm.\n",
      "Im Jahr 2007 war es 16 °C warm.\n",
      "Im Jahr 2008 war es 30 °C warm.\n",
      "Im Jahr 2009 war es 20 °C warm.\n",
      "Im Jahr 2010 war es 10 °C warm.\n"
     ]
    }
   ],
   "source": [
    "for year in range(2005, 2011):  # 2011 is exclusive\n",
    "    temperature = get_temperature(year, year_temp_relation)\n",
    "    print(f\"Im Jahr {year} war es {temperature} °C warm.\")\n"
   ]
  },
  {
   "attachments": {},
   "cell_type": "markdown",
   "metadata": {},
   "source": [
    "## Aufgabe f"
   ]
  },
  {
   "cell_type": "code",
   "execution_count": 25,
   "metadata": {},
   "outputs": [
    {
     "name": "stdout",
     "output_type": "stream",
     "text": [
      "The average temperature over all years is: 16.93 °C\n"
     ]
    }
   ],
   "source": [
    "# Calculating the average temperature over all years\n",
    "average_temp = sum(year_temp_relation[\"temps\"]) / len(year_temp_relation[\"temps\"])\n",
    "print(f\"The average temperature over all years is: {average_temp:.2f} °C\")\n"
   ]
  },
  {
   "cell_type": "markdown",
   "metadata": {},
   "source": [
    "## Aufgabe g"
   ]
  },
  {
   "attachments": {},
   "cell_type": "markdown",
   "metadata": {},
   "source": [
    "Der Datentyp der Spalte „temp“ (Temperaturen) in der gegebenen Relation ist float, da es Dezimalwerte (z.B. 15.2) enthält."
   ]
  },
  {
   "cell_type": "markdown",
   "metadata": {},
   "source": []
  },
  {
   "cell_type": "markdown",
   "metadata": {},
   "source": [
    "## HA Aufgabe 2 und 4"
   ]
  },
  {
   "cell_type": "code",
   "execution_count": null,
   "metadata": {},
   "outputs": [],
   "source": []
  }
 ],
 "metadata": {
  "kernelspec": {
   "display_name": "base",
   "language": "python",
   "name": "python3"
  },
  "language_info": {
   "codemirror_mode": {
    "name": "ipython",
    "version": 3
   },
   "file_extension": ".py",
   "mimetype": "text/x-python",
   "name": "python",
   "nbconvert_exporter": "python",
   "pygments_lexer": "ipython3",
   "version": "3.11.5"
  },
  "orig_nbformat": 4
 },
 "nbformat": 4,
 "nbformat_minor": 2
}
