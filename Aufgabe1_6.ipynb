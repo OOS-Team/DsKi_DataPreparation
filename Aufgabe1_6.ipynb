{
 "cells": [
  {
   "cell_type": "markdown",
   "metadata": {},
   "source": [
    "# Aufgabe 6 "
   ]
  },
  {
   "cell_type": "markdown",
   "metadata": {},
   "source": [
    "Alle Aufgaben"
   ]
  },
  {
   "cell_type": "code",
   "execution_count": 35,
   "metadata": {},
   "outputs": [
    {
     "name": "stdout",
     "output_type": "stream",
     "text": [
      "Exception reporting mode: Minimal\n"
     ]
    }
   ],
   "source": [
    "import pandas as pd\n",
    "%xmode minimal\n",
    "pd.set_option(\"mode.copy_on_write\", True)"
   ]
  },
  {
   "cell_type": "code",
   "execution_count": 36,
   "metadata": {},
   "outputs": [],
   "source": [
    "t = pd.read_csv('https://raw.githubusercontent.com/pandas-dev/pandas/master/doc/data/titanic.csv')#,dtype_backend='numpy_nullable')"
   ]
  },
  {
   "cell_type": "code",
   "execution_count": 37,
   "metadata": {},
   "outputs": [
    {
     "data": {
      "text/plain": [
       "(891, 12)"
      ]
     },
     "execution_count": 37,
     "metadata": {},
     "output_type": "execute_result"
    }
   ],
   "source": [
    "t.shape"
   ]
  },
  {
   "cell_type": "code",
   "execution_count": 38,
   "metadata": {},
   "outputs": [
    {
     "data": {
      "text/html": [
       "<div>\n",
       "<style scoped>\n",
       "    .dataframe tbody tr th:only-of-type {\n",
       "        vertical-align: middle;\n",
       "    }\n",
       "\n",
       "    .dataframe tbody tr th {\n",
       "        vertical-align: top;\n",
       "    }\n",
       "\n",
       "    .dataframe thead th {\n",
       "        text-align: right;\n",
       "    }\n",
       "</style>\n",
       "<table border=\"1\" class=\"dataframe\">\n",
       "  <thead>\n",
       "    <tr style=\"text-align: right;\">\n",
       "      <th></th>\n",
       "      <th>PassengerId</th>\n",
       "      <th>Survived</th>\n",
       "      <th>Pclass</th>\n",
       "      <th>Name</th>\n",
       "      <th>Sex</th>\n",
       "      <th>Age</th>\n",
       "      <th>SibSp</th>\n",
       "      <th>Parch</th>\n",
       "      <th>Ticket</th>\n",
       "      <th>Fare</th>\n",
       "      <th>Cabin</th>\n",
       "      <th>Embarked</th>\n",
       "    </tr>\n",
       "  </thead>\n",
       "  <tbody>\n",
       "    <tr>\n",
       "      <th>0</th>\n",
       "      <td>1</td>\n",
       "      <td>0</td>\n",
       "      <td>3</td>\n",
       "      <td>Braund, Mr. Owen Harris</td>\n",
       "      <td>male</td>\n",
       "      <td>22.0</td>\n",
       "      <td>1</td>\n",
       "      <td>0</td>\n",
       "      <td>A/5 21171</td>\n",
       "      <td>7.2500</td>\n",
       "      <td>NaN</td>\n",
       "      <td>S</td>\n",
       "    </tr>\n",
       "    <tr>\n",
       "      <th>1</th>\n",
       "      <td>2</td>\n",
       "      <td>1</td>\n",
       "      <td>1</td>\n",
       "      <td>Cumings, Mrs. John Bradley (Florence Briggs Th...</td>\n",
       "      <td>female</td>\n",
       "      <td>38.0</td>\n",
       "      <td>1</td>\n",
       "      <td>0</td>\n",
       "      <td>PC 17599</td>\n",
       "      <td>71.2833</td>\n",
       "      <td>C85</td>\n",
       "      <td>C</td>\n",
       "    </tr>\n",
       "    <tr>\n",
       "      <th>2</th>\n",
       "      <td>3</td>\n",
       "      <td>1</td>\n",
       "      <td>3</td>\n",
       "      <td>Heikkinen, Miss. Laina</td>\n",
       "      <td>female</td>\n",
       "      <td>26.0</td>\n",
       "      <td>0</td>\n",
       "      <td>0</td>\n",
       "      <td>STON/O2. 3101282</td>\n",
       "      <td>7.9250</td>\n",
       "      <td>NaN</td>\n",
       "      <td>S</td>\n",
       "    </tr>\n",
       "  </tbody>\n",
       "</table>\n",
       "</div>"
      ],
      "text/plain": [
       "   PassengerId  Survived  Pclass  \\\n",
       "0            1         0       3   \n",
       "1            2         1       1   \n",
       "2            3         1       3   \n",
       "\n",
       "                                                Name     Sex   Age  SibSp  \\\n",
       "0                            Braund, Mr. Owen Harris    male  22.0      1   \n",
       "1  Cumings, Mrs. John Bradley (Florence Briggs Th...  female  38.0      1   \n",
       "2                             Heikkinen, Miss. Laina  female  26.0      0   \n",
       "\n",
       "   Parch            Ticket     Fare Cabin Embarked  \n",
       "0      0         A/5 21171   7.2500   NaN        S  \n",
       "1      0          PC 17599  71.2833   C85        C  \n",
       "2      0  STON/O2. 3101282   7.9250   NaN        S  "
      ]
     },
     "execution_count": 38,
     "metadata": {},
     "output_type": "execute_result"
    }
   ],
   "source": [
    "t.head(3)"
   ]
  },
  {
   "attachments": {},
   "cell_type": "markdown",
   "metadata": {},
   "source": [
    "## 6.1 Einfache Gruppierung"
   ]
  },
  {
   "attachments": {},
   "cell_type": "markdown",
   "metadata": {},
   "source": [
    "a)Wie viele Passagiere haben keine Information zu ihrer Kabine?"
   ]
  },
  {
   "cell_type": "code",
   "execution_count": 39,
   "metadata": {},
   "outputs": [
    {
     "data": {
      "text/plain": [
       "687"
      ]
     },
     "execution_count": 39,
     "metadata": {},
     "output_type": "execute_result"
    }
   ],
   "source": [
    "missing_cabine_count = t[\"Cabin\"].isna().sum()\n",
    "missing_cabine_count"
   ]
  },
  {
   "cell_type": "markdown",
   "metadata": {
    "vscode": {
     "languageId": "sql"
    }
   },
   "source": [
    "-- SELECT COUNT(*) AS missing_cabin_count\n",
    "-- FROM your_table_name\n",
    "-- WHERE Cabin IS NULL;"
   ]
  },
  {
   "attachments": {},
   "cell_type": "markdown",
   "metadata": {},
   "source": [
    "b) Haben nur Passagiere der dritten Klasse keine Kabine oder haben wir eher ein\n",
    "Datenqualitätsproblem?"
   ]
  },
  {
   "cell_type": "code",
   "execution_count": 40,
   "metadata": {},
   "outputs": [
    {
     "data": {
      "text/plain": [
       "(491,)"
      ]
     },
     "execution_count": 40,
     "metadata": {},
     "output_type": "execute_result"
    }
   ],
   "source": [
    "class_3 = t.loc[t[\"Pclass\"]==3, \"Cabin\"]\n",
    "class_3.shape"
   ]
  },
  {
   "cell_type": "markdown",
   "metadata": {
    "vscode": {
     "languageId": "sql"
    }
   },
   "source": [
    "-- SELECT COUNT(*) AS count_class_3\n",
    "-- FROM your_table_name\n",
    "-- WHERE Pclass = 3;"
   ]
  },
  {
   "cell_type": "code",
   "execution_count": 41,
   "metadata": {},
   "outputs": [
    {
     "data": {
      "text/plain": [
       "479"
      ]
     },
     "execution_count": 41,
     "metadata": {},
     "output_type": "execute_result"
    }
   ],
   "source": [
    "clas_3_nan = t.loc[t[\"Pclass\"]==3, \"Cabin\"].isna()\n",
    "clas_3_nan.sum()"
   ]
  },
  {
   "cell_type": "markdown",
   "metadata": {
    "vscode": {
     "languageId": "sql"
    }
   },
   "source": [
    "-- SELECT COUNT(*) AS missing_cabin_count\n",
    "-- FROM your_table_name\n",
    "-- WHERE Pclass = 3 AND Cabin IS NULL;"
   ]
  },
  {
   "cell_type": "markdown",
   "metadata": {},
   "source": [
    "c) Welche unterschiedlichen Kabinen gab es? Erstellen Sie eine sortierte Liste."
   ]
  },
  {
   "cell_type": "code",
   "execution_count": 42,
   "metadata": {},
   "outputs": [
    {
     "data": {
      "text/plain": [
       "['A10',\n",
       " 'A14',\n",
       " 'A16',\n",
       " 'A19',\n",
       " 'A20',\n",
       " 'A23',\n",
       " 'A24',\n",
       " 'A26',\n",
       " 'A31',\n",
       " 'A32',\n",
       " 'A34',\n",
       " 'A36',\n",
       " 'A5',\n",
       " 'A6',\n",
       " 'A7',\n",
       " 'B101',\n",
       " 'B102',\n",
       " 'B18',\n",
       " 'B19',\n",
       " 'B20',\n",
       " 'B22',\n",
       " 'B28',\n",
       " 'B3',\n",
       " 'B30',\n",
       " 'B35',\n",
       " 'B37',\n",
       " 'B38',\n",
       " 'B39',\n",
       " 'B4',\n",
       " 'B41',\n",
       " 'B42',\n",
       " 'B49',\n",
       " 'B5',\n",
       " 'B50',\n",
       " 'B51 B53 B55',\n",
       " 'B57 B59 B63 B66',\n",
       " 'B58 B60',\n",
       " 'B69',\n",
       " 'B71',\n",
       " 'B73',\n",
       " 'B77',\n",
       " 'B78',\n",
       " 'B79',\n",
       " 'B80',\n",
       " 'B82 B84',\n",
       " 'B86',\n",
       " 'B94',\n",
       " 'B96 B98',\n",
       " 'C101',\n",
       " 'C103',\n",
       " 'C104',\n",
       " 'C106',\n",
       " 'C110',\n",
       " 'C111',\n",
       " 'C118',\n",
       " 'C123',\n",
       " 'C124',\n",
       " 'C125',\n",
       " 'C126',\n",
       " 'C128',\n",
       " 'C148',\n",
       " 'C2',\n",
       " 'C22 C26',\n",
       " 'C23 C25 C27',\n",
       " 'C30',\n",
       " 'C32',\n",
       " 'C45',\n",
       " 'C46',\n",
       " 'C47',\n",
       " 'C49',\n",
       " 'C50',\n",
       " 'C52',\n",
       " 'C54',\n",
       " 'C62 C64',\n",
       " 'C65',\n",
       " 'C68',\n",
       " 'C7',\n",
       " 'C70',\n",
       " 'C78',\n",
       " 'C82',\n",
       " 'C83',\n",
       " 'C85',\n",
       " 'C86',\n",
       " 'C87',\n",
       " 'C90',\n",
       " 'C91',\n",
       " 'C92',\n",
       " 'C93',\n",
       " 'C95',\n",
       " 'C99',\n",
       " 'D',\n",
       " 'D10 D12',\n",
       " 'D11',\n",
       " 'D15',\n",
       " 'D17',\n",
       " 'D19',\n",
       " 'D20',\n",
       " 'D21',\n",
       " 'D26',\n",
       " 'D28',\n",
       " 'D30',\n",
       " 'D33',\n",
       " 'D35',\n",
       " 'D36',\n",
       " 'D37',\n",
       " 'D45',\n",
       " 'D46',\n",
       " 'D47',\n",
       " 'D48',\n",
       " 'D49',\n",
       " 'D50',\n",
       " 'D56',\n",
       " 'D6',\n",
       " 'D7',\n",
       " 'D9',\n",
       " 'E10',\n",
       " 'E101',\n",
       " 'E12',\n",
       " 'E121',\n",
       " 'E17',\n",
       " 'E24',\n",
       " 'E25',\n",
       " 'E31',\n",
       " 'E33',\n",
       " 'E34',\n",
       " 'E36',\n",
       " 'E38',\n",
       " 'E40',\n",
       " 'E44',\n",
       " 'E46',\n",
       " 'E49',\n",
       " 'E50',\n",
       " 'E58',\n",
       " 'E63',\n",
       " 'E67',\n",
       " 'E68',\n",
       " 'E77',\n",
       " 'E8',\n",
       " 'F E69',\n",
       " 'F G63',\n",
       " 'F G73',\n",
       " 'F2',\n",
       " 'F33',\n",
       " 'F38',\n",
       " 'F4',\n",
       " 'G6',\n",
       " 'T']"
      ]
     },
     "execution_count": 42,
     "metadata": {},
     "output_type": "execute_result"
    }
   ],
   "source": [
    "sorted_unique_cabins = t.groupby(\"Cabin\").first().index.sort_values().tolist() # Anstelle von first soll ,am size nehmen\n",
    "sorted_unique_cabins"
   ]
  },
  {
   "cell_type": "markdown",
   "metadata": {
    "vscode": {
     "languageId": "sql"
    }
   },
   "source": [
    "-- SELECT DISTINCT Cabin\n",
    "-- FROM your_table_name\n",
    "-- WHERE Cabin IS NOT NULL\n",
    "-- ORDER BY Cabin;"
   ]
  },
  {
   "attachments": {},
   "cell_type": "markdown",
   "metadata": {},
   "source": [
    "d) Wie viele unterschiedliche Kabinen gab es?"
   ]
  },
  {
   "cell_type": "code",
   "execution_count": 43,
   "metadata": {},
   "outputs": [
    {
     "data": {
      "text/plain": [
       "147"
      ]
     },
     "execution_count": 43,
     "metadata": {},
     "output_type": "execute_result"
    }
   ],
   "source": [
    "len(sorted_unique_cabins)\n"
   ]
  },
  {
   "cell_type": "code",
   "execution_count": 44,
   "metadata": {},
   "outputs": [
    {
     "data": {
      "text/plain": [
       "147"
      ]
     },
     "execution_count": 44,
     "metadata": {},
     "output_type": "execute_result"
    }
   ],
   "source": [
    "t.groupby(by=\"Cabin\").size().count()"
   ]
  },
  {
   "cell_type": "markdown",
   "metadata": {
    "vscode": {
     "languageId": "sql"
    }
   },
   "source": [
    "-- SELECT COUNT(DISTINCT Cabin) AS unique_cabin_count\n",
    "-- FROM your_table_name\n",
    "-- WHERE Cabin IS NOT NULL;"
   ]
  },
  {
   "attachments": {},
   "cell_type": "markdown",
   "metadata": {},
   "source": [
    "e) Gibt es einen Zusammenhang zwischen der Klasse und der Kabinennummer?\n",
    "<br> <br>\n",
    "Keinen erkenntlichen Zusammenhang"
   ]
  },
  {
   "cell_type": "code",
   "execution_count": 45,
   "metadata": {},
   "outputs": [
    {
     "name": "stdout",
     "output_type": "stream",
     "text": [
      "<bound method Series.unique of 1              C85\n",
      "3             C123\n",
      "6              E46\n",
      "11            C103\n",
      "23              A6\n",
      "          ...     \n",
      "871            D35\n",
      "872    B51 B53 B55\n",
      "879            C50\n",
      "887            B42\n",
      "889           C148\n",
      "Name: Cabin, Length: 216, dtype: object>\n"
     ]
    }
   ],
   "source": [
    "class1_unique_cabins = t.loc[t[\"Pclass\"]==1, \"Cabin\"].unique\n",
    "print(class1_unique_cabins)"
   ]
  },
  {
   "cell_type": "markdown",
   "metadata": {
    "vscode": {
     "languageId": "sql"
    }
   },
   "source": [
    "-- SELECT DISTINCT Cabin\n",
    "-- FROM your_table_name\n",
    "-- WHERE Pclass = 1 AND Cabin IS NOT NULL;"
   ]
  },
  {
   "cell_type": "code",
   "execution_count": 46,
   "metadata": {},
   "outputs": [
    {
     "name": "stdout",
     "output_type": "stream",
     "text": [
      "<bound method Series.unique of 21      D56\n",
      "66      F33\n",
      "123    E101\n",
      "148      F2\n",
      "183      F4\n",
      "193      F2\n",
      "292       D\n",
      "303    E101\n",
      "327       D\n",
      "340      F2\n",
      "345     F33\n",
      "473       D\n",
      "516     F33\n",
      "618      F4\n",
      "717    E101\n",
      "772     E77\n",
      "Name: Cabin, dtype: object>\n"
     ]
    }
   ],
   "source": [
    "class2_unique_cabins = t.loc[(t[\"Pclass\"]==2)&(t[\"Cabin\"].notna()), \"Cabin\"].unique\n",
    "print(class2_unique_cabins)"
   ]
  },
  {
   "cell_type": "markdown",
   "metadata": {
    "vscode": {
     "languageId": "sql"
    }
   },
   "source": [
    "-- SELECT DISTINCT Cabin\n",
    "-- FROM your_table_name\n",
    "-- WHERE Pclass = 2 AND Cabin IS NOT NULL;"
   ]
  },
  {
   "cell_type": "code",
   "execution_count": 47,
   "metadata": {},
   "outputs": [
    {
     "name": "stdout",
     "output_type": "stream",
     "text": [
      "<bound method Series.unique of 10        G6\n",
      "75     F G73\n",
      "128    F E69\n",
      "205       G6\n",
      "251       G6\n",
      "394       G6\n",
      "429      E10\n",
      "699    F G63\n",
      "715    F G73\n",
      "751     E121\n",
      "776      F38\n",
      "823     E121\n",
      "Name: Cabin, dtype: object>\n"
     ]
    }
   ],
   "source": [
    "class3_unique_cabins = t.loc[(t[\"Pclass\"]==3)&(t[\"Cabin\"].notna()), \"Cabin\"].unique\n",
    "print(class3_unique_cabins)"
   ]
  },
  {
   "cell_type": "markdown",
   "metadata": {
    "vscode": {
     "languageId": "sql"
    }
   },
   "source": [
    "-- SELECT DISTINCT Cabin\n",
    "-- FROM your_table_name\n",
    "-- WHERE Pclass = 3 AND Cabin IS NOT NULL;"
   ]
  },
  {
   "cell_type": "markdown",
   "metadata": {},
   "source": [
    "Alternativ"
   ]
  },
  {
   "cell_type": "code",
   "execution_count": 48,
   "metadata": {},
   "outputs": [
    {
     "data": {
      "text/plain": [
       "Pclass\n",
       "1    [C85, C123, E46, C103, A6, C23 C25 C27, nan, B...\n",
       "2                [nan, D56, F33, E101, F2, F4, D, E77]\n",
       "3       [nan, G6, F G73, F E69, E10, F G63, E121, F38]\n",
       "Name: Cabin, dtype: object"
      ]
     },
     "execution_count": 48,
     "metadata": {},
     "output_type": "execute_result"
    }
   ],
   "source": [
    "t.groupby(by=\"Pclass\")[\"Cabin\"].unique()"
   ]
  },
  {
   "attachments": {},
   "cell_type": "markdown",
   "metadata": {},
   "source": [
    "f) Wie viele Passagiere waren im Schnitt und wie viele maximal in einer Kabine?"
   ]
  },
  {
   "attachments": {},
   "cell_type": "markdown",
   "metadata": {},
   "source": [
    "Gruppieren nach Klasse und Kabine"
   ]
  },
  {
   "cell_type": "code",
   "execution_count": 49,
   "metadata": {},
   "outputs": [],
   "source": [
    "grouped_cabine_class = t.groupby([\"Pclass\",\"Cabin\"])"
   ]
  },
  {
   "cell_type": "markdown",
   "metadata": {
    "vscode": {
     "languageId": "sql"
    }
   },
   "source": [
    "-- SELECT Pclass, Cabin, COUNT(*)\n",
    "-- FROM your_table_name\n",
    "-- GROUP BY Pclass, Cabin;"
   ]
  },
  {
   "attachments": {},
   "cell_type": "markdown",
   "metadata": {},
   "source": [
    "Durchschnitt von ANzahl passagiere in Kabine"
   ]
  },
  {
   "cell_type": "code",
   "execution_count": 50,
   "metadata": {},
   "outputs": [
    {
     "data": {
      "text/plain": [
       "1.3877551020408163"
      ]
     },
     "execution_count": 50,
     "metadata": {},
     "output_type": "execute_result"
    }
   ],
   "source": [
    "grouped_cabine_passenger = grouped_cabine_class[\"PassengerId\"].count()\n",
    "grouped_cabine_passenger.mean()"
   ]
  },
  {
   "cell_type": "markdown",
   "metadata": {
    "vscode": {
     "languageId": "sql"
    }
   },
   "source": [
    "-- SELECT Pclass, Cabin, COUNT(PassengerId) AS PassengerCount\n",
    "-- FROM your_table_name\n",
    "-- GROUP BY Pclass, Cabin;"
   ]
  },
  {
   "cell_type": "markdown",
   "metadata": {
    "vscode": {
     "languageId": "sql"
    }
   },
   "source": [
    "-- WITH PassengerCounts AS (\n",
    "--     SELECT Pclass, Cabin, COUNT(PassengerId) AS PassengerCount\n",
    "--     FROM your_table_name\n",
    "--     GROUP BY Pclass, Cabin\n",
    "-- )\n",
    "-- SELECT AVG(PassengerCount) AS AveragePassengerCount\n",
    "-- FROM PassengerCounts;"
   ]
  },
  {
   "attachments": {},
   "cell_type": "markdown",
   "metadata": {},
   "source": [
    "Max Anzahl Passagiere in Kabine"
   ]
  },
  {
   "cell_type": "code",
   "execution_count": 51,
   "metadata": {},
   "outputs": [
    {
     "data": {
      "text/plain": [
       "4"
      ]
     },
     "execution_count": 51,
     "metadata": {},
     "output_type": "execute_result"
    }
   ],
   "source": [
    "grouped_cabine_passenger.max()"
   ]
  },
  {
   "cell_type": "markdown",
   "metadata": {},
   "source": [
    "Alternativ"
   ]
  },
  {
   "cell_type": "code",
   "execution_count": 52,
   "metadata": {},
   "outputs": [
    {
     "name": "stdout",
     "output_type": "stream",
     "text": [
      "Durchschnitt 1.3877551020408163  Maximale Anzahl: 4\n"
     ]
    }
   ],
   "source": [
    "pers_per_cabine = t.groupby(by=\"Cabin\").size()\n",
    "print(f'Durchschnitt {pers_per_cabine.mean()}  Maximale Anzahl: {pers_per_cabine.max()}')"
   ]
  },
  {
   "cell_type": "markdown",
   "metadata": {
    "vscode": {
     "languageId": "sql"
    }
   },
   "source": [
    "-- SELECT MAX(PassengerCount) AS MaxPassengerCount\n",
    "-- FROM PassengerCounts;"
   ]
  },
  {
   "cell_type": "markdown",
   "metadata": {},
   "source": [
    "g) In wie viele Kabinen waren Minderjährige gebucht?"
   ]
  },
  {
   "cell_type": "code",
   "execution_count": 53,
   "metadata": {},
   "outputs": [
    {
     "data": {
      "text/plain": [
       "19"
      ]
     },
     "execution_count": 53,
     "metadata": {},
     "output_type": "execute_result"
    }
   ],
   "source": [
    "# Filtern des DataFrames, um nur Minderjährige zu erhalten\n",
    "minors_df = t.loc[t['Age'] < 18]\n",
    "\n",
    "# Zählen der einzigartigen Kabinen, in denen Minderjährige gebucht waren\n",
    "unique_cabins_with_minors = minors_df['Cabin'].count()\n",
    "unique_cabins_with_minors"
   ]
  },
  {
   "cell_type": "markdown",
   "metadata": {
    "vscode": {
     "languageId": "sql"
    }
   },
   "source": [
    "-- SELECT COUNT(DISTINCT Cabin) AS unique_cabins_with_minors\n",
    "-- FROM your_table_name\n",
    "-- WHERE Age < 18 AND Cabin IS NOT NULL;"
   ]
  },
  {
   "attachments": {},
   "cell_type": "markdown",
   "metadata": {},
   "source": [
    "Mit lambda "
   ]
  },
  {
   "cell_type": "code",
   "execution_count": 54,
   "metadata": {},
   "outputs": [],
   "source": [
    "grouped_cabin = t.groupby(\"Cabin\")"
   ]
  },
  {
   "cell_type": "code",
   "execution_count": 55,
   "metadata": {},
   "outputs": [
    {
     "data": {
      "text/plain": [
       "14"
      ]
     },
     "execution_count": 55,
     "metadata": {},
     "output_type": "execute_result"
    }
   ],
   "source": [
    "minderjährige_in_kabine = grouped_cabin[\"Age\"].apply(lambda x: (x < 18).any())\n",
    "minderjährige_in_kabine.sum()"
   ]
  },
  {
   "cell_type": "markdown",
   "metadata": {},
   "source": [
    "Alternativ"
   ]
  },
  {
   "cell_type": "code",
   "execution_count": null,
   "metadata": {},
   "outputs": [],
   "source": []
  },
  {
   "attachments": {},
   "cell_type": "markdown",
   "metadata": {},
   "source": [
    "## 6.2. Minimum"
   ]
  },
  {
   "attachments": {},
   "cell_type": "markdown",
   "metadata": {},
   "source": [
    "a) Finden Sie den kleinsten und größten Fahrpreis je Klasse."
   ]
  },
  {
   "cell_type": "code",
   "execution_count": 56,
   "metadata": {},
   "outputs": [],
   "source": [
    "grouped_classes = t.groupby(\"Pclass\")"
   ]
  },
  {
   "cell_type": "code",
   "execution_count": 57,
   "metadata": {},
   "outputs": [
    {
     "data": {
      "text/html": [
       "<div>\n",
       "<style scoped>\n",
       "    .dataframe tbody tr th:only-of-type {\n",
       "        vertical-align: middle;\n",
       "    }\n",
       "\n",
       "    .dataframe tbody tr th {\n",
       "        vertical-align: top;\n",
       "    }\n",
       "\n",
       "    .dataframe thead tr th {\n",
       "        text-align: left;\n",
       "    }\n",
       "\n",
       "    .dataframe thead tr:last-of-type th {\n",
       "        text-align: right;\n",
       "    }\n",
       "</style>\n",
       "<table border=\"1\" class=\"dataframe\">\n",
       "  <thead>\n",
       "    <tr>\n",
       "      <th></th>\n",
       "      <th colspan=\"2\" halign=\"left\">Fare</th>\n",
       "    </tr>\n",
       "    <tr>\n",
       "      <th></th>\n",
       "      <th>min</th>\n",
       "      <th>max</th>\n",
       "    </tr>\n",
       "    <tr>\n",
       "      <th>Pclass</th>\n",
       "      <th></th>\n",
       "      <th></th>\n",
       "    </tr>\n",
       "  </thead>\n",
       "  <tbody>\n",
       "    <tr>\n",
       "      <th>1</th>\n",
       "      <td>0.0</td>\n",
       "      <td>512.3292</td>\n",
       "    </tr>\n",
       "    <tr>\n",
       "      <th>2</th>\n",
       "      <td>0.0</td>\n",
       "      <td>73.5000</td>\n",
       "    </tr>\n",
       "    <tr>\n",
       "      <th>3</th>\n",
       "      <td>0.0</td>\n",
       "      <td>69.5500</td>\n",
       "    </tr>\n",
       "  </tbody>\n",
       "</table>\n",
       "</div>"
      ],
      "text/plain": [
       "       Fare          \n",
       "        min       max\n",
       "Pclass               \n",
       "1       0.0  512.3292\n",
       "2       0.0   73.5000\n",
       "3       0.0   69.5500"
      ]
     },
     "execution_count": 57,
     "metadata": {},
     "output_type": "execute_result"
    }
   ],
   "source": [
    "grouped_classes.agg({\"Fare\":(\"min\",\"max\")})"
   ]
  },
  {
   "cell_type": "markdown",
   "metadata": {},
   "source": [
    "Alternativ"
   ]
  },
  {
   "cell_type": "markdown",
   "metadata": {},
   "source": [
    "def einzig(s):\n",
    "    return s.unique()\n",
    "\n",
    "t.groupby(by=\"Pclass\")[\"Fare\"].agg(\n",
    "    klein=\"min\",\n",
    "    groß=\"max\",\n",
    "    einzig=einzig\n",
    ")"
   ]
  },
  {
   "attachments": {},
   "cell_type": "markdown",
   "metadata": {},
   "source": [
    "b) Oft ist man nicht nur am Wert, sondern auch an den zugehörigen Daten interessiert, die\n",
    "zu diesem Wert gehören. Finden Sie mit idxmin() die Namen der Passagiere mit den\n",
    "extremen Fahrpreisen aus a) heraus."
   ]
  },
  {
   "cell_type": "code",
   "execution_count": 58,
   "metadata": {},
   "outputs": [
    {
     "name": "stdout",
     "output_type": "stream",
     "text": [
      "        min       max                     min_name                    max_name\n",
      "Pclass                                                                        \n",
      "1       0.0  512.3292        Harrison, Mr. William            Ward, Miss. Anna\n",
      "2       0.0   73.5000  Parkes, Mr. Francis \"Frank\"        Hood, Mr. Ambrose Jr\n",
      "3       0.0   69.5500          Leonard, Mr. Lionel  Sage, Master. Thomas Henry\n"
     ]
    }
   ],
   "source": [
    "grouped_classes = t.groupby('Pclass')\n",
    "\n",
    "min_names = []\n",
    "max_names = []\n",
    "\n",
    "for group, group_df in grouped_classes:\n",
    "    min_idx = group_df['Fare'].idxmin()\n",
    "    max_idx = group_df['Fare'].idxmax()\n",
    "    \n",
    "    min_names.append(t.loc[min_idx, 'Name'])\n",
    "    max_names.append(t.loc[max_idx, 'Name'])\n",
    "\n",
    "result = grouped_classes['Fare'].agg(['min', 'max'])\n",
    "result['min_name'] = min_names\n",
    "result['max_name'] = max_names\n",
    "\n",
    "print(result)\n"
   ]
  },
  {
   "attachments": {},
   "cell_type": "markdown",
   "metadata": {},
   "source": [
    "c) Falls das Minimum / Maximum nicht eindeutig ist, welchen Wert liefert dann\n",
    "idxmin()?"
   ]
  },
  {
   "cell_type": "markdown",
   "metadata": {},
   "source": [
    "Die Methoden idxmin() und idxmax() in Pandas geben den Index des ersten Minimums bzw. Maximums zurück, wenn es mehrere Einträge mit dem gleichen minimalen oder maximalen Wert gibt.\n",
    "\n",
    "Wenn es also in einer Serie oder einem DataFrame mehrere Zeilen mit dem gleichen minimalen (oder maximalen) Wert gibt, wird idxmin() (oder idxmax()) den Index der ersten dieser Zeilen zurückgeben."
   ]
  },
  {
   "attachments": {},
   "cell_type": "markdown",
   "metadata": {},
   "source": [
    "d) Wir würden gerne alle Passagiere mit extremen Fahrpreisen gemäß a) kennen."
   ]
  },
  {
   "cell_type": "code",
   "execution_count": 59,
   "metadata": {},
   "outputs": [
    {
     "name": "stdout",
     "output_type": "stream",
     "text": [
      "   Pclass                         Name      Fare\n",
      "0       1        Harrison, Mr. William    0.0000\n",
      "1       1             Ward, Miss. Anna  512.3292\n",
      "2       2  Parkes, Mr. Francis \"Frank\"    0.0000\n",
      "3       2         Hood, Mr. Ambrose Jr   73.5000\n",
      "4       3          Leonard, Mr. Lionel    0.0000\n",
      "5       3   Sage, Master. Thomas Henry   69.5500\n"
     ]
    }
   ],
   "source": [
    "# Rangieren der Fahrpreise in aufsteigender und absteigender Reihenfolge innerhalb jeder Klasse\n",
    "t['min_rank'] = t.groupby('Pclass')['Fare'].rank(method='min')\n",
    "t['max_rank'] = t.groupby('Pclass')['Fare'].rank(method='min', ascending=False)\n",
    "\n",
    "# Filtern des DataFrames, um den ersten Eintrag für das Minimum und Maximum jeder Klasse zu behalten\n",
    "min_fares = t[t['min_rank'] == 1].groupby('Pclass').first().reset_index()[['Pclass', 'Name', 'Fare']]\n",
    "max_fares = t[t['max_rank'] == 1].groupby('Pclass').first().reset_index()[['Pclass', 'Name', 'Fare']]\n",
    "\n",
    "# Kombinieren der beiden DataFrames\n",
    "extreme_fares = pd.concat([min_fares, max_fares], axis=0).sort_values(by='Pclass').reset_index(drop=True)\n",
    "\n",
    "print(extreme_fares)\n"
   ]
  },
  {
   "cell_type": "markdown",
   "metadata": {},
   "source": [
    "Alternativ"
   ]
  },
  {
   "cell_type": "code",
   "execution_count": 60,
   "metadata": {},
   "outputs": [
    {
     "name": "stdout",
     "output_type": "stream",
     "text": [
      "Pclass     \n",
      "1       258    512.3292\n",
      "        679    512.3292\n",
      "        737    512.3292\n",
      "2       72      73.5000\n",
      "        120     73.5000\n",
      "        385     73.5000\n",
      "        655     73.5000\n",
      "        665     73.5000\n",
      "3       159     69.5500\n",
      "        180     69.5500\n",
      "        201     69.5500\n",
      "        324     69.5500\n",
      "        792     69.5500\n",
      "        846     69.5500\n",
      "        863     69.5500\n",
      "Name: Fare, dtype: float64\n"
     ]
    },
    {
     "data": {
      "text/plain": [
       "<bound method MultiIndex.get_level_values of MultiIndex([(1, 258),\n",
       "            (1, 679),\n",
       "            (1, 737),\n",
       "            (2,  72),\n",
       "            (2, 120),\n",
       "            (2, 385),\n",
       "            (2, 655),\n",
       "            (2, 665),\n",
       "            (3, 159),\n",
       "            (3, 180),\n",
       "            (3, 201),\n",
       "            (3, 324),\n",
       "            (3, 792),\n",
       "            (3, 846),\n",
       "            (3, 863)],\n",
       "           names=['Pclass', None])>"
      ]
     },
     "execution_count": 60,
     "metadata": {},
     "output_type": "execute_result"
    }
   ],
   "source": [
    "idx = t.groupby(by=\"Pclass\")[\"Fare\"].nlargest(1, keep='all')\n",
    "print(idx)\n",
    "idx.index.get_level_values"
   ]
  },
  {
   "attachments": {},
   "cell_type": "markdown",
   "metadata": {},
   "source": [
    "## 6.3. Quantile"
   ]
  },
  {
   "attachments": {},
   "cell_type": "markdown",
   "metadata": {},
   "source": [
    "Berücksichtigt quantile() Null-Werte? Testen Sie."
   ]
  },
  {
   "attachments": {},
   "cell_type": "markdown",
   "metadata": {},
   "source": [
    "Die quantile() Methode gibt den Wert des angegebenen Quantils für eine gegebene Datenmenge zurück."
   ]
  },
  {
   "attachments": {},
   "cell_type": "markdown",
   "metadata": {},
   "source": [
    "Die Methode quantile() in Pandas berücksichtigt keine NaN (Null)-Werte bei der Berechnung. Das bedeutet, dass NaN-Werte standardmäßig ausgeschlossen werden."
   ]
  },
  {
   "cell_type": "code",
   "execution_count": 61,
   "metadata": {},
   "outputs": [
    {
     "data": {
      "text/plain": [
       "(30.0, 30.0)"
      ]
     },
     "execution_count": 61,
     "metadata": {},
     "output_type": "execute_result"
    }
   ],
   "source": [
    "import pandas as pd\n",
    "\n",
    "# Erstellen eines Beispieldatenframes mit einigen Null-Werten\n",
    "data = {'values': [10, 20, 30, 40, 50, None, pd.NA]}\n",
    "df = pd.DataFrame(data)\n",
    "\n",
    "# Berechnen des Quantils ohne die Behandlung von Null-Werten\n",
    "quantile_without_handling_na = df['values'].quantile(0.5)\n",
    "\n",
    "# Berechnen des Quantils mit explizitem Ausschluxss von Null-Werten\n",
    "quantile_with_dropna = df['values'].dropna().quantile(0.5)\n",
    "\n",
    "quantile_without_handling_na, quantile_with_dropna\n"
   ]
  },
  {
   "attachments": {},
   "cell_type": "markdown",
   "metadata": {},
   "source": [
    "Test: <br>\n",
    "- Das Medianquantil (0,5) des Beispieldatenframes ohne explizites Handling von Null-Werten ergab 30.0.\n",
    "- Das Medianquantil (0,5) des Beispieldatenframes, bei dem NaN-Werte explizit mit dropna() ausgeschlossen wurden, ergab ebenfalls 30.0."
   ]
  },
  {
   "cell_type": "markdown",
   "metadata": {},
   "source": [
    "Aggregation und Sortierung\n",
    "Für welche der vorgestellten Aggregations-Funktionen beeinflusst die Sortierung der\n",
    "Daten im DataFrame das Ergebnis?"
   ]
  },
  {
   "attachments": {},
   "cell_type": "markdown",
   "metadata": {},
   "source": [
    "Soweit ich weiß keine von\n",
    "- sum(): Summe der Werte\n",
    "- mean(): Mittelwert der Werte\n",
    "- median(): Median der Werte\n",
    "- min(): Minimum der Werte\n",
    "- max(): Maximum der Werte\n",
    "- std(): Standardabweichung\n",
    "- var(): Varianz\n",
    "- count(): Anzahl der nicht-NA-Zellen\n",
    "- nunique(): Anzahl der einzigartigen Werte\n",
    "- quantile(): Wert am gegebenen Quantil\n",
    "\n",
    "Wichtig für:\n",
    "- indexmax\n",
    "- first(), last(), nte()\n",
    "- cumSumme"
   ]
  },
  {
   "attachments": {},
   "cell_type": "markdown",
   "metadata": {},
   "source": [
    "## 6.5. Duplikate"
   ]
  },
  {
   "attachments": {},
   "cell_type": "markdown",
   "metadata": {},
   "source": [
    "a) Mit dem Attribut .is_unique kann man herausfinden, ob eine Series nur eindeutige\n",
    "Werte enthält.\n",
    "Überprüfen Sie, ob („Name“) ein Schlüssel ist."
   ]
  },
  {
   "cell_type": "code",
   "execution_count": 62,
   "metadata": {},
   "outputs": [
    {
     "data": {
      "text/plain": [
       "True"
      ]
     },
     "execution_count": 62,
     "metadata": {},
     "output_type": "execute_result"
    }
   ],
   "source": [
    "t_names = t[\"Name\"]\n",
    "t_names.is_unique"
   ]
  },
  {
   "attachments": {},
   "cell_type": "markdown",
   "metadata": {},
   "source": [
    "b) Definieren Sie „Name“ als Index und stellen Sie per assert sicher, dass er eindeutig ist."
   ]
  },
  {
   "cell_type": "code",
   "execution_count": 63,
   "metadata": {},
   "outputs": [],
   "source": [
    "# Setzen des Index\n",
    "t_index_name = t.set_index('Name', inplace=True)\n",
    "\n",
    "# Hinweis wenn der Index nicht einzigartig ist \n",
    "assert t.index.is_unique, \"Der Index 'Name' ist nicht eindeutig!\"\n"
   ]
  },
  {
   "attachments": {},
   "cell_type": "markdown",
   "metadata": {},
   "source": [
    "c) Überprüfen Sie, ob („Ticket“, „Cabin“) ein Schlüssel ist."
   ]
  },
  {
   "cell_type": "code",
   "execution_count": 64,
   "metadata": {},
   "outputs": [
    {
     "data": {
      "text/plain": [
       "(False, False, False)"
      ]
     },
     "execution_count": 64,
     "metadata": {},
     "output_type": "execute_result"
    }
   ],
   "source": [
    "# Überprüfen, ob \"Ticket\" eindeutig ist\n",
    "is_ticket_unique = t['Ticket'].is_unique\n",
    "\n",
    "# Überprüfen, ob \"Cabin\" eindeutig ist\n",
    "is_cabin_unique = t['Cabin'].is_unique\n",
    "\n",
    "# Überprüfen, ob die Kombination aus \"Ticket\" und \"Cabin\" eindeutig ist\n",
    "t['Ticket_Cabin'] = t['Ticket'].astype(str) + '_' + t['Cabin'].astype(str)\n",
    "is_ticket_cabin_unique = t['Ticket_Cabin'].is_unique\n",
    "\n",
    "# Löschen der zusammengesetzten Spalte\n",
    "del t['Ticket_Cabin']\n",
    "\n",
    "is_ticket_unique, is_cabin_unique, is_ticket_cabin_unique\n",
    "# True, wenn \"Ticket\" eindeutig ist, sonst False.\n",
    "# True, wenn \"Cabin\" eindeutig ist, sonst False.\n",
    "# True, wenn die Kombination aus \"Ticket\" und \"Cabin\" eindeutig ist, sonst False."
   ]
  },
  {
   "attachments": {},
   "cell_type": "markdown",
   "metadata": {},
   "source": [
    "d) Ermitteln Sie die Passagiere, für die es mindestens 4 (damit das Ergebnis kleiner wird)\n",
    "Duplikate für („Ticket“, „Cabin“) erzeugen."
   ]
  },
  {
   "cell_type": "code",
   "execution_count": 65,
   "metadata": {},
   "outputs": [
    {
     "data": {
      "text/html": [
       "<div>\n",
       "<style scoped>\n",
       "    .dataframe tbody tr th:only-of-type {\n",
       "        vertical-align: middle;\n",
       "    }\n",
       "\n",
       "    .dataframe tbody tr th {\n",
       "        vertical-align: top;\n",
       "    }\n",
       "\n",
       "    .dataframe thead th {\n",
       "        text-align: right;\n",
       "    }\n",
       "</style>\n",
       "<table border=\"1\" class=\"dataframe\">\n",
       "  <thead>\n",
       "    <tr style=\"text-align: right;\">\n",
       "      <th></th>\n",
       "      <th>Ticket</th>\n",
       "      <th>Cabin</th>\n",
       "    </tr>\n",
       "    <tr>\n",
       "      <th>Name</th>\n",
       "      <th></th>\n",
       "      <th></th>\n",
       "    </tr>\n",
       "  </thead>\n",
       "  <tbody>\n",
       "    <tr>\n",
       "      <th>Fortune, Mr. Charles Alexander</th>\n",
       "      <td>19950</td>\n",
       "      <td>C23 C25 C27</td>\n",
       "    </tr>\n",
       "    <tr>\n",
       "      <th>Fortune, Miss. Mabel Helen</th>\n",
       "      <td>19950</td>\n",
       "      <td>C23 C25 C27</td>\n",
       "    </tr>\n",
       "    <tr>\n",
       "      <th>Fortune, Miss. Alice Elizabeth</th>\n",
       "      <td>19950</td>\n",
       "      <td>C23 C25 C27</td>\n",
       "    </tr>\n",
       "    <tr>\n",
       "      <th>Carter, Mr. William Ernest</th>\n",
       "      <td>113760</td>\n",
       "      <td>B96 B98</td>\n",
       "    </tr>\n",
       "    <tr>\n",
       "      <th>Carter, Miss. Lucile Polk</th>\n",
       "      <td>113760</td>\n",
       "      <td>B96 B98</td>\n",
       "    </tr>\n",
       "    <tr>\n",
       "      <th>Fortune, Mr. Mark</th>\n",
       "      <td>19950</td>\n",
       "      <td>C23 C25 C27</td>\n",
       "    </tr>\n",
       "    <tr>\n",
       "      <th>Carter, Mrs. William Ernest (Lucile Polk)</th>\n",
       "      <td>113760</td>\n",
       "      <td>B96 B98</td>\n",
       "    </tr>\n",
       "    <tr>\n",
       "      <th>Carter, Master. William Thornton II</th>\n",
       "      <td>113760</td>\n",
       "      <td>B96 B98</td>\n",
       "    </tr>\n",
       "  </tbody>\n",
       "</table>\n",
       "</div>"
      ],
      "text/plain": [
       "                                           Ticket        Cabin\n",
       "Name                                                          \n",
       "Fortune, Mr. Charles Alexander              19950  C23 C25 C27\n",
       "Fortune, Miss. Mabel Helen                  19950  C23 C25 C27\n",
       "Fortune, Miss. Alice Elizabeth              19950  C23 C25 C27\n",
       "Carter, Mr. William Ernest                 113760      B96 B98\n",
       "Carter, Miss. Lucile Polk                  113760      B96 B98\n",
       "Fortune, Mr. Mark                           19950  C23 C25 C27\n",
       "Carter, Mrs. William Ernest (Lucile Polk)  113760      B96 B98\n",
       "Carter, Master. William Thornton II        113760      B96 B98"
      ]
     },
     "execution_count": 65,
     "metadata": {},
     "output_type": "execute_result"
    }
   ],
   "source": [
    "\n",
    "# Gruppieren nach \"Ticket\" und \"Cabin\" und zählen der Passagiere in jeder Gruppe\n",
    "grouped_counts = t.groupby(['Ticket', 'Cabin']).size()\n",
    "\n",
    "# Filtern der Gruppen, die mindestens 4 Duplikate haben\n",
    "tickets_cabins_with_duplicates = grouped_counts.loc[grouped_counts >= 4].index.tolist()\n",
    "\n",
    "# Filtern des DataFrames, um Passagiere mit den identifizierten \"Ticket\" und \"Cabin\"-Kombinationen zu erhalten\n",
    "passengers_with_duplicates = t[t.set_index(['Ticket', 'Cabin']).index.isin(tickets_cabins_with_duplicates)]\n",
    "\n",
    "passengers_with_duplicates[['Ticket', 'Cabin']]"
   ]
  },
  {
   "cell_type": "code",
   "execution_count": 70,
   "metadata": {},
   "outputs": [
    {
     "data": {
      "text/plain": [
       "Ticket             Cabin\n",
       "110152             B77      2\n",
       "                   B79      1\n",
       "110413             E67      2\n",
       "                   E68      1\n",
       "110465             A14      1\n",
       "                           ..\n",
       "SC/AH Basle 541    D        1\n",
       "SC/Paris 2163      D        1\n",
       "SOTON/O.Q. 392078  E10      1\n",
       "W.E.P. 5734        E31      1\n",
       "WE/P 5735          B22      2\n",
       "Length: 161, dtype: int64"
      ]
     },
     "execution_count": 70,
     "metadata": {},
     "output_type": "execute_result"
    }
   ],
   "source": [
    "s_t = t.groupby(by=[\"Ticket\",\"Cabin\"]).size()\n",
    "s_t\n",
    "#s_t.loc[s_t>=4]"
   ]
  },
  {
   "cell_type": "code",
   "execution_count": 67,
   "metadata": {},
   "outputs": [
    {
     "data": {
      "text/html": [
       "<div>\n",
       "<style scoped>\n",
       "    .dataframe tbody tr th:only-of-type {\n",
       "        vertical-align: middle;\n",
       "    }\n",
       "\n",
       "    .dataframe tbody tr th {\n",
       "        vertical-align: top;\n",
       "    }\n",
       "\n",
       "    .dataframe thead th {\n",
       "        text-align: right;\n",
       "    }\n",
       "</style>\n",
       "<table border=\"1\" class=\"dataframe\">\n",
       "  <thead>\n",
       "    <tr style=\"text-align: right;\">\n",
       "      <th></th>\n",
       "      <th>Ticket</th>\n",
       "      <th>Cabin</th>\n",
       "      <th>Count</th>\n",
       "    </tr>\n",
       "  </thead>\n",
       "  <tbody>\n",
       "    <tr>\n",
       "      <th>0</th>\n",
       "      <td>113760</td>\n",
       "      <td>B96 B98</td>\n",
       "      <td>4</td>\n",
       "    </tr>\n",
       "    <tr>\n",
       "      <th>1</th>\n",
       "      <td>19950</td>\n",
       "      <td>C23 C25 C27</td>\n",
       "      <td>4</td>\n",
       "    </tr>\n",
       "  </tbody>\n",
       "</table>\n",
       "</div>"
      ],
      "text/plain": [
       "   Ticket        Cabin  Count\n",
       "0  113760      B96 B98      4\n",
       "1   19950  C23 C25 C27      4"
      ]
     },
     "execution_count": 67,
     "metadata": {},
     "output_type": "execute_result"
    }
   ],
   "source": [
    "# Oder\n",
    "dup =(\n",
    "    t.groupby(by=[\"Ticket\", \"Cabin\"]).size()\n",
    "    .loc[lambda s: s>=4]\n",
    "    .reset_index()\n",
    "    .rename(columns={0: \"Count\"})\n",
    ")\n",
    "dup"
   ]
  },
  {
   "cell_type": "code",
   "execution_count": 68,
   "metadata": {},
   "outputs": [
    {
     "ename": "ValueError",
     "evalue": "Cannot index with multidimensional key",
     "output_type": "error",
     "traceback": [
      "\u001b[0;31mValueError\u001b[0m\u001b[0;31m:\u001b[0m Cannot index with multidimensional key\n"
     ]
    }
   ],
   "source": [
    "##Nach Passagieren filter\n",
    "rows = (t[\"Ticket\"].isin(dup[\"Ticket\"])) & (t[\"Cabin\"].isin(dup[\"Cabin\"]))\n",
    "\n",
    "(\n",
    "    t.set_index([\"Ticket\", \"Cabin\"])\n",
    "    .loc[dup[[\"Ticket\", \"Cabin\"]]]\n",
    "    .sort_values(by=[\"Ticket\", \"Cabin\"])\n",
    "    [[\"Ticket\", \"Cabin\", \"Name\", \"PassengerId\"]]  \n",
    ")"
   ]
  },
  {
   "cell_type": "code",
   "execution_count": null,
   "metadata": {},
   "outputs": [
    {
     "data": {
      "text/html": [
       "<div>\n",
       "<style scoped>\n",
       "    .dataframe tbody tr th:only-of-type {\n",
       "        vertical-align: middle;\n",
       "    }\n",
       "\n",
       "    .dataframe tbody tr th {\n",
       "        vertical-align: top;\n",
       "    }\n",
       "\n",
       "    .dataframe thead th {\n",
       "        text-align: right;\n",
       "    }\n",
       "</style>\n",
       "<table border=\"1\" class=\"dataframe\">\n",
       "  <thead>\n",
       "    <tr style=\"text-align: right;\">\n",
       "      <th></th>\n",
       "      <th>PassengerId</th>\n",
       "      <th>Survived</th>\n",
       "      <th>Pclass</th>\n",
       "      <th>Name</th>\n",
       "      <th>Sex</th>\n",
       "      <th>Age</th>\n",
       "      <th>SibSp</th>\n",
       "      <th>Parch</th>\n",
       "      <th>Ticket</th>\n",
       "      <th>Fare</th>\n",
       "      <th>Cabin</th>\n",
       "      <th>Embarked</th>\n",
       "      <th>min_rank</th>\n",
       "      <th>max_rank</th>\n",
       "      <th>Count</th>\n",
       "    </tr>\n",
       "  </thead>\n",
       "  <tbody>\n",
       "    <tr>\n",
       "      <th>0</th>\n",
       "      <td>28</td>\n",
       "      <td>0</td>\n",
       "      <td>1</td>\n",
       "      <td>Fortune, Mr. Charles Alexander</td>\n",
       "      <td>male</td>\n",
       "      <td>19.0</td>\n",
       "      <td>3</td>\n",
       "      <td>2</td>\n",
       "      <td>19950</td>\n",
       "      <td>263.0</td>\n",
       "      <td>C23 C25 C27</td>\n",
       "      <td>S</td>\n",
       "      <td>210.0</td>\n",
       "      <td>4.0</td>\n",
       "      <td>4</td>\n",
       "    </tr>\n",
       "    <tr>\n",
       "      <th>1</th>\n",
       "      <td>89</td>\n",
       "      <td>1</td>\n",
       "      <td>1</td>\n",
       "      <td>Fortune, Miss. Mabel Helen</td>\n",
       "      <td>female</td>\n",
       "      <td>23.0</td>\n",
       "      <td>3</td>\n",
       "      <td>2</td>\n",
       "      <td>19950</td>\n",
       "      <td>263.0</td>\n",
       "      <td>C23 C25 C27</td>\n",
       "      <td>S</td>\n",
       "      <td>210.0</td>\n",
       "      <td>4.0</td>\n",
       "      <td>4</td>\n",
       "    </tr>\n",
       "    <tr>\n",
       "      <th>2</th>\n",
       "      <td>342</td>\n",
       "      <td>1</td>\n",
       "      <td>1</td>\n",
       "      <td>Fortune, Miss. Alice Elizabeth</td>\n",
       "      <td>female</td>\n",
       "      <td>24.0</td>\n",
       "      <td>3</td>\n",
       "      <td>2</td>\n",
       "      <td>19950</td>\n",
       "      <td>263.0</td>\n",
       "      <td>C23 C25 C27</td>\n",
       "      <td>S</td>\n",
       "      <td>210.0</td>\n",
       "      <td>4.0</td>\n",
       "      <td>4</td>\n",
       "    </tr>\n",
       "    <tr>\n",
       "      <th>3</th>\n",
       "      <td>439</td>\n",
       "      <td>0</td>\n",
       "      <td>1</td>\n",
       "      <td>Fortune, Mr. Mark</td>\n",
       "      <td>male</td>\n",
       "      <td>64.0</td>\n",
       "      <td>1</td>\n",
       "      <td>4</td>\n",
       "      <td>19950</td>\n",
       "      <td>263.0</td>\n",
       "      <td>C23 C25 C27</td>\n",
       "      <td>S</td>\n",
       "      <td>210.0</td>\n",
       "      <td>4.0</td>\n",
       "      <td>4</td>\n",
       "    </tr>\n",
       "    <tr>\n",
       "      <th>4</th>\n",
       "      <td>391</td>\n",
       "      <td>1</td>\n",
       "      <td>1</td>\n",
       "      <td>Carter, Mr. William Ernest</td>\n",
       "      <td>male</td>\n",
       "      <td>36.0</td>\n",
       "      <td>1</td>\n",
       "      <td>2</td>\n",
       "      <td>113760</td>\n",
       "      <td>120.0</td>\n",
       "      <td>B96 B98</td>\n",
       "      <td>S</td>\n",
       "      <td>175.0</td>\n",
       "      <td>39.0</td>\n",
       "      <td>4</td>\n",
       "    </tr>\n",
       "    <tr>\n",
       "      <th>5</th>\n",
       "      <td>436</td>\n",
       "      <td>1</td>\n",
       "      <td>1</td>\n",
       "      <td>Carter, Miss. Lucile Polk</td>\n",
       "      <td>female</td>\n",
       "      <td>14.0</td>\n",
       "      <td>1</td>\n",
       "      <td>2</td>\n",
       "      <td>113760</td>\n",
       "      <td>120.0</td>\n",
       "      <td>B96 B98</td>\n",
       "      <td>S</td>\n",
       "      <td>175.0</td>\n",
       "      <td>39.0</td>\n",
       "      <td>4</td>\n",
       "    </tr>\n",
       "    <tr>\n",
       "      <th>6</th>\n",
       "      <td>764</td>\n",
       "      <td>1</td>\n",
       "      <td>1</td>\n",
       "      <td>Carter, Mrs. William Ernest (Lucile Polk)</td>\n",
       "      <td>female</td>\n",
       "      <td>36.0</td>\n",
       "      <td>1</td>\n",
       "      <td>2</td>\n",
       "      <td>113760</td>\n",
       "      <td>120.0</td>\n",
       "      <td>B96 B98</td>\n",
       "      <td>S</td>\n",
       "      <td>175.0</td>\n",
       "      <td>39.0</td>\n",
       "      <td>4</td>\n",
       "    </tr>\n",
       "    <tr>\n",
       "      <th>7</th>\n",
       "      <td>803</td>\n",
       "      <td>1</td>\n",
       "      <td>1</td>\n",
       "      <td>Carter, Master. William Thornton II</td>\n",
       "      <td>male</td>\n",
       "      <td>11.0</td>\n",
       "      <td>1</td>\n",
       "      <td>2</td>\n",
       "      <td>113760</td>\n",
       "      <td>120.0</td>\n",
       "      <td>B96 B98</td>\n",
       "      <td>S</td>\n",
       "      <td>175.0</td>\n",
       "      <td>39.0</td>\n",
       "      <td>4</td>\n",
       "    </tr>\n",
       "  </tbody>\n",
       "</table>\n",
       "</div>"
      ],
      "text/plain": [
       "   PassengerId  Survived  Pclass                                       Name  \\\n",
       "0           28         0       1             Fortune, Mr. Charles Alexander   \n",
       "1           89         1       1                 Fortune, Miss. Mabel Helen   \n",
       "2          342         1       1             Fortune, Miss. Alice Elizabeth   \n",
       "3          439         0       1                          Fortune, Mr. Mark   \n",
       "4          391         1       1                 Carter, Mr. William Ernest   \n",
       "5          436         1       1                  Carter, Miss. Lucile Polk   \n",
       "6          764         1       1  Carter, Mrs. William Ernest (Lucile Polk)   \n",
       "7          803         1       1        Carter, Master. William Thornton II   \n",
       "\n",
       "      Sex   Age  SibSp  Parch  Ticket   Fare        Cabin Embarked  min_rank  \\\n",
       "0    male  19.0      3      2   19950  263.0  C23 C25 C27        S     210.0   \n",
       "1  female  23.0      3      2   19950  263.0  C23 C25 C27        S     210.0   \n",
       "2  female  24.0      3      2   19950  263.0  C23 C25 C27        S     210.0   \n",
       "3    male  64.0      1      4   19950  263.0  C23 C25 C27        S     210.0   \n",
       "4    male  36.0      1      2  113760  120.0      B96 B98        S     175.0   \n",
       "5  female  14.0      1      2  113760  120.0      B96 B98        S     175.0   \n",
       "6  female  36.0      1      2  113760  120.0      B96 B98        S     175.0   \n",
       "7    male  11.0      1      2  113760  120.0      B96 B98        S     175.0   \n",
       "\n",
       "   max_rank  Count  \n",
       "0       4.0      4  \n",
       "1       4.0      4  \n",
       "2       4.0      4  \n",
       "3       4.0      4  \n",
       "4      39.0      4  \n",
       "5      39.0      4  \n",
       "6      39.0      4  \n",
       "7      39.0      4  "
      ]
     },
     "execution_count": 58,
     "metadata": {},
     "output_type": "execute_result"
    }
   ],
   "source": [
    "t.merge(dup)"
   ]
  },
  {
   "attachments": {},
   "cell_type": "markdown",
   "metadata": {},
   "source": [
    "e) Ermitteln Sie die Duplikate von d) über value_counts()."
   ]
  },
  {
   "cell_type": "code",
   "execution_count": null,
   "metadata": {},
   "outputs": [
    {
     "data": {
      "text/html": [
       "<div>\n",
       "<style scoped>\n",
       "    .dataframe tbody tr th:only-of-type {\n",
       "        vertical-align: middle;\n",
       "    }\n",
       "\n",
       "    .dataframe tbody tr th {\n",
       "        vertical-align: top;\n",
       "    }\n",
       "\n",
       "    .dataframe thead th {\n",
       "        text-align: right;\n",
       "    }\n",
       "</style>\n",
       "<table border=\"1\" class=\"dataframe\">\n",
       "  <thead>\n",
       "    <tr style=\"text-align: right;\">\n",
       "      <th></th>\n",
       "      <th>Ticket</th>\n",
       "      <th>Cabin</th>\n",
       "    </tr>\n",
       "  </thead>\n",
       "  <tbody>\n",
       "    <tr>\n",
       "      <th>7</th>\n",
       "      <td>349909</td>\n",
       "      <td>&lt;NA&gt;</td>\n",
       "    </tr>\n",
       "    <tr>\n",
       "      <th>13</th>\n",
       "      <td>347082</td>\n",
       "      <td>&lt;NA&gt;</td>\n",
       "    </tr>\n",
       "    <tr>\n",
       "      <th>16</th>\n",
       "      <td>382652</td>\n",
       "      <td>&lt;NA&gt;</td>\n",
       "    </tr>\n",
       "    <tr>\n",
       "      <th>24</th>\n",
       "      <td>349909</td>\n",
       "      <td>&lt;NA&gt;</td>\n",
       "    </tr>\n",
       "    <tr>\n",
       "      <th>25</th>\n",
       "      <td>347077</td>\n",
       "      <td>&lt;NA&gt;</td>\n",
       "    </tr>\n",
       "    <tr>\n",
       "      <th>...</th>\n",
       "      <td>...</td>\n",
       "      <td>...</td>\n",
       "    </tr>\n",
       "    <tr>\n",
       "      <th>846</th>\n",
       "      <td>CA. 2343</td>\n",
       "      <td>&lt;NA&gt;</td>\n",
       "    </tr>\n",
       "    <tr>\n",
       "      <th>850</th>\n",
       "      <td>347082</td>\n",
       "      <td>&lt;NA&gt;</td>\n",
       "    </tr>\n",
       "    <tr>\n",
       "      <th>858</th>\n",
       "      <td>2666</td>\n",
       "      <td>&lt;NA&gt;</td>\n",
       "    </tr>\n",
       "    <tr>\n",
       "      <th>863</th>\n",
       "      <td>CA. 2343</td>\n",
       "      <td>&lt;NA&gt;</td>\n",
       "    </tr>\n",
       "    <tr>\n",
       "      <th>885</th>\n",
       "      <td>382652</td>\n",
       "      <td>&lt;NA&gt;</td>\n",
       "    </tr>\n",
       "  </tbody>\n",
       "</table>\n",
       "<p>81 rows × 2 columns</p>\n",
       "</div>"
      ],
      "text/plain": [
       "       Ticket Cabin\n",
       "7      349909  <NA>\n",
       "13     347082  <NA>\n",
       "16     382652  <NA>\n",
       "24     349909  <NA>\n",
       "25     347077  <NA>\n",
       "..        ...   ...\n",
       "846  CA. 2343  <NA>\n",
       "850    347082  <NA>\n",
       "858      2666  <NA>\n",
       "863  CA. 2343  <NA>\n",
       "885    382652  <NA>\n",
       "\n",
       "[81 rows x 2 columns]"
      ]
     },
     "execution_count": 59,
     "metadata": {},
     "output_type": "execute_result"
    }
   ],
   "source": [
    "# Kombinieren von \"Ticket\" und \"Cabin\" in einer Spalte und Verwenden von value_counts() \n",
    "ticket_cabin_counts = t[['Ticket', 'Cabin']].astype(str).agg('_'.join, axis=1).value_counts()\n",
    "\n",
    "# Filtern der Kombinationen, die mindestens 4 Duplikate haben\n",
    "duplicates = ticket_cabin_counts[ticket_cabin_counts >= 4].index.tolist()\n",
    "\n",
    "# Filtern des DataFrames, um Passagiere mit den identifizierten \"Ticket\" und \"Cabin\"-Kombinationen zu erhalten\n",
    "passengers_with_duplicates_value_counts = t[t[['Ticket', 'Cabin']].astype(str).agg('_'.join, axis=1).isin(duplicates)]\n",
    "\n",
    "passengers_with_duplicates_value_counts[['Ticket', 'Cabin']]"
   ]
  },
  {
   "attachments": {},
   "cell_type": "markdown",
   "metadata": {},
   "source": [
    "## 6.6 Wie wird man ein SQL-HAVING in pandas abbilden?"
   ]
  },
  {
   "attachments": {},
   "cell_type": "markdown",
   "metadata": {},
   "source": [
    "In SQL wird das HAVING-Schlüsselwort verwendet, um Bedingungen nach einer Aggregation anzuwenden. In Pandas können Sie eine ähnliche Funktionalität erreichen, indem Sie die Methode groupby() verwenden, gefolgt von einer Aggregationsfunktion und dann die resultierenden Gruppen mit einer Bedingung filtern.\n",
    "\n",
    "Zusammenfassend lässt sich sagen, dass Sie in Pandas das HAVING-Schlüsselwort aus SQL durch die Kombination von groupby(), agg() und Bedingungen mit loc[] abbilden können."
   ]
  }
 ],
 "metadata": {
  "kernelspec": {
   "display_name": "base",
   "language": "python",
   "name": "python3"
  },
  "language_info": {
   "codemirror_mode": {
    "name": "ipython",
    "version": 3
   },
   "file_extension": ".py",
   "mimetype": "text/x-python",
   "name": "python",
   "nbconvert_exporter": "python",
   "pygments_lexer": "ipython3",
   "version": "3.10.9"
  },
  "orig_nbformat": 4
 },
 "nbformat": 4,
 "nbformat_minor": 2
}
